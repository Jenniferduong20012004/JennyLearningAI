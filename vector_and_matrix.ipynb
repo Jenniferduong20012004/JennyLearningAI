{
  "nbformat": 4,
  "nbformat_minor": 0,
  "metadata": {
    "colab": {
      "provenance": [],
      "authorship_tag": "ABX9TyNDBtoxxoSWSRw62rHuLaLC",
      "include_colab_link": true
    },
    "kernelspec": {
      "name": "python3",
      "display_name": "Python 3"
    },
    "language_info": {
      "name": "python"
    }
  },
  "cells": [
    {
      "cell_type": "markdown",
      "metadata": {
        "id": "view-in-github",
        "colab_type": "text"
      },
      "source": [
        "<a href=\"https://colab.research.google.com/github/Jenniferduong20012004/JennyLearningAI/blob/main/vector_and_matrix.ipynb\" target=\"_parent\"><img src=\"https://colab.research.google.com/assets/colab-badge.svg\" alt=\"Open In Colab\"/></a>"
      ]
    },
    {
      "cell_type": "code",
      "execution_count": 2,
      "metadata": {
        "colab": {
          "base_uri": "https://localhost:8080/"
        },
        "id": "wxEKlg5Z1ZGu",
        "outputId": "ee4ff8f8-6c96-4ccd-824e-b53af0093b07"
      },
      "outputs": [
        {
          "output_type": "stream",
          "name": "stdout",
          "text": [
            "[6, 8, 10]\n",
            "[ 6  8 10]\n",
            "[6, 8, 10]\n"
          ]
        }
      ],
      "source": [
        "#add vector\n",
        "#by list comprehension\n",
        "import numpy as np\n",
        "def add_vector(v1,v2):\n",
        "  result = [v1[i]+v2[i] for i in range (len(v1))]\n",
        "  return result\n",
        "#by zip\n",
        "def add_v(v1,v2):\n",
        "  return [v1+v2 for v1,v2 in zip(v1,v2)]\n",
        "data1 = np.array([1,2,3])\n",
        "data2 = np.array ([5,6,7])\n",
        "print (add_vector(data1, data2))\n",
        "print (data1+data2)\n",
        "print (add_v(data1, data2))"
      ]
    },
    {
      "cell_type": "code",
      "source": [
        "#minus vector\n",
        "result = data1-data2\n",
        "print (result)"
      ],
      "metadata": {
        "colab": {
          "base_uri": "https://localhost:8080/"
        },
        "id": "54pv7DG95sE1",
        "outputId": "66f644b9-b0fa-4f9a-cfdd-05c0649d4135"
      },
      "execution_count": 4,
      "outputs": [
        {
          "output_type": "stream",
          "name": "stdout",
          "text": [
            "[-4 -4 -4]\n"
          ]
        }
      ]
    },
    {
      "cell_type": "code",
      "source": [
        "#division and hadamard multiple vector\n",
        "resultdiv = data1/data2\n",
        "resultmul = data1*data2\n",
        "print (resultdiv, resultmul)"
      ],
      "metadata": {
        "colab": {
          "base_uri": "https://localhost:8080/"
        },
        "id": "5CkHuZS76FUh",
        "outputId": "ed93cba6-06c9-4950-dbfe-20ff1880b7f5"
      },
      "execution_count": 6,
      "outputs": [
        {
          "output_type": "stream",
          "name": "stdout",
          "text": [
            "[0.2        0.33333333 0.42857143] [ 5 12 21]\n"
          ]
        }
      ]
    },
    {
      "cell_type": "code",
      "source": [
        "#zeros\n",
        "import numpy as np\n",
        "data = np.zeros((1,2))\n",
        "print (data)"
      ],
      "metadata": {
        "colab": {
          "base_uri": "https://localhost:8080/"
        },
        "id": "Zf7ASD9h738P",
        "outputId": "656d7c48-4841-4597-e063-44622aac31d4"
      },
      "execution_count": 7,
      "outputs": [
        {
          "output_type": "stream",
          "name": "stdout",
          "text": [
            "[[0. 0.]]\n"
          ]
        }
      ]
    },
    {
      "cell_type": "code",
      "source": [
        "test = [[0]*5 for i in range (3)]\n",
        "print (test)"
      ],
      "metadata": {
        "colab": {
          "base_uri": "https://localhost:8080/"
        },
        "id": "AHRSvG908atI",
        "outputId": "89d149dc-8497-42c0-bb41-927edcbafdbf"
      },
      "execution_count": 10,
      "outputs": [
        {
          "output_type": "stream",
          "name": "stdout",
          "text": [
            "[[0, 0, 0, 0, 0], [0, 0, 0, 0, 0], [0, 0, 0, 0, 0]]\n"
          ]
        }
      ]
    },
    {
      "cell_type": "code",
      "source": [
        "#where\n",
        "data_where = np.array([1,2,3,4,5,6])\n",
        "result = np.where (data_where<=3,0,data_where) # condition, true, false\n",
        "print (result)"
      ],
      "metadata": {
        "colab": {
          "base_uri": "https://localhost:8080/"
        },
        "id": "dIgEY4DQ89vb",
        "outputId": "92b0fc7f-645b-4cc8-fed3-9928e7859436"
      },
      "execution_count": 12,
      "outputs": [
        {
          "output_type": "stream",
          "name": "stdout",
          "text": [
            "[0 0 0 4 5 6]\n"
          ]
        }
      ]
    }
  ]
}