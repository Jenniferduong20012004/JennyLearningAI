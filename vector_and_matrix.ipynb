{
  "nbformat": 4,
  "nbformat_minor": 0,
  "metadata": {
    "colab": {
      "provenance": [],
      "authorship_tag": "ABX9TyPoI0j7MHoBRhlkp4bzS3w+",
      "include_colab_link": true
    },
    "kernelspec": {
      "name": "python3",
      "display_name": "Python 3"
    },
    "language_info": {
      "name": "python"
    }
  },
  "cells": [
    {
      "cell_type": "markdown",
      "metadata": {
        "id": "view-in-github",
        "colab_type": "text"
      },
      "source": [
        "<a href=\"https://colab.research.google.com/github/Jenniferduong20012004/JennyLearningAI/blob/main/vector_and_matrix.ipynb\" target=\"_parent\"><img src=\"https://colab.research.google.com/assets/colab-badge.svg\" alt=\"Open In Colab\"/></a>"
      ]
    },
    {
      "cell_type": "code",
      "execution_count": 2,
      "metadata": {
        "colab": {
          "base_uri": "https://localhost:8080/"
        },
        "id": "wxEKlg5Z1ZGu",
        "outputId": "ee4ff8f8-6c96-4ccd-824e-b53af0093b07"
      },
      "outputs": [
        {
          "output_type": "stream",
          "name": "stdout",
          "text": [
            "[6, 8, 10]\n",
            "[ 6  8 10]\n",
            "[6, 8, 10]\n"
          ]
        }
      ],
      "source": [
        "#add vector\n",
        "#by list comprehension\n",
        "import numpy as np\n",
        "def add_vector(v1,v2):\n",
        "  result = [v1[i]+v2[i] for i in range (len(v1))]\n",
        "  return result\n",
        "#by zip\n",
        "def add_v(v1,v2):\n",
        "  return [v1+v2 for v1,v2 in zip(v1,v2)]\n",
        "data1 = np.array([1,2,3])\n",
        "data2 = np.array ([5,6,7])\n",
        "print (add_vector(data1, data2))\n",
        "print (data1+data2)\n",
        "print (add_v(data1, data2))"
      ]
    },
    {
      "cell_type": "code",
      "source": [
        "#minus vector\n",
        "result = data1-data2\n",
        "print (result)"
      ],
      "metadata": {
        "colab": {
          "base_uri": "https://localhost:8080/"
        },
        "id": "54pv7DG95sE1",
        "outputId": "66f644b9-b0fa-4f9a-cfdd-05c0649d4135"
      },
      "execution_count": 4,
      "outputs": [
        {
          "output_type": "stream",
          "name": "stdout",
          "text": [
            "[-4 -4 -4]\n"
          ]
        }
      ]
    }
  ]
}