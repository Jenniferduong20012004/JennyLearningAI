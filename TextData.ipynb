{
  "nbformat": 4,
  "nbformat_minor": 0,
  "metadata": {
    "colab": {
      "provenance": [],
      "authorship_tag": "ABX9TyNPaXO3+fIh/v9OW0o1o7sd",
      "include_colab_link": true
    },
    "kernelspec": {
      "name": "python3",
      "display_name": "Python 3"
    },
    "language_info": {
      "name": "python"
    }
  },
  "cells": [
    {
      "cell_type": "markdown",
      "metadata": {
        "id": "view-in-github",
        "colab_type": "text"
      },
      "source": [
        "<a href=\"https://colab.research.google.com/github/Jenniferduong20012004/JennyLearningAI/blob/main/TextData.ipynb\" target=\"_parent\"><img src=\"https://colab.research.google.com/assets/colab-badge.svg\" alt=\"Open In Colab\"/></a>"
      ]
    },
    {
      "cell_type": "code",
      "execution_count": 6,
      "metadata": {
        "colab": {
          "base_uri": "https://localhost:8080/"
        },
        "id": "NWfz0OSRe9Db",
        "outputId": "a12eafd0-8575-424b-87fc-4d9f99299234"
      },
      "outputs": [
        {
          "output_type": "stream",
          "name": "stdout",
          "text": [
            "She is Duong Thi Quynh Nhu Nhu Nhu\n"
          ]
        }
      ],
      "source": [
        "#String\n",
        "s1 = \"I am Duong Thi Quynh Nhu Nhu Nhu\"\n",
        "s2 = s1.replace (\"I am\", \"She is\")\n",
        "print (s2)"
      ]
    },
    {
      "cell_type": "code",
      "source": [
        "s1.count('')"
      ],
      "metadata": {
        "colab": {
          "base_uri": "https://localhost:8080/"
        },
        "id": "QHdcAoLewFsO",
        "outputId": "3eacb36a-80fc-4390-e0a3-2e08564304ba"
      },
      "execution_count": 7,
      "outputs": [
        {
          "output_type": "execute_result",
          "data": {
            "text/plain": [
              "33"
            ]
          },
          "metadata": {},
          "execution_count": 7
        }
      ]
    },
    {
      "cell_type": "code",
      "source": [
        "s1.upper()"
      ],
      "metadata": {
        "colab": {
          "base_uri": "https://localhost:8080/",
          "height": 35
        },
        "id": "WyuofV1jwm09",
        "outputId": "f548f2d2-a603-40e3-a255-81a05e790371"
      },
      "execution_count": 8,
      "outputs": [
        {
          "output_type": "execute_result",
          "data": {
            "text/plain": [
              "'I AM DUONG THI QUYNH NHU NHU NHU'"
            ],
            "application/vnd.google.colaboratory.intrinsic+json": {
              "type": "string"
            }
          },
          "metadata": {},
          "execution_count": 8
        }
      ]
    },
    {
      "cell_type": "code",
      "source": [
        "s1.lower()"
      ],
      "metadata": {
        "id": "5ZVpJLc5wowT",
        "outputId": "68137ee7-60a4-4fb0-b72e-9bb1e048ef94",
        "colab": {
          "base_uri": "https://localhost:8080/",
          "height": 35
        }
      },
      "execution_count": 9,
      "outputs": [
        {
          "output_type": "execute_result",
          "data": {
            "text/plain": [
              "'i am duong thi quynh nhu nhu nhu'"
            ],
            "application/vnd.google.colaboratory.intrinsic+json": {
              "type": "string"
            }
          },
          "metadata": {},
          "execution_count": 9
        }
      ]
    }
  ]
}