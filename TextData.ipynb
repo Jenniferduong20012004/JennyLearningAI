{
  "nbformat": 4,
  "nbformat_minor": 0,
  "metadata": {
    "colab": {
      "provenance": [],
      "authorship_tag": "ABX9TyPJ/MtRRllbIC911GkJ6o49",
      "include_colab_link": true
    },
    "kernelspec": {
      "name": "python3",
      "display_name": "Python 3"
    },
    "language_info": {
      "name": "python"
    }
  },
  "cells": [
    {
      "cell_type": "markdown",
      "metadata": {
        "id": "view-in-github",
        "colab_type": "text"
      },
      "source": [
        "<a href=\"https://colab.research.google.com/github/Jenniferduong20012004/JennyLearningAI/blob/main/TextData.ipynb\" target=\"_parent\"><img src=\"https://colab.research.google.com/assets/colab-badge.svg\" alt=\"Open In Colab\"/></a>"
      ]
    },
    {
      "cell_type": "code",
      "source": [
        "from google.colab import drive\n",
        "drive.mount ('/content/gdrive')"
      ],
      "metadata": {
        "colab": {
          "base_uri": "https://localhost:8080/"
        },
        "id": "dhfrHl5mx0NZ",
        "outputId": "9620c422-b092-472f-f88d-d6e229a98c0e"
      },
      "execution_count": 8,
      "outputs": [
        {
          "output_type": "stream",
          "name": "stdout",
          "text": [
            "Drive already mounted at /content/gdrive; to attempt to forcibly remount, call drive.mount(\"/content/gdrive\", force_remount=True).\n"
          ]
        }
      ]
    },
    {
      "cell_type": "code",
      "execution_count": 10,
      "metadata": {
        "colab": {
          "base_uri": "https://localhost:8080/"
        },
        "id": "NWfz0OSRe9Db",
        "outputId": "07a9b62e-bf60-450b-e848-f044e3c02f01"
      },
      "outputs": [
        {
          "output_type": "stream",
          "name": "stdout",
          "text": [
            "  She is Duong Thi Quynh Nhu Nhu Nhu  \n"
          ]
        }
      ],
      "source": [
        "#String\n",
        "s1 = \"  I am Duong Thi Quynh Nhu Nhu Nhu  \"\n",
        "s2 = s1.replace (\"I am\", \"She is\")\n",
        "print (s2)"
      ]
    },
    {
      "cell_type": "code",
      "source": [
        "s1.count('')"
      ],
      "metadata": {
        "colab": {
          "base_uri": "https://localhost:8080/"
        },
        "id": "QHdcAoLewFsO",
        "outputId": "c387661b-5424-4c38-b8c4-c1e9fef1e999"
      },
      "execution_count": 11,
      "outputs": [
        {
          "output_type": "execute_result",
          "data": {
            "text/plain": [
              "37"
            ]
          },
          "metadata": {},
          "execution_count": 11
        }
      ]
    },
    {
      "cell_type": "code",
      "source": [
        "s1.upper()"
      ],
      "metadata": {
        "colab": {
          "base_uri": "https://localhost:8080/",
          "height": 35
        },
        "id": "WyuofV1jwm09",
        "outputId": "93962f9a-b691-4156-b3a2-dcadf427a953"
      },
      "execution_count": 12,
      "outputs": [
        {
          "output_type": "execute_result",
          "data": {
            "text/plain": [
              "'  I AM DUONG THI QUYNH NHU NHU NHU  '"
            ],
            "application/vnd.google.colaboratory.intrinsic+json": {
              "type": "string"
            }
          },
          "metadata": {},
          "execution_count": 12
        }
      ]
    },
    {
      "cell_type": "code",
      "source": [
        "s1.lower()"
      ],
      "metadata": {
        "colab": {
          "base_uri": "https://localhost:8080/",
          "height": 35
        },
        "id": "5ZVpJLc5wowT",
        "outputId": "c6cc7b7f-f5e8-4df2-ff02-80ec5ac1828f"
      },
      "execution_count": 13,
      "outputs": [
        {
          "output_type": "execute_result",
          "data": {
            "text/plain": [
              "'  i am duong thi quynh nhu nhu nhu  '"
            ],
            "application/vnd.google.colaboratory.intrinsic+json": {
              "type": "string"
            }
          },
          "metadata": {},
          "execution_count": 13
        }
      ]
    },
    {
      "cell_type": "code",
      "source": [
        "s1.strip()"
      ],
      "metadata": {
        "colab": {
          "base_uri": "https://localhost:8080/",
          "height": 35
        },
        "id": "E9iMS6D9w4_7",
        "outputId": "cd3b4682-6785-4810-bbc0-321c423dc6bc"
      },
      "execution_count": 14,
      "outputs": [
        {
          "output_type": "execute_result",
          "data": {
            "text/plain": [
              "'I am Duong Thi Quynh Nhu Nhu Nhu'"
            ],
            "application/vnd.google.colaboratory.intrinsic+json": {
              "type": "string"
            }
          },
          "metadata": {},
          "execution_count": 14
        }
      ]
    },
    {
      "cell_type": "code",
      "source": [
        "s1.split()#thành list các string"
      ],
      "metadata": {
        "colab": {
          "base_uri": "https://localhost:8080/"
        },
        "id": "158wgGDEw7zX",
        "outputId": "734ac403-28e4-4f76-f025-9524fdcb6a19"
      },
      "execution_count": 19,
      "outputs": [
        {
          "output_type": "execute_result",
          "data": {
            "text/plain": [
              "['I', 'am', 'Duong', 'Thi', 'Quynh', 'Nhu', 'Nhu', 'Nhu']"
            ]
          },
          "metadata": {},
          "execution_count": 19
        }
      ]
    },
    {
      "cell_type": "code",
      "source": [
        "#cách đọc data từ python\n",
        "# lưu file txt\n",
        "fr =open ('/content/gdrive/MyDrive/AIVietnam/keywords.txt', 'r')\n",
        "#mở\n",
        "data = fr.read()\n",
        "#đóng\n",
        "fr.close()\n",
        "#nếu ko đóng thì sẽ luôn có kết nối với file --> thay đổi trong file dẫn đến báo lỗi"
      ],
      "metadata": {
        "id": "NVWDnVdLxJ2f"
      },
      "execution_count": 7,
      "outputs": []
    },
    {
      "cell_type": "code",
      "source": [
        "data"
      ],
      "metadata": {
        "colab": {
          "base_uri": "https://localhost:8080/",
          "height": 140
        },
        "id": "nG_1mROUw7B2",
        "outputId": "e0bcabb5-7956-4504-c041-1f86d878cfb3"
      },
      "execution_count": 4,
      "outputs": [
        {
          "output_type": "execute_result",
          "data": {
            "text/plain": [
              "'###########################################\\n# Syntax Coloring Map For DHT-sensor-library\\n###########################################\\n\\n###########################################\\n# Datatypes (KEYWORD1)\\n###########################################\\n\\nDHT\\tKEYWORD1\\n\\n###########################################\\n# Methods and Functions (KEYWORD2)\\n###########################################\\n\\nbegin\\tKEYWORD2\\nreadTemperature\\tKEYWORD2\\nconvertCtoF\\tKEYWORD2\\nconvertFtoC\\tKEYWORD2\\ncomputeHeatIndex\\tKEYWORD2\\nreadHumidity\\tKEYWORD2\\nread\\tKEYWORD2\\n\\n'"
            ],
            "application/vnd.google.colaboratory.intrinsic+json": {
              "type": "string"
            }
          },
          "metadata": {},
          "execution_count": 4
        }
      ]
    },
    {
      "cell_type": "code",
      "source": [
        "print (data)"
      ],
      "metadata": {
        "colab": {
          "base_uri": "https://localhost:8080/"
        },
        "id": "upJd6KFcxGWW",
        "outputId": "536b07d5-c3bc-43ef-afba-00800ee914f3"
      },
      "execution_count": 5,
      "outputs": [
        {
          "output_type": "stream",
          "name": "stdout",
          "text": [
            "###########################################\n",
            "# Syntax Coloring Map For DHT-sensor-library\n",
            "###########################################\n",
            "\n",
            "###########################################\n",
            "# Datatypes (KEYWORD1)\n",
            "###########################################\n",
            "\n",
            "DHT\tKEYWORD1\n",
            "\n",
            "###########################################\n",
            "# Methods and Functions (KEYWORD2)\n",
            "###########################################\n",
            "\n",
            "begin\tKEYWORD2\n",
            "readTemperature\tKEYWORD2\n",
            "convertCtoF\tKEYWORD2\n",
            "convertFtoC\tKEYWORD2\n",
            "computeHeatIndex\tKEYWORD2\n",
            "readHumidity\tKEYWORD2\n",
            "read\tKEYWORD2\n",
            "\n",
            "\n"
          ]
        }
      ]
    },
    {
      "cell_type": "code",
      "source": [
        "# cách khác ko cần close\n",
        "with open ('/content/gdrive/MyDrive/AIVietnam/license.txt') as dt:\n",
        "  data_new = dt.read()\n",
        "print (data_new)"
      ],
      "metadata": {
        "colab": {
          "base_uri": "https://localhost:8080/"
        },
        "id": "TxiKznZDyPdM",
        "outputId": "8c3adafc-a8e3-4fc6-ac2a-5445f0d22d88"
      },
      "execution_count": 10,
      "outputs": [
        {
          "output_type": "stream",
          "name": "stdout",
          "text": [
            "Copyright (c) 2020 Adafruit Industries\n",
            "\n",
            "\n",
            "Permission is hereby granted, free of charge, to any person obtaining a copy\n",
            "of this software and associated documentation files (the \"Software\"), to deal\n",
            "in the Software without restriction, including without limitation the rights\n",
            "to use, copy, modify, merge, publish, distribute, sublicense, and/or sell\n",
            "copies of the Software, and to permit persons to whom the Software is\n",
            "furnished to do so, subject to the following conditions:\n",
            "\n",
            "The above copyright notice and this permission notice shall be included in all\n",
            "copies or substantial portions of the Software.\n",
            "\n",
            "THE SOFTWARE IS PROVIDED \"AS IS\", WITHOUT WARRANTY OF ANY KIND,\n",
            "EXPRESS OR IMPLIED, INCLUDING BUT NOT LIMITED TO THE WARRANTIES OF\n",
            "MERCHANTABILITY, FITNESS FOR A PARTICULAR PURPOSE AND NONINFRINGEMENT.\n",
            "IN NO EVENT SHALL THE AUTHORS OR COPYRIGHT HOLDERS BE LIABLE FOR ANY CLAIM,\n",
            "DAMAGES OR OTHER LIABILITY, WHETHER IN AN ACTION OF CONTRACT, TORT OR\n",
            "OTHERWISE, ARISING FROM, OUT OF OR IN CONNECTION WITH THE SOFTWARE OR THE USE\n",
            "OR OTHER DEALINGS IN THE SOFTWARE.\n",
            "\n"
          ]
        }
      ]
    },
    {
      "cell_type": "code",
      "source": [
        "data.replace (\"\\n\", \" \")"
      ],
      "metadata": {
        "colab": {
          "base_uri": "https://localhost:8080/",
          "height": 140
        },
        "id": "WJvmtH1yxUTX",
        "outputId": "e1bff3cd-6da7-471d-cd66-b82ef7e538a2"
      },
      "execution_count": 6,
      "outputs": [
        {
          "output_type": "execute_result",
          "data": {
            "text/plain": [
              "'########################################### # Syntax Coloring Map For DHT-sensor-library ###########################################  ########################################### # Datatypes (KEYWORD1) ###########################################  DHT\\tKEYWORD1  ########################################### # Methods and Functions (KEYWORD2) ###########################################  begin\\tKEYWORD2 readTemperature\\tKEYWORD2 convertCtoF\\tKEYWORD2 convertFtoC\\tKEYWORD2 computeHeatIndex\\tKEYWORD2 readHumidity\\tKEYWORD2 read\\tKEYWORD2  '"
            ],
            "application/vnd.google.colaboratory.intrinsic+json": {
              "type": "string"
            }
          },
          "metadata": {},
          "execution_count": 6
        }
      ]
    },
    {
      "cell_type": "code",
      "source": [
        "with open ('/content/gdrive/MyDrive/AIVietnam/license.txt') as dtap:\n",
        "  #đọc từng dòng\n",
        "  thisData=dtap.readlines()\n",
        "print (thisData)\n",
        "#trả list các chuỗi"
      ],
      "metadata": {
        "colab": {
          "base_uri": "https://localhost:8080/"
        },
        "id": "5z6NHfB3zRT1",
        "outputId": "83f85f84-2644-4d8f-d0de-3bd217125a0b"
      },
      "execution_count": 12,
      "outputs": [
        {
          "output_type": "stream",
          "name": "stdout",
          "text": [
            "['Copyright (c) 2020 Adafruit Industries\\n', '\\n', '\\n', 'Permission is hereby granted, free of charge, to any person obtaining a copy\\n', 'of this software and associated documentation files (the \"Software\"), to deal\\n', 'in the Software without restriction, including without limitation the rights\\n', 'to use, copy, modify, merge, publish, distribute, sublicense, and/or sell\\n', 'copies of the Software, and to permit persons to whom the Software is\\n', 'furnished to do so, subject to the following conditions:\\n', '\\n', 'The above copyright notice and this permission notice shall be included in all\\n', 'copies or substantial portions of the Software.\\n', '\\n', 'THE SOFTWARE IS PROVIDED \"AS IS\", WITHOUT WARRANTY OF ANY KIND,\\n', 'EXPRESS OR IMPLIED, INCLUDING BUT NOT LIMITED TO THE WARRANTIES OF\\n', 'MERCHANTABILITY, FITNESS FOR A PARTICULAR PURPOSE AND NONINFRINGEMENT.\\n', 'IN NO EVENT SHALL THE AUTHORS OR COPYRIGHT HOLDERS BE LIABLE FOR ANY CLAIM,\\n', 'DAMAGES OR OTHER LIABILITY, WHETHER IN AN ACTION OF CONTRACT, TORT OR\\n', 'OTHERWISE, ARISING FROM, OUT OF OR IN CONNECTION WITH THE SOFTWARE OR THE USE\\n', 'OR OTHER DEALINGS IN THE SOFTWARE.\\n']\n"
          ]
        }
      ]
    },
    {
      "cell_type": "code",
      "source": [
        "#ghi thêm vào txt\n",
        "with open ('/content/gdrive/MyDrive/AIVietnam/test.txt', 'w') as data_new:\n",
        "  data_new.write (\"123456\\n\")\n",
        "  data_new.write(\"ABCD\")\n"
      ],
      "metadata": {
        "id": "e_TLwAen3pT-"
      },
      "execution_count": 15,
      "outputs": []
    },
    {
      "cell_type": "code",
      "source": [
        "sample1 = \"Deep learning book\"\n",
        "sample2 = \"Machine learning algorithm\"\n",
        "sample3 = \"Learning AI from scratch\"\n",
        "sample4 = \"AI Vietnam\"\n",
        "sample5 = \"AI Vietnam Vietnam Vietnam\""
      ],
      "metadata": {
        "id": "8YHe2LLm9XIz"
      },
      "execution_count": 58,
      "outputs": []
    },
    {
      "cell_type": "code",
      "source": [
        "sample1= sample1.lower()\n",
        "sample2= sample2.lower()\n",
        "sample3= sample3.lower()\n",
        "sample4= sample4.lower()\n",
        "sample5= sample5.lower()"
      ],
      "metadata": {
        "id": "VV_aitIb_FWv"
      },
      "execution_count": 59,
      "outputs": []
    },
    {
      "cell_type": "code",
      "source": [
        "print (sample1, sample2, sample3, sample4, sample5)"
      ],
      "metadata": {
        "colab": {
          "base_uri": "https://localhost:8080/"
        },
        "id": "W-BURt8j_T3T",
        "outputId": "8c611803-baed-4822-a819-e593ce11d7d2"
      },
      "execution_count": 60,
      "outputs": [
        {
          "output_type": "stream",
          "name": "stdout",
          "text": [
            "deep learning book machine learning algorithm learning ai from scratch ai vietnam ai vietnam vietnam vietnam\n"
          ]
        }
      ]
    },
    {
      "cell_type": "code",
      "source": [
        "sample1_list = sample1.split()\n",
        "sample2_list = sample2.split()\n",
        "sample3_list = sample3.split()\n",
        "sample4_list = sample4.split()\n",
        "sample5_list = sample5.split()"
      ],
      "metadata": {
        "id": "AeOz-Tew_Zud"
      },
      "execution_count": 61,
      "outputs": []
    },
    {
      "cell_type": "code",
      "source": [
        "word= sample1_list+sample2_list+sample3_list+sample4_list + sample5_list"
      ],
      "metadata": {
        "id": "CBXUK_2i_jvJ"
      },
      "execution_count": 62,
      "outputs": []
    },
    {
      "cell_type": "code",
      "source": [
        "print (word)"
      ],
      "metadata": {
        "colab": {
          "base_uri": "https://localhost:8080/"
        },
        "id": "kRevRCxL_3Yg",
        "outputId": "615fac65-c117-4943-ae98-a77ddf200ced"
      },
      "execution_count": 63,
      "outputs": [
        {
          "output_type": "stream",
          "name": "stdout",
          "text": [
            "['deep', 'learning', 'book', 'machine', 'learning', 'algorithm', 'learning', 'ai', 'from', 'scratch', 'ai', 'vietnam', 'ai', 'vietnam', 'vietnam', 'vietnam']\n"
          ]
        }
      ]
    },
    {
      "cell_type": "code",
      "source": [
        "vocabulary = []\n",
        "for i in (word):\n",
        "  if i not in vocabulary:\n",
        "    vocabulary.append (i)\n",
        "print (vocabulary)"
      ],
      "metadata": {
        "colab": {
          "base_uri": "https://localhost:8080/"
        },
        "id": "q84cYfnI_65A",
        "outputId": "5bafc6c6-b6d5-4f99-86a9-61dc75d7d5ec"
      },
      "execution_count": 64,
      "outputs": [
        {
          "output_type": "stream",
          "name": "stdout",
          "text": [
            "['deep', 'learning', 'book', 'machine', 'algorithm', 'ai', 'from', 'scratch', 'vietnam']\n"
          ]
        }
      ]
    },
    {
      "cell_type": "code",
      "source": [
        "length = len (vocabulary)\n",
        "sample1_vec = [0]*length\n",
        "sample2_vec = [0]*length\n",
        "sample3_vec = [0]*length\n",
        "sample4_vec = [0]*length\n",
        "sample5_vec = [0]*length"
      ],
      "metadata": {
        "id": "nkftc716KBu1"
      },
      "execution_count": 67,
      "outputs": []
    },
    {
      "cell_type": "code",
      "source": [
        "for index, word in enumerate (vocabulary):\n",
        "  sample1_vec[index] +=sample1_list.count (word)\n",
        "print (sample1_vec)"
      ],
      "metadata": {
        "colab": {
          "base_uri": "https://localhost:8080/"
        },
        "id": "a6XTFJo9DVUJ",
        "outputId": "36ee6363-639e-4441-ed78-daf8c104c0de"
      },
      "execution_count": 68,
      "outputs": [
        {
          "output_type": "stream",
          "name": "stdout",
          "text": [
            "[1, 1, 1, 0, 0, 0, 0, 0, 0]\n"
          ]
        }
      ]
    },
    {
      "cell_type": "code",
      "source": [
        "for index, word in enumerate (vocabulary):\n",
        "  sample2_vec[index] +=sample2_list.count (word)\n",
        "print (sample2_vec)"
      ],
      "metadata": {
        "colab": {
          "base_uri": "https://localhost:8080/"
        },
        "id": "wKS7q4oBPPC_",
        "outputId": "b14f415d-1a11-40cf-95f6-fea44c8d8390"
      },
      "execution_count": 69,
      "outputs": [
        {
          "output_type": "stream",
          "name": "stdout",
          "text": [
            "[0, 1, 0, 1, 1, 0, 0, 0, 0]\n"
          ]
        }
      ]
    },
    {
      "cell_type": "code",
      "source": [
        "for index, word in enumerate (vocabulary):\n",
        "  sample3_vec[index] +=sample3_list.count (word)\n",
        "print (sample3_vec)"
      ],
      "metadata": {
        "colab": {
          "base_uri": "https://localhost:8080/"
        },
        "id": "SXD8dp0fPh6Z",
        "outputId": "bc0ea9c5-a6b8-475b-a269-acb68fa08c71"
      },
      "execution_count": 70,
      "outputs": [
        {
          "output_type": "stream",
          "name": "stdout",
          "text": [
            "[0, 1, 0, 0, 0, 1, 1, 1, 0]\n"
          ]
        }
      ]
    },
    {
      "cell_type": "code",
      "source": [
        "for index, word in enumerate (vocabulary):\n",
        "  sample4_vec[index] +=sample4_list.count (word)\n",
        "print (sample4_vec)"
      ],
      "metadata": {
        "colab": {
          "base_uri": "https://localhost:8080/"
        },
        "id": "7nrNL68rQgF1",
        "outputId": "a03181ae-dfab-4e08-e541-0a6fac61ba44"
      },
      "execution_count": 71,
      "outputs": [
        {
          "output_type": "stream",
          "name": "stdout",
          "text": [
            "[0, 0, 0, 0, 0, 1, 0, 0, 1]\n"
          ]
        }
      ]
    },
    {
      "cell_type": "code",
      "source": [
        "for index, word in enumerate (vocabulary):\n",
        "  sample5_vec[index] +=sample5_list.count (word)\n",
        "print (sample5_vec)"
      ],
      "metadata": {
        "colab": {
          "base_uri": "https://localhost:8080/"
        },
        "id": "lDERQIdQgCsI",
        "outputId": "a0afbb35-996b-4d11-8a60-269b057ea6af"
      },
      "execution_count": 72,
      "outputs": [
        {
          "output_type": "stream",
          "name": "stdout",
          "text": [
            "[0, 0, 0, 0, 0, 1, 0, 0, 3]\n"
          ]
        }
      ]
    },
    {
      "cell_type": "code",
      "source": [
        "#cách làm bản thân\n",
        "sample5_test = [0]*length\n",
        "for i in range (len(sample5_list)):\n",
        "  for j in range (len(vocabulary)):\n",
        "    if vocabulary[j] in sample5_list[i]:\n",
        "      sample5_test[j]+=1\n",
        "\n",
        "print (sample5_test)"
      ],
      "metadata": {
        "colab": {
          "base_uri": "https://localhost:8080/"
        },
        "id": "8jHibXVnd_Q7",
        "outputId": "b6d9584f-f7aa-45be-893d-caa71417bdb0"
      },
      "execution_count": 66,
      "outputs": [
        {
          "output_type": "stream",
          "name": "stdout",
          "text": [
            "[0, 0, 0, 0, 0, 1, 0, 0, 3]\n"
          ]
        }
      ]
    }
  ]
}