{
  "nbformat": 4,
  "nbformat_minor": 0,
  "metadata": {
    "colab": {
      "provenance": [],
      "authorship_tag": "ABX9TyNaC4oAPTOCeRm6BQcb8pTM",
      "include_colab_link": true
    },
    "kernelspec": {
      "name": "python3",
      "display_name": "Python 3"
    },
    "language_info": {
      "name": "python"
    }
  },
  "cells": [
    {
      "cell_type": "markdown",
      "metadata": {
        "id": "view-in-github",
        "colab_type": "text"
      },
      "source": [
        "<a href=\"https://colab.research.google.com/github/Jenniferduong20012004/JennyLearningAI/blob/main/TextData.ipynb\" target=\"_parent\"><img src=\"https://colab.research.google.com/assets/colab-badge.svg\" alt=\"Open In Colab\"/></a>"
      ]
    },
    {
      "cell_type": "code",
      "source": [
        "from google.colab import drive\n",
        "drive.mount ('/content/gdrive')"
      ],
      "metadata": {
        "colab": {
          "base_uri": "https://localhost:8080/"
        },
        "id": "dhfrHl5mx0NZ",
        "outputId": "c6b7b8a7-b297-4a28-ac96-a7d50ba273c5"
      },
      "execution_count": 1,
      "outputs": [
        {
          "output_type": "stream",
          "name": "stdout",
          "text": [
            "Mounted at /content/gdrive\n"
          ]
        }
      ]
    },
    {
      "cell_type": "code",
      "execution_count": 10,
      "metadata": {
        "colab": {
          "base_uri": "https://localhost:8080/"
        },
        "id": "NWfz0OSRe9Db",
        "outputId": "07a9b62e-bf60-450b-e848-f044e3c02f01"
      },
      "outputs": [
        {
          "output_type": "stream",
          "name": "stdout",
          "text": [
            "  She is Duong Thi Quynh Nhu Nhu Nhu  \n"
          ]
        }
      ],
      "source": [
        "#String\n",
        "s1 = \"  I am Duong Thi Quynh Nhu Nhu Nhu  \"\n",
        "s2 = s1.replace (\"I am\", \"She is\")\n",
        "print (s2)"
      ]
    },
    {
      "cell_type": "code",
      "source": [
        "s1.count('')"
      ],
      "metadata": {
        "colab": {
          "base_uri": "https://localhost:8080/"
        },
        "id": "QHdcAoLewFsO",
        "outputId": "c387661b-5424-4c38-b8c4-c1e9fef1e999"
      },
      "execution_count": 11,
      "outputs": [
        {
          "output_type": "execute_result",
          "data": {
            "text/plain": [
              "37"
            ]
          },
          "metadata": {},
          "execution_count": 11
        }
      ]
    },
    {
      "cell_type": "code",
      "source": [
        "s1.upper()"
      ],
      "metadata": {
        "colab": {
          "base_uri": "https://localhost:8080/",
          "height": 35
        },
        "id": "WyuofV1jwm09",
        "outputId": "93962f9a-b691-4156-b3a2-dcadf427a953"
      },
      "execution_count": 12,
      "outputs": [
        {
          "output_type": "execute_result",
          "data": {
            "text/plain": [
              "'  I AM DUONG THI QUYNH NHU NHU NHU  '"
            ],
            "application/vnd.google.colaboratory.intrinsic+json": {
              "type": "string"
            }
          },
          "metadata": {},
          "execution_count": 12
        }
      ]
    },
    {
      "cell_type": "code",
      "source": [
        "s1.lower()"
      ],
      "metadata": {
        "colab": {
          "base_uri": "https://localhost:8080/",
          "height": 35
        },
        "id": "5ZVpJLc5wowT",
        "outputId": "c6cc7b7f-f5e8-4df2-ff02-80ec5ac1828f"
      },
      "execution_count": 13,
      "outputs": [
        {
          "output_type": "execute_result",
          "data": {
            "text/plain": [
              "'  i am duong thi quynh nhu nhu nhu  '"
            ],
            "application/vnd.google.colaboratory.intrinsic+json": {
              "type": "string"
            }
          },
          "metadata": {},
          "execution_count": 13
        }
      ]
    },
    {
      "cell_type": "code",
      "source": [
        "s1.strip()"
      ],
      "metadata": {
        "colab": {
          "base_uri": "https://localhost:8080/",
          "height": 35
        },
        "id": "E9iMS6D9w4_7",
        "outputId": "cd3b4682-6785-4810-bbc0-321c423dc6bc"
      },
      "execution_count": 14,
      "outputs": [
        {
          "output_type": "execute_result",
          "data": {
            "text/plain": [
              "'I am Duong Thi Quynh Nhu Nhu Nhu'"
            ],
            "application/vnd.google.colaboratory.intrinsic+json": {
              "type": "string"
            }
          },
          "metadata": {},
          "execution_count": 14
        }
      ]
    },
    {
      "cell_type": "code",
      "source": [
        "s1.split()#thành list các string"
      ],
      "metadata": {
        "colab": {
          "base_uri": "https://localhost:8080/"
        },
        "id": "158wgGDEw7zX",
        "outputId": "734ac403-28e4-4f76-f025-9524fdcb6a19"
      },
      "execution_count": 19,
      "outputs": [
        {
          "output_type": "execute_result",
          "data": {
            "text/plain": [
              "['I', 'am', 'Duong', 'Thi', 'Quynh', 'Nhu', 'Nhu', 'Nhu']"
            ]
          },
          "metadata": {},
          "execution_count": 19
        }
      ]
    },
    {
      "cell_type": "code",
      "source": [
        "#cách đọc data từ python\n",
        "# lưu file txt\n",
        "fr =open ('/content/gdrive/MyDrive/AIVietnam/keywords.txt', 'r')\n",
        "#mở\n",
        "data = fr.read()\n",
        "#đóng\n",
        "fr.close()"
      ],
      "metadata": {
        "id": "NVWDnVdLxJ2f"
      },
      "execution_count": 3,
      "outputs": []
    },
    {
      "cell_type": "code",
      "source": [
        "data"
      ],
      "metadata": {
        "colab": {
          "base_uri": "https://localhost:8080/",
          "height": 140
        },
        "id": "nG_1mROUw7B2",
        "outputId": "e0bcabb5-7956-4504-c041-1f86d878cfb3"
      },
      "execution_count": 4,
      "outputs": [
        {
          "output_type": "execute_result",
          "data": {
            "text/plain": [
              "'###########################################\\n# Syntax Coloring Map For DHT-sensor-library\\n###########################################\\n\\n###########################################\\n# Datatypes (KEYWORD1)\\n###########################################\\n\\nDHT\\tKEYWORD1\\n\\n###########################################\\n# Methods and Functions (KEYWORD2)\\n###########################################\\n\\nbegin\\tKEYWORD2\\nreadTemperature\\tKEYWORD2\\nconvertCtoF\\tKEYWORD2\\nconvertFtoC\\tKEYWORD2\\ncomputeHeatIndex\\tKEYWORD2\\nreadHumidity\\tKEYWORD2\\nread\\tKEYWORD2\\n\\n'"
            ],
            "application/vnd.google.colaboratory.intrinsic+json": {
              "type": "string"
            }
          },
          "metadata": {},
          "execution_count": 4
        }
      ]
    },
    {
      "cell_type": "code",
      "source": [
        "print (data)"
      ],
      "metadata": {
        "colab": {
          "base_uri": "https://localhost:8080/"
        },
        "id": "upJd6KFcxGWW",
        "outputId": "536b07d5-c3bc-43ef-afba-00800ee914f3"
      },
      "execution_count": 5,
      "outputs": [
        {
          "output_type": "stream",
          "name": "stdout",
          "text": [
            "###########################################\n",
            "# Syntax Coloring Map For DHT-sensor-library\n",
            "###########################################\n",
            "\n",
            "###########################################\n",
            "# Datatypes (KEYWORD1)\n",
            "###########################################\n",
            "\n",
            "DHT\tKEYWORD1\n",
            "\n",
            "###########################################\n",
            "# Methods and Functions (KEYWORD2)\n",
            "###########################################\n",
            "\n",
            "begin\tKEYWORD2\n",
            "readTemperature\tKEYWORD2\n",
            "convertCtoF\tKEYWORD2\n",
            "convertFtoC\tKEYWORD2\n",
            "computeHeatIndex\tKEYWORD2\n",
            "readHumidity\tKEYWORD2\n",
            "read\tKEYWORD2\n",
            "\n",
            "\n"
          ]
        }
      ]
    },
    {
      "cell_type": "code",
      "source": [
        "data.replace (\"\\n\", \" \")"
      ],
      "metadata": {
        "colab": {
          "base_uri": "https://localhost:8080/",
          "height": 140
        },
        "id": "WJvmtH1yxUTX",
        "outputId": "e1bff3cd-6da7-471d-cd66-b82ef7e538a2"
      },
      "execution_count": 6,
      "outputs": [
        {
          "output_type": "execute_result",
          "data": {
            "text/plain": [
              "'########################################### # Syntax Coloring Map For DHT-sensor-library ###########################################  ########################################### # Datatypes (KEYWORD1) ###########################################  DHT\\tKEYWORD1  ########################################### # Methods and Functions (KEYWORD2) ###########################################  begin\\tKEYWORD2 readTemperature\\tKEYWORD2 convertCtoF\\tKEYWORD2 convertFtoC\\tKEYWORD2 computeHeatIndex\\tKEYWORD2 readHumidity\\tKEYWORD2 read\\tKEYWORD2  '"
            ],
            "application/vnd.google.colaboratory.intrinsic+json": {
              "type": "string"
            }
          },
          "metadata": {},
          "execution_count": 6
        }
      ]
    }
  ]
}