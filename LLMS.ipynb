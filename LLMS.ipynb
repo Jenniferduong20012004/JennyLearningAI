{
  "nbformat": 4,
  "nbformat_minor": 0,
  "metadata": {
    "colab": {
      "provenance": [],
      "authorship_tag": "ABX9TyMlgCqzRA5lwepJj9Kh14vW",
      "include_colab_link": true
    },
    "kernelspec": {
      "name": "python3",
      "display_name": "Python 3"
    },
    "language_info": {
      "name": "python"
    }
  },
  "cells": [
    {
      "cell_type": "markdown",
      "metadata": {
        "id": "view-in-github",
        "colab_type": "text"
      },
      "source": [
        "<a href=\"https://colab.research.google.com/github/Jenniferduong20012004/JennyLearningAI/blob/main/LLMS.ipynb\" target=\"_parent\"><img src=\"https://colab.research.google.com/assets/colab-badge.svg\" alt=\"Open In Colab\"/></a>"
      ]
    },
    {
      "cell_type": "code",
      "execution_count": null,
      "metadata": {
        "id": "l9bHeUyddIpc"
      },
      "outputs": [],
      "source": [
        "#LLMS\n",
        "#computer vision: dữ liệu đầu vào là ảnh và video\n",
        "#natural language processing: văn bản text\n",
        "#time series: dự báo thời tiết, chứng khoáng"
      ]
    },
    {
      "cell_type": "code",
      "source": [],
      "metadata": {
        "id": "ep82elnGdl2O"
      },
      "execution_count": null,
      "outputs": []
    }
  ]
}