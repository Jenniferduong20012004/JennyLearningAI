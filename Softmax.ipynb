{
  "nbformat": 4,
  "nbformat_minor": 0,
  "metadata": {
    "colab": {
      "provenance": [],
      "authorship_tag": "ABX9TyN32w58tqNoBZFH8ydVjV00",
      "include_colab_link": true
    },
    "kernelspec": {
      "name": "python3",
      "display_name": "Python 3"
    },
    "language_info": {
      "name": "python"
    }
  },
  "cells": [
    {
      "cell_type": "markdown",
      "metadata": {
        "id": "view-in-github",
        "colab_type": "text"
      },
      "source": [
        "<a href=\"https://colab.research.google.com/github/Jenniferduong20012004/JennyLearningAI/blob/main/Softmax.ipynb\" target=\"_parent\"><img src=\"https://colab.research.google.com/assets/colab-badge.svg\" alt=\"Open In Colab\"/></a>"
      ]
    },
    {
      "cell_type": "code",
      "source": [
        "import math\n",
        "n1 = 2\n",
        "print (math.fabs(n1))"
      ],
      "metadata": {
        "colab": {
          "base_uri": "https://localhost:8080/"
        },
        "id": "EJQUajAaSpqr",
        "outputId": "86e96261-2de2-4d38-c3ac-5be32fad4c54"
      },
      "execution_count": null,
      "outputs": [
        {
          "output_type": "stream",
          "name": "stdout",
          "text": [
            "2.0\n"
          ]
        }
      ]
    },
    {
      "cell_type": "code",
      "source": [
        "print (math.log(n1))"
      ],
      "metadata": {
        "colab": {
          "base_uri": "https://localhost:8080/"
        },
        "id": "-7_TQUbaVZwY",
        "outputId": "a44f03d4-8e00-4843-ec30-401ffee731bc"
      },
      "execution_count": null,
      "outputs": [
        {
          "output_type": "stream",
          "name": "stdout",
          "text": [
            "0.6931471805599453\n"
          ]
        }
      ]
    },
    {
      "cell_type": "code",
      "source": [
        "print (math.sin(math.radians(90)))"
      ],
      "metadata": {
        "colab": {
          "base_uri": "https://localhost:8080/"
        },
        "id": "DYJFVRznXktm",
        "outputId": "62f4e9c9-8350-4a55-bd21-b23d75b2d329"
      },
      "execution_count": null,
      "outputs": [
        {
          "output_type": "stream",
          "name": "stdout",
          "text": [
            "1.0\n"
          ]
        }
      ]
    },
    {
      "cell_type": "code",
      "source": [
        "#softmax function\n",
        "import math\n",
        "c1 = 1\n",
        "c2 =2\n",
        "total = math.exp(c1)+math.exp(c2)\n",
        "pro_c1 = math.exp(c1)/total\n",
        "pro_c2 = math.exp (c2)/total\n",
        "print (pro_c1, pro_c2)"
      ],
      "metadata": {
        "colab": {
          "base_uri": "https://localhost:8080/"
        },
        "id": "VWqbpQhGas8N",
        "outputId": "ffc875b3-eb3b-4048-c1a6-f1ba5dbfdbd6"
      },
      "execution_count": 2,
      "outputs": [
        {
          "output_type": "stream",
          "name": "stdout",
          "text": [
            "0.2689414213699951 0.7310585786300049\n"
          ]
        }
      ]
    },
    {
      "cell_type": "code",
      "source": [
        "#fix overflow and underflow with softmax function --> minus to the largest number\n",
        "c1 =1\n",
        "c2 =2\n",
        "c3 =3\n",
        "max_value = c3\n",
        "y1 = 1- c3\n",
        "y2 = 2-c3\n",
        "y3 = 3-c3\n",
        "total = math.exp (y1) + math.exp (y2)+math.exp (y3)\n",
        "pro_c1 = math.exp (y1)/total\n",
        "pro_c2 = math.exp (y2)/total\n",
        "pro_c3 = math.exp (y3)/total\n",
        "print (pro_c1, pro_c2, pro_c3)"
      ],
      "metadata": {
        "colab": {
          "base_uri": "https://localhost:8080/"
        },
        "id": "Yn3clh_WbKVG",
        "outputId": "4d9881d9-8e25-45f7-fa9d-ea543ab901e5"
      },
      "execution_count": 4,
      "outputs": [
        {
          "output_type": "stream",
          "name": "stdout",
          "text": [
            "0.09003057317038046 0.24472847105479764 0.6652409557748218\n"
          ]
        }
      ]
    },
    {
      "cell_type": "code",
      "source": [
        "def area_rect (height =0, width =0):\n",
        "  return height *width\n",
        "\n",
        "print (area_rect(5,6))"
      ],
      "metadata": {
        "colab": {
          "base_uri": "https://localhost:8080/"
        },
        "id": "9GmMOPPii4_R",
        "outputId": "c3c2d5f7-d8f1-4f99-abf4-fe0fe062b954"
      },
      "execution_count": 6,
      "outputs": [
        {
          "output_type": "stream",
          "name": "stdout",
          "text": [
            "30\n"
          ]
        }
      ]
    },
    {
      "cell_type": "code",
      "source": [
        "#compute length of arc circle (cung)\n",
        "import math\n",
        "def compute_length (degree):\n",
        "  sin = math.sin (math.radians(degree))\n",
        "  result = sin *180/degree\n",
        "  return result\n",
        "\n",
        "print (compute_length(30))"
      ],
      "metadata": {
        "colab": {
          "base_uri": "https://localhost:8080/"
        },
        "id": "iStk0bcWmlbv",
        "outputId": "68aae4b7-dd0b-4214-c8e2-a2284b3c12d3"
      },
      "execution_count": 8,
      "outputs": [
        {
          "output_type": "stream",
          "name": "stdout",
          "text": [
            "2.9999999999999996\n"
          ]
        }
      ]
    },
    {
      "cell_type": "code",
      "source": [
        "#compute area of arc of circle\n",
        "import math\n",
        "def compute_area (degree):\n",
        "  sin = math.sin (math.radians(degree))\n",
        "  cos = math.cos (math.radians(degree))\n",
        "  Aalpha = sin *cos /2\n",
        "  result = Aalpha *180/degree\n",
        "  return result\n",
        "\n",
        "print (compute_area (30))"
      ],
      "metadata": {
        "colab": {
          "base_uri": "https://localhost:8080/"
        },
        "id": "Oe9uppxioDtg",
        "outputId": "5b347d6f-f748-4f73-ef72-8a8ae685530c"
      },
      "execution_count": 9,
      "outputs": [
        {
          "output_type": "stream",
          "name": "stdout",
          "text": [
            "1.299038105676658\n"
          ]
        }
      ]
    },
    {
      "cell_type": "code",
      "source": [
        "#plot list\n",
        "x = [0,1,2,3,4,5]\n",
        "y = [60,59,32,43,54,21]\n",
        "import matplotlib.pyplot as plt\n",
        "plt.plot (x,y)\n",
        "plt.xlabel(\"x\")\n",
        "plt.ylabel(\"y\")\n",
        "plt.show()"
      ],
      "metadata": {
        "colab": {
          "base_uri": "https://localhost:8080/",
          "height": 449
        },
        "id": "1cZgtaZMqTCz",
        "outputId": "0b8385e4-4ffa-4fb1-fe96-c762ed50a128"
      },
      "execution_count": 10,
      "outputs": [
        {
          "output_type": "display_data",
          "data": {
            "text/plain": [
              "<Figure size 640x480 with 1 Axes>"
            ],
            "image/png": "[encoded data removed]"
          },
          "metadata": {}
        }
      ]
    },
    {
      "cell_type": "code",
      "source": [
        "y = lambda x: x*x\n",
        "import numpy as np\n",
        "x = np.arange (-8,8,0.1)\n",
        "y = np.array ([y(i) for i in x])\n",
        "plt.plot (x,y)\n",
        "plt.xlabel(\"x\")\n",
        "plt.ylabel(\"y\")\n",
        "plt.show()"
      ],
      "metadata": {
        "colab": {
          "base_uri": "https://localhost:8080/",
          "height": 449
        },
        "id": "TXRr_u1uq9B-",
        "outputId": "065ff854-a107-410d-f90e-c643b9c717eb"
      },
      "execution_count": 11,
      "outputs": [
        {
          "output_type": "display_data",
          "data": {
            "text/plain": [
              "<Figure size 640x480 with 1 Axes>"
            ],
            "image/png": "[encoded data removed]"
          },
          "metadata": {}
        }
      ]
    },
    {
      "cell_type": "code",
      "source": [
        "#tensor --> torch tính đạo hàm tự động\n",
        "import torch\n",
        "x = torch.tensor(3.0,requires_grad = True) #chọn địa điểm để tính đạo hàm\n",
        "y = x**2 + 2*x +10\n",
        "#tính đạo hàm\n",
        "y.backward()\n",
        "daoham = x.grad\n",
        "print (daoham)"
      ],
      "metadata": {
        "colab": {
          "base_uri": "https://localhost:8080/"
        },
        "id": "0uOBEFqQtl_P",
        "outputId": "45290f59-90fb-4aeb-8432-356478849500"
      },
      "execution_count": 19,
      "outputs": [
        {
          "output_type": "stream",
          "name": "stdout",
          "text": [
            "tensor(8.)\n"
          ]
        }
      ]
    },
    {
      "cell_type": "code",
      "source": [
        "import torch\n",
        "x = torch.tensor(3.0,requires_grad = True) #chọn địa điểm để tính đạo hàm\n",
        "y = x**2 + 2*x +10\n",
        "z = 3*y +2\n",
        "z.backward()\n",
        "daoham = x.grad\n",
        "print (daoham) #đạo hàm từng cái"
      ],
      "metadata": {
        "colab": {
          "base_uri": "https://localhost:8080/"
        },
        "id": "6dZp4IkF0Elh",
        "outputId": "a11b21cf-981a-4275-fbb0-09a29bb9b7e6"
      },
      "execution_count": 21,
      "outputs": [
        {
          "output_type": "stream",
          "name": "stdout",
          "text": [
            "tensor(24.)\n"
          ]
        }
      ]
    }
  ]
}