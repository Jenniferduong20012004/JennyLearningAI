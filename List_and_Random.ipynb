{
  "nbformat": 4,
  "nbformat_minor": 0,
  "metadata": {
    "colab": {
      "provenance": [],
      "authorship_tag": "ABX9TyM5Z6nn+qRhRBHXwe0KDknf",
      "include_colab_link": true
    },
    "kernelspec": {
      "name": "python3",
      "display_name": "Python 3"
    },
    "language_info": {
      "name": "python"
    }
  },
  "cells": [
    {
      "cell_type": "markdown",
      "metadata": {
        "id": "view-in-github",
        "colab_type": "text"
      },
      "source": [
        "<a href=\"https://colab.research.google.com/github/Jenniferduong20012004/JennyLearningAI/blob/main/List_and_Random.ipynb\" target=\"_parent\"><img src=\"https://colab.research.google.com/assets/colab-badge.svg\" alt=\"Open In Colab\"/></a>"
      ]
    },
    {
      "cell_type": "code",
      "execution_count": 4,
      "metadata": {
        "id": "f4zhQd7RZOm4",
        "colab": {
          "base_uri": "https://localhost:8080/"
        },
        "outputId": "8574b666-508a-4c50-d528-78e6e72f62fb"
      },
      "outputs": [
        {
          "output_type": "stream",
          "name": "stdout",
          "text": [
            "[6, 5, 4, 4, 3, 2, 1]\n",
            "[6, 5, 4, 4, 6, 3, 2, 1]\n"
          ]
        }
      ],
      "source": [
        "#Ôn list\n",
        "my_list= [4,2,1,5,3,6,4]\n",
        "my_list.sort (reverse = True)\n",
        "print (my_list)\n",
        "my_list.insert(4,6)\n",
        "print (my_list)\n"
      ]
    },
    {
      "cell_type": "code",
      "source": [
        "def sort_list (my_listlist):\n",
        "  result =[]\n",
        "  for i in range (len(my_list)):\n",
        "    a = min (my_list)\n",
        "    result.append (a)\n",
        "    my_list.remove (a)\n",
        "  return result\n",
        "\n",
        "my_list= [4,2,1,5,3,6,4]\n",
        "print (sort_list(my_list))"
      ],
      "metadata": {
        "colab": {
          "base_uri": "https://localhost:8080/"
        },
        "id": "PzCN4EQR4tYp",
        "outputId": "6e5528c4-ad72-4be4-9750-52ad800fc758"
      },
      "execution_count": 8,
      "outputs": [
        {
          "output_type": "stream",
          "name": "stdout",
          "text": [
            "[1, 2, 3, 4, 4, 5, 6]\n"
          ]
        }
      ]
    },
    {
      "cell_type": "code",
      "source": [
        "import random\n",
        "for i in range (10):\n",
        "  num = random.random()\n",
        "  #print (num)\n",
        "  if (num>0.5):\n",
        "    print(\"head\")\n",
        "  else:\n",
        "    print (\"tail\")"
      ],
      "metadata": {
        "colab": {
          "base_uri": "https://localhost:8080/"
        },
        "id": "wWrJ0AFL5m59",
        "outputId": "f81cc93b-ca26-4526-b912-514200bb0321"
      },
      "execution_count": 13,
      "outputs": [
        {
          "output_type": "stream",
          "name": "stdout",
          "text": [
            "head\n",
            "head\n",
            "head\n",
            "head\n",
            "tail\n",
            "head\n",
            "head\n",
            "head\n",
            "head\n",
            "head\n"
          ]
        }
      ]
    }
  ]
}