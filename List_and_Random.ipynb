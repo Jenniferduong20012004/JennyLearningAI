{
  "nbformat": 4,
  "nbformat_minor": 0,
  "metadata": {
    "colab": {
      "provenance": [],
      "authorship_tag": "ABX9TyP8AUkC5Ddo0wPBxdvuXtPR",
      "include_colab_link": true
    },
    "kernelspec": {
      "name": "python3",
      "display_name": "Python 3"
    },
    "language_info": {
      "name": "python"
    }
  },
  "cells": [
    {
      "cell_type": "markdown",
      "metadata": {
        "id": "view-in-github",
        "colab_type": "text"
      },
      "source": [
        "<a href=\"https://colab.research.google.com/github/Jenniferduong20012004/JennyLearningAI/blob/main/List_and_Random.ipynb\" target=\"_parent\"><img src=\"https://colab.research.google.com/assets/colab-badge.svg\" alt=\"Open In Colab\"/></a>"
      ]
    },
    {
      "cell_type": "code",
      "execution_count": null,
      "metadata": {
        "id": "f4zhQd7RZOm4",
        "colab": {
          "base_uri": "https://localhost:8080/"
        },
        "outputId": "8574b666-508a-4c50-d528-78e6e72f62fb"
      },
      "outputs": [
        {
          "output_type": "stream",
          "name": "stdout",
          "text": [
            "[6, 5, 4, 4, 3, 2, 1]\n",
            "[6, 5, 4, 4, 6, 3, 2, 1]\n"
          ]
        }
      ],
      "source": [
        "#Ôn list\n",
        "my_list= [4,2,1,5,3,6,4]\n",
        "my_list.sort (reverse = True)\n",
        "print (my_list)\n",
        "my_list.insert(4,6)\n",
        "print (my_list)\n"
      ]
    },
    {
      "cell_type": "code",
      "source": [
        "def sort_list (my_listlist):\n",
        "  result =[]\n",
        "  for i in range (len(my_list)):\n",
        "    a = min (my_list)\n",
        "    result.append (a)\n",
        "    my_list.remove (a)\n",
        "  return result\n",
        "\n",
        "my_list= [4,2,1,5,3,6,4]\n",
        "print (sort_list(my_list))"
      ],
      "metadata": {
        "colab": {
          "base_uri": "https://localhost:8080/"
        },
        "id": "PzCN4EQR4tYp",
        "outputId": "6e5528c4-ad72-4be4-9750-52ad800fc758"
      },
      "execution_count": null,
      "outputs": [
        {
          "output_type": "stream",
          "name": "stdout",
          "text": [
            "[1, 2, 3, 4, 4, 5, 6]\n"
          ]
        }
      ]
    },
    {
      "cell_type": "code",
      "source": [
        "import random\n",
        "num_head =0\n",
        "num_tail =0\n",
        "for i in range (100000):\n",
        "  num = random.random()\n",
        "  if (num>0.5):\n",
        "    num_head+=1\n",
        "  else:\n",
        "    num_tail+=1\n",
        "\n",
        "print (num_head, num_tail)\n"
      ],
      "metadata": {
        "colab": {
          "base_uri": "https://localhost:8080/"
        },
        "id": "wWrJ0AFL5m59",
        "outputId": "985def70-d6e9-455c-a9ca-6c20e86c7e77"
      },
      "execution_count": null,
      "outputs": [
        {
          "output_type": "stream",
          "name": "stdout",
          "text": [
            "49958 50042\n"
          ]
        }
      ]
    },
    {
      "cell_type": "code",
      "source": [
        "#độ lệch\n",
        "n = (50042-50000)/100000"
      ],
      "metadata": {
        "id": "VEcgk8WUyO9E"
      },
      "execution_count": null,
      "outputs": []
    },
    {
      "cell_type": "code",
      "source": [
        "n =100000\n",
        "count =0\n",
        "for i in range(n):\n",
        "  #for each chromosome, candidate, solution\n",
        "  #mutation = 0.05\n",
        "  if random.random()<0.05:\n",
        "    count+=1\n",
        "print (count)"
      ],
      "metadata": {
        "colab": {
          "base_uri": "https://localhost:8080/"
        },
        "id": "26JW6lI-0OOD",
        "outputId": "5c732b7d-d918-4f91-ca27-e0fd4dc890aa"
      },
      "execution_count": null,
      "outputs": [
        {
          "output_type": "stream",
          "name": "stdout",
          "text": [
            "5000\n"
          ]
        }
      ]
    },
    {
      "cell_type": "code",
      "source": [
        "#sigmoid\n",
        "import math\n",
        "sigmoid = lambda x: 1/(1+math.exp(x))\n",
        "def sigmoidForList(data):\n",
        "  result = [sigmoid(x) for x in data]\n",
        "  return result\n",
        "print (sigmoidForList([1,2,3,4,5]))"
      ],
      "metadata": {
        "colab": {
          "base_uri": "https://localhost:8080/"
        },
        "id": "9Q9GR_8b2TeX",
        "outputId": "3d7f712d-bfc1-451f-f756-0c84c3094eca"
      },
      "execution_count": null,
      "outputs": [
        {
          "output_type": "stream",
          "name": "stdout",
          "text": [
            "[0.2689414213699951, 0.11920292202211755, 0.04742587317756678, 0.01798620996209156, 0.0066928509242848554]\n"
          ]
        }
      ]
    },
    {
      "cell_type": "code",
      "source": [
        "#pi estimation by random\n",
        "import math\n",
        "import random\n",
        "in_cir =0\n",
        "out_cir =0\n",
        "for i in range (100000):\n",
        "  x = random.random ()*2 -1\n",
        "  y = random.random ()*2 -1\n",
        "  distance = math.sqrt (x*x+y*y)\n",
        "  if (distance <1):\n",
        "    in_cir+=1\n",
        "  else:\n",
        "    out_cir +=1\n",
        "ratio_area = in_cir/100000\n",
        "circle_area = ratio_area*2*2\n",
        "pi = circle_area\n",
        "print (pi)"
      ],
      "metadata": {
        "colab": {
          "base_uri": "https://localhost:8080/"
        },
        "id": "8yPHGf-8Arn_",
        "outputId": "3062f845-69ff-4ea8-9aee-1b2352480638"
      },
      "execution_count": 7,
      "outputs": [
        {
          "output_type": "stream",
          "name": "stdout",
          "text": [
            "3.13384\n"
          ]
        }
      ]
    },
    {
      "cell_type": "code",
      "source": [
        "#gaussian\n",
        "import numpy as np\n",
        "import math\n",
        "def gaussian (mean, var, x):\n",
        "  result = (1/ math.sqrt (2*math.pi*var))*math.exp (-np.power((x-mean),2)/(2*var))\n",
        "  return result\n",
        "print (gaussian (0,1,0))\n"
      ],
      "metadata": {
        "colab": {
          "base_uri": "https://localhost:8080/"
        },
        "id": "hjO9FLUpA-6g",
        "outputId": "e292ee89-431e-4933-eec3-3596bb0355c4"
      },
      "execution_count": 12,
      "outputs": [
        {
          "output_type": "stream",
          "name": "stdout",
          "text": [
            "0.3989422804014327\n"
          ]
        }
      ]
    },
    {
      "cell_type": "code",
      "source": [],
      "metadata": {
        "id": "37-rSalCRDOb"
      },
      "execution_count": null,
      "outputs": []
    }
  ]
}