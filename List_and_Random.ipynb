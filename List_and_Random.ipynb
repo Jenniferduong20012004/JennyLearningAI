{
  "nbformat": 4,
  "nbformat_minor": 0,
  "metadata": {
    "colab": {
      "provenance": [],
      "toc_visible": true,
      "authorship_tag": "ABX9TyMCQF+NPoWEx7wY+OO2HIC8",
      "include_colab_link": true
    },
    "kernelspec": {
      "name": "python3",
      "display_name": "Python 3"
    },
    "language_info": {
      "name": "python"
    }
  },
  "cells": [
    {
      "cell_type": "markdown",
      "metadata": {
        "id": "view-in-github",
        "colab_type": "text"
      },
      "source": [
        "<a href=\"https://colab.research.google.com/github/Jenniferduong20012004/JennyLearningAI/blob/main/List_and_Random.ipynb\" target=\"_parent\"><img src=\"https://colab.research.google.com/assets/colab-badge.svg\" alt=\"Open In Colab\"/></a>"
      ]
    },
    {
      "cell_type": "code",
      "execution_count": 4,
      "metadata": {
        "id": "f4zhQd7RZOm4",
        "colab": {
          "base_uri": "https://localhost:8080/"
        },
        "outputId": "8574b666-508a-4c50-d528-78e6e72f62fb"
      },
      "outputs": [
        {
          "output_type": "stream",
          "name": "stdout",
          "text": [
            "[6, 5, 4, 4, 3, 2, 1]\n",
            "[6, 5, 4, 4, 6, 3, 2, 1]\n"
          ]
        }
      ],
      "source": [
        "#Ôn list\n",
        "my_list= [4,2,1,5,3,6,4]\n",
        "my_list.sort (reverse = True)\n",
        "print (my_list)\n",
        "my_list.insert(4,6)\n",
        "print (my_list)\n"
      ]
    },
    {
      "cell_type": "code",
      "source": [
        "def sort_list (my_listlist):\n",
        "  result =[]\n",
        "  for i in range (len(my_list)):\n",
        "    a = min (my_list)\n",
        "    result.append (a)\n",
        "    my_list.remove (a)\n",
        "  return result\n",
        "\n",
        "my_list= [4,2,1,5,3,6,4]\n",
        "print (sort_list(my_list))"
      ],
      "metadata": {
        "colab": {
          "base_uri": "https://localhost:8080/"
        },
        "id": "PzCN4EQR4tYp",
        "outputId": "6e5528c4-ad72-4be4-9750-52ad800fc758"
      },
      "execution_count": 8,
      "outputs": [
        {
          "output_type": "stream",
          "name": "stdout",
          "text": [
            "[1, 2, 3, 4, 4, 5, 6]\n"
          ]
        }
      ]
    },
    {
      "cell_type": "code",
      "source": [
        "import random\n",
        "num_head =0\n",
        "num_tail =0\n",
        "for i in range (100000):\n",
        "  num = random.random()\n",
        "  if (num>0.5):\n",
        "    num_head+=1\n",
        "  else:\n",
        "    num_tail+=1\n",
        "\n",
        "print (num_head, num_tail)\n"
      ],
      "metadata": {
        "colab": {
          "base_uri": "https://localhost:8080/"
        },
        "id": "wWrJ0AFL5m59",
        "outputId": "985def70-d6e9-455c-a9ca-6c20e86c7e77"
      },
      "execution_count": 5,
      "outputs": [
        {
          "output_type": "stream",
          "name": "stdout",
          "text": [
            "49958 50042\n"
          ]
        }
      ]
    },
    {
      "cell_type": "code",
      "source": [
        "#độ lệch\n",
        "n = (50042-50000)/100000"
      ],
      "metadata": {
        "id": "VEcgk8WUyO9E"
      },
      "execution_count": 6,
      "outputs": []
    },
    {
      "cell_type": "code",
      "source": [
        "n =100000\n",
        "count =0\n",
        "for i in range(n):\n",
        "  #for each chromosome, candidate, solution\n",
        "  #mutation = 0.05\n",
        "  if random.random()<0.05:\n",
        "    count+=1\n",
        "print (count)"
      ],
      "metadata": {
        "colab": {
          "base_uri": "https://localhost:8080/"
        },
        "id": "26JW6lI-0OOD",
        "outputId": "5c732b7d-d918-4f91-ca27-e0fd4dc890aa"
      },
      "execution_count": 9,
      "outputs": [
        {
          "output_type": "stream",
          "name": "stdout",
          "text": [
            "5000\n"
          ]
        }
      ]
    },
    {
      "cell_type": "code",
      "source": [
        "#sigmoid\n",
        "import math\n",
        "sigmoid = lambda x: 1/(1+math.exp(x))\n",
        "def sigmoidForList(data):\n",
        "  result = [sigmoid(x) for x in data]\n",
        "  return result\n",
        "print (sigmoidForList([1,2,3,4,5]))"
      ],
      "metadata": {
        "colab": {
          "base_uri": "https://localhost:8080/"
        },
        "id": "9Q9GR_8b2TeX",
        "outputId": "3d7f712d-bfc1-451f-f756-0c84c3094eca"
      },
      "execution_count": 10,
      "outputs": [
        {
          "output_type": "stream",
          "name": "stdout",
          "text": [
            "[0.2689414213699951, 0.11920292202211755, 0.04742587317756678, 0.01798620996209156, 0.0066928509242848554]\n"
          ]
        }
      ]
    }
  ]
}