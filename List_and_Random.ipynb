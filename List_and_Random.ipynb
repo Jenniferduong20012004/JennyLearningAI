{
  "nbformat": 4,
  "nbformat_minor": 0,
  "metadata": {
    "colab": {
      "provenance": [],
      "authorship_tag": "ABX9TyO/M2YP+w1PbPDp+tfzyslj",
      "include_colab_link": true
    },
    "kernelspec": {
      "name": "python3",
      "display_name": "Python 3"
    },
    "language_info": {
      "name": "python"
    }
  },
  "cells": [
    {
      "cell_type": "markdown",
      "metadata": {
        "id": "view-in-github",
        "colab_type": "text"
      },
      "source": [
        "<a href=\"https://colab.research.google.com/github/Jenniferduong20012004/JennyLearningAI/blob/main/List_and_Random.ipynb\" target=\"_parent\"><img src=\"https://colab.research.google.com/assets/colab-badge.svg\" alt=\"Open In Colab\"/></a>"
      ]
    },
    {
      "cell_type": "code",
      "execution_count": null,
      "metadata": {
        "id": "f4zhQd7RZOm4",
        "colab": {
          "base_uri": "https://localhost:8080/"
        },
        "outputId": "8574b666-508a-4c50-d528-78e6e72f62fb"
      },
      "outputs": [
        {
          "output_type": "stream",
          "name": "stdout",
          "text": [
            "[6, 5, 4, 4, 3, 2, 1]\n",
            "[6, 5, 4, 4, 6, 3, 2, 1]\n"
          ]
        }
      ],
      "source": [
        "#Ôn list\n",
        "my_list= [4,2,1,5,3,6,4]\n",
        "my_list.sort (reverse = True)\n",
        "print (my_list)\n",
        "my_list.insert(4,6)\n",
        "print (my_list)\n"
      ]
    },
    {
      "cell_type": "code",
      "source": [
        "def sort_list (my_listlist):\n",
        "  result =[]\n",
        "  for i in range (len(my_list)):\n",
        "    a = min (my_list)\n",
        "    result.append (a)\n",
        "    my_list.remove (a)\n",
        "  return result\n",
        "\n",
        "my_list= [4,2,1,5,3,6,4]\n",
        "print (sort_list(my_list))"
      ],
      "metadata": {
        "colab": {
          "base_uri": "https://localhost:8080/"
        },
        "id": "PzCN4EQR4tYp",
        "outputId": "6e5528c4-ad72-4be4-9750-52ad800fc758"
      },
      "execution_count": null,
      "outputs": [
        {
          "output_type": "stream",
          "name": "stdout",
          "text": [
            "[1, 2, 3, 4, 4, 5, 6]\n"
          ]
        }
      ]
    },
    {
      "cell_type": "code",
      "source": [
        "import random\n",
        "num_head =0\n",
        "num_tail =0\n",
        "for i in range (100000):\n",
        "  num = random.random()\n",
        "  if (num>0.5):\n",
        "    num_head+=1\n",
        "  else:\n",
        "    num_tail+=1\n",
        "\n",
        "print (num_head, num_tail)\n"
      ],
      "metadata": {
        "colab": {
          "base_uri": "https://localhost:8080/"
        },
        "id": "wWrJ0AFL5m59",
        "outputId": "985def70-d6e9-455c-a9ca-6c20e86c7e77"
      },
      "execution_count": null,
      "outputs": [
        {
          "output_type": "stream",
          "name": "stdout",
          "text": [
            "49958 50042\n"
          ]
        }
      ]
    },
    {
      "cell_type": "code",
      "source": [
        "#độ lệch\n",
        "n = (50042-50000)/100000"
      ],
      "metadata": {
        "id": "VEcgk8WUyO9E"
      },
      "execution_count": null,
      "outputs": []
    },
    {
      "cell_type": "code",
      "source": [
        "n =100000\n",
        "count =0\n",
        "for i in range(n):\n",
        "  #for each chromosome, candidate, solution\n",
        "  #mutation = 0.05\n",
        "  if random.random()<0.05:\n",
        "    count+=1\n",
        "print (count)"
      ],
      "metadata": {
        "colab": {
          "base_uri": "https://localhost:8080/"
        },
        "id": "26JW6lI-0OOD",
        "outputId": "5c732b7d-d918-4f91-ca27-e0fd4dc890aa"
      },
      "execution_count": null,
      "outputs": [
        {
          "output_type": "stream",
          "name": "stdout",
          "text": [
            "5000\n"
          ]
        }
      ]
    },
    {
      "cell_type": "code",
      "source": [
        "#sigmoid\n",
        "import math\n",
        "sigmoid = lambda x: 1/(1+math.exp(x))\n",
        "def sigmoidForList(data):\n",
        "  result = [sigmoid(x) for x in data]\n",
        "  return result\n",
        "print (sigmoidForList([1,2,3,4,5]))"
      ],
      "metadata": {
        "colab": {
          "base_uri": "https://localhost:8080/"
        },
        "id": "9Q9GR_8b2TeX",
        "outputId": "3d7f712d-bfc1-451f-f756-0c84c3094eca"
      },
      "execution_count": null,
      "outputs": [
        {
          "output_type": "stream",
          "name": "stdout",
          "text": [
            "[0.2689414213699951, 0.11920292202211755, 0.04742587317756678, 0.01798620996209156, 0.0066928509242848554]\n"
          ]
        }
      ]
    },
    {
      "cell_type": "code",
      "source": [
        "#pi estimation by random\n",
        "import math\n",
        "import random\n",
        "in_cir =0\n",
        "out_cir =0\n",
        "for i in range (100000):\n",
        "  x = random.random ()*2 -1\n",
        "  y = random.random ()*2 -1\n",
        "  distance = math.sqrt (x*x+y*y)\n",
        "  if (distance <1):\n",
        "    in_cir+=1\n",
        "  else:\n",
        "    out_cir +=1\n",
        "ratio_area = in_cir/100000\n",
        "circle_area = ratio_area*2*2\n",
        "pi = circle_area\n",
        "print (pi)"
      ],
      "metadata": {
        "colab": {
          "base_uri": "https://localhost:8080/"
        },
        "id": "8yPHGf-8Arn_",
        "outputId": "3062f845-69ff-4ea8-9aee-1b2352480638"
      },
      "execution_count": null,
      "outputs": [
        {
          "output_type": "stream",
          "name": "stdout",
          "text": [
            "3.13384\n"
          ]
        }
      ]
    },
    {
      "cell_type": "code",
      "source": [
        "#gaussian\n",
        "import numpy as np\n",
        "import math\n",
        "def gaussian (mean, var, x):\n",
        "  result = (1/ math.sqrt (2*math.pi*var))*math.exp (-np.power((x-mean),2)/(2*var))\n",
        "  return result\n",
        "print (gaussian (0,1,0))\n"
      ],
      "metadata": {
        "colab": {
          "base_uri": "https://localhost:8080/"
        },
        "id": "hjO9FLUpA-6g",
        "outputId": "e292ee89-431e-4933-eec3-3596bb0355c4"
      },
      "execution_count": null,
      "outputs": [
        {
          "output_type": "stream",
          "name": "stdout",
          "text": [
            "0.3989422804014327\n"
          ]
        }
      ]
    },
    {
      "cell_type": "code",
      "source": [
        "data = [random.random()*500 for i in range (1000)]\n",
        "import matplotlib.pyplot as plt\n",
        "plt.hist (data,bins =500,rwidth =0.9)\n",
        "plt.show()\n",
        "list_means =[]\n",
        "for i in range (10000):\n",
        "  data = [random.random()*500 for i in range (1000)]\n",
        "  mean = sum(data)/len(data)\n",
        "  list_means.append(mean)\n",
        "\n",
        "plt.hist (list_means,bins =500,rwidth =0.9)\n",
        "plt.show()"
      ],
      "metadata": {
        "colab": {
          "base_uri": "https://localhost:8080/",
          "height": 843
        },
        "id": "37-rSalCRDOb",
        "outputId": "dbf584b0-7c4f-4548-eaf9-1a213e2083da"
      },
      "execution_count": null,
      "outputs": [
        {
          "output_type": "display_data",
          "data": {
            "text/plain": [
              "<Figure size 640x480 with 1 Axes>"
            ],
            "image/png": "[encoded data removed]"
          },
          "metadata": {}
        },
        {
          "output_type": "display_data",
          "data": {
            "text/plain": [
              "<Figure size 640x480 with 1 Axes>"
            ],
            "image/png": "[encoded data removed]"
          },
          "metadata": {}
        }
      ]
    },
    {
      "cell_type": "code",
      "source": [
        "#find optimization of black box\n",
        "# x1 x2 nằm trong -10, 10 dựa vào ngẫu nhiên random\n",
        "import random\n",
        "import numpy as np\n",
        "def generate_value():\n",
        "  value = random.random()*20-10 #từ 10 tới 10\n",
        "  return value\n",
        "\n",
        "x = [generate_value(),generate_value()]\n",
        "#print(x)\n",
        "def compute_fx(point):\n",
        "  return np.power(point[0],2)+np.power(point[1],2)\n",
        "#print (compute_fx(x))\n",
        "#tìm x có fx nhỏ nhất mà chỉ được dùng generate_value\n",
        "#by sorting\n",
        "x_min =0\n",
        "fmin =10000\n",
        "for i in range (10):\n",
        "  point = [generate_value(),generate_value()]\n",
        "\n",
        "  fx = compute_fx(point)\n",
        "  if  (fx<fmin):\n",
        "    fmin = fx\n",
        "    xmin = x\n",
        "#print (xmin, fmin)\n",
        "#tìm population và vector\n",
        "def getMin(population):\n",
        "  x_min = []\n",
        "  fmin=10000\n",
        "  for x in population:\n",
        "    fx = compute_fx(x)\n",
        "    if  (fx<fmin):\n",
        "      fmin = fx\n",
        "      xmin = x\n",
        "  return xmin, fmin\n",
        "\n",
        "def one_iteration():\n",
        "  population =[]\n",
        "  for i in range (10):\n",
        "    point = [generate_value(),generate_value()]\n",
        "    population.append(point)\n",
        "    fx = compute_fx(point)\n",
        "  xmin, fmin = getMin (population)\n",
        "  return xmin, fmin\n",
        "print(one_iteration())\n",
        "#lặp lại 5 iteration\n",
        "f_min_global =10000\n",
        "x_min = []\n",
        "for i in range (10):\n",
        "  xmin, fmin = one_iteration()\n",
        "  if f_min_global > fmin:\n",
        "    f_min_global = fmin\n",
        "    x_min = xmin\n",
        "print (x_min, f_min_global)\n",
        "# giải quyết chuyện ko thể sinh ra nhiều điểm 1 lúc\n",
        "# nhược điểm: là phải bỏ đi học lại nhiều lần\n",
        "#khắc phục bằng self learning\n",
        "\n",
        "def muta"
      ],
      "metadata": {
        "colab": {
          "base_uri": "https://localhost:8080/"
        },
        "id": "8dEZKhtdWlIt",
        "outputId": "2f9a4cd7-56e9-47cb-9f4b-277a77b00e75"
      },
      "execution_count": null,
      "outputs": [
        {
          "output_type": "stream",
          "name": "stdout",
          "text": [
            "([1.8457237341348218, -2.313294602411073], 8.758028020292794)\n",
            "[0.2938736340181016, -0.17547578770892258] 0.11715346484307201\n"
          ]
        }
      ]
    },
    {
      "cell_type": "code",
      "source": [
        "#self learning\n",
        "def create_ind():\n",
        "  return []"
      ],
      "metadata": {
        "id": "06_dnjLvGaVQ"
      },
      "execution_count": null,
      "outputs": []
    }
  ]
}