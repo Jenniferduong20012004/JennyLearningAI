{
  "nbformat": 4,
  "nbformat_minor": 0,
  "metadata": {
    "colab": {
      "provenance": [],
      "gpuType": "T4",
      "authorship_tag": "ABX9TyPwzNnSTLr8Pu5m/KNYmyiW",
      "include_colab_link": true
    },
    "kernelspec": {
      "name": "python3",
      "display_name": "Python 3"
    },
    "language_info": {
      "name": "python"
    },
    "accelerator": "GPU"
  },
  "cells": [
    {
      "cell_type": "markdown",
      "metadata": {
        "id": "view-in-github",
        "colab_type": "text"
      },
      "source": [
        "<a href=\"https://colab.research.google.com/github/Jenniferduong20012004/JennyLearningAI/blob/main/Object_detection.ipynb\" target=\"_parent\"><img src=\"https://colab.research.google.com/assets/colab-badge.svg\" alt=\"Open In Colab\"/></a>"
      ]
    },
    {
      "cell_type": "code",
      "execution_count": 2,
      "metadata": {
        "colab": {
          "base_uri": "https://localhost:8080/"
        },
        "id": "jXUqUGQvxRzq",
        "outputId": "aea9bd45-d08b-4a59-eed1-84964313b789"
      },
      "outputs": [
        {
          "output_type": "stream",
          "name": "stdout",
          "text": [
            "Downloading...\n",
            "From (original): https://drive.google.com/uc?id=1sX9qmlPY1SXwboz9qOzjyLrkzCwYoT31\n",
            "From (redirected): https://drive.google.com/uc?id=1sX9qmlPY1SXwboz9qOzjyLrkzCwYoT31&confirm=t&uuid=95e385fd-7ff4-4aaf-a1f9-ba9ed58b1c80\n",
            "To: /content/cars_yolo_data.zip\n",
            "100% 37.7M/37.7M [00:00<00:00, 132MB/s]\n"
          ]
        }
      ],
      "source": [
        "!gdown 1sX9qmlPY1SXwboz9qOzjyLrkzCwYoT31 #use gdown"
      ]
    },
    {
      "cell_type": "code",
      "source": [
        "#unzip\n",
        "!unzip cars_yolo_data.zip"
      ],
      "metadata": {
        "colab": {
          "base_uri": "https://localhost:8080/"
        },
        "id": "axHO-8LdHdpc",
        "outputId": "559beb67-73f4-4497-9e23-1cb8d881edbc"
      },
      "execution_count": 3,
      "outputs": [
        {
          "output_type": "stream",
          "name": "stdout",
          "text": [
            "Archive:  cars_yolo_data.zip\n",
            "   creating: yolo_data/\n",
            "   creating: yolo_data/val/\n",
            "   creating: yolo_data/val/images/\n",
            "  inflating: yolo_data/val/images/vid_4_28440.jpg  \n",
            "  inflating: yolo_data/val/images/vid_4_13700.jpg  \n",
            "  inflating: yolo_data/val/images/vid_4_1900.jpg  \n",
            "  inflating: yolo_data/val/images/vid_4_9640.jpg  \n",
            "  inflating: yolo_data/val/images/vid_4_13880.jpg  \n",
            "  inflating: yolo_data/val/images/vid_4_1980.jpg  \n",
            "  inflating: yolo_data/val/images/vid_4_9220.jpg  \n",
            "  inflating: yolo_data/val/images/vid_4_26380.jpg  \n",
            "  inflating: yolo_data/val/images/vid_4_12140.jpg  \n",
            "  inflating: yolo_data/val/images/vid_4_26460.jpg  \n",
            "  inflating: yolo_data/val/images/vid_4_9200.jpg  \n",
            "  inflating: yolo_data/val/images/vid_4_21260.jpg  \n",
            "  inflating: yolo_data/val/images/vid_4_2080.jpg  \n",
            "  inflating: yolo_data/val/images/vid_4_3820.jpg  \n",
            "  inflating: yolo_data/val/images/vid_4_6280.jpg  \n",
            "  inflating: yolo_data/val/images/vid_4_9040.jpg  \n",
            "  inflating: yolo_data/val/images/vid_4_30440.jpg  \n",
            "  inflating: yolo_data/val/images/vid_4_3460.jpg  \n",
            "  inflating: yolo_data/val/images/vid_4_9320.jpg  \n",
            "  inflating: yolo_data/val/images/vid_4_12380.jpg  \n",
            "  inflating: yolo_data/val/images/vid_4_2120.jpg  \n",
            "  inflating: yolo_data/val/images/vid_4_9620.jpg  \n",
            "  inflating: yolo_data/val/images/vid_4_9260.jpg  \n",
            "  inflating: yolo_data/val/images/vid_4_9800.jpg  \n",
            "  inflating: yolo_data/val/images/vid_4_9960.jpg  \n",
            "  inflating: yolo_data/val/images/vid_4_17560.jpg  \n",
            "   creating: yolo_data/val/labels/\n",
            "  inflating: yolo_data/val/labels/vid_4_2080.txt  \n",
            "  inflating: yolo_data/val/labels/vid_4_26380.txt  \n",
            "  inflating: yolo_data/val/labels/vid_4_30440.txt  \n",
            "  inflating: yolo_data/val/labels/vid_4_6280.txt  \n",
            "  inflating: yolo_data/val/labels/vid_4_9220.txt  \n",
            "  inflating: yolo_data/val/labels/vid_4_1900.txt  \n",
            "  inflating: yolo_data/val/labels/vid_4_9040.txt  \n",
            "  inflating: yolo_data/val/labels/vid_4_1980.txt  \n",
            "  inflating: yolo_data/val/labels/vid_4_17560.txt  \n",
            "  inflating: yolo_data/val/labels/vid_4_12380.txt  \n",
            "  inflating: yolo_data/val/labels/vid_4_12140.txt  \n",
            "  inflating: yolo_data/val/labels/vid_4_9960.txt  \n",
            "  inflating: yolo_data/val/labels/vid_4_9200.txt  \n",
            "  inflating: yolo_data/val/labels/vid_4_2120.txt  \n",
            "  inflating: yolo_data/val/labels/vid_4_13700.txt  \n",
            "  inflating: yolo_data/val/labels/vid_4_13880.txt  \n",
            "  inflating: yolo_data/val/labels/vid_4_28440.txt  \n",
            "  inflating: yolo_data/val/labels/vid_4_21260.txt  \n",
            "  inflating: yolo_data/val/labels/vid_4_3460.txt  \n",
            "  inflating: yolo_data/val/labels/vid_4_3820.txt  \n",
            "  inflating: yolo_data/val/labels/vid_4_9320.txt  \n",
            "  inflating: yolo_data/val/labels/vid_4_9620.txt  \n",
            "  inflating: yolo_data/val/labels/vid_4_9640.txt  \n",
            "  inflating: yolo_data/val/labels/vid_4_9260.txt  \n",
            "  inflating: yolo_data/val/labels/vid_4_9800.txt  \n",
            "  inflating: yolo_data/val/labels/vid_4_26460.txt  \n",
            "   creating: yolo_data/train/\n",
            "   creating: yolo_data/train/images/\n",
            "  inflating: yolo_data/train/images/vid_4_920.jpg  \n",
            "  inflating: yolo_data/train/images/vid_4_4560.jpg  \n",
            "  inflating: yolo_data/train/images/vid_4_11420.jpg  \n",
            "  inflating: yolo_data/train/images/vid_4_980.jpg  \n",
            "  inflating: yolo_data/train/images/vid_4_13580.jpg  \n",
            "  inflating: yolo_data/train/images/vid_4_18880.jpg  \n",
            "  inflating: yolo_data/train/images/vid_4_28860.jpg  \n",
            "  inflating: yolo_data/train/images/vid_4_8300.jpg  \n",
            "  inflating: yolo_data/train/images/vid_4_18180.jpg  \n",
            "  inflating: yolo_data/train/images/vid_4_28820.jpg  \n",
            "  inflating: yolo_data/train/images/vid_4_1820.jpg  \n",
            "  inflating: yolo_data/train/images/vid_4_22540.jpg  \n",
            "  inflating: yolo_data/train/images/vid_4_13820.jpg  \n",
            "  inflating: yolo_data/train/images/vid_4_14460.jpg  \n",
            "  inflating: yolo_data/train/images/vid_4_2060.jpg  \n",
            "  inflating: yolo_data/train/images/vid_4_21220.jpg  \n",
            "  inflating: yolo_data/train/images/vid_4_9540.jpg  \n",
            "  inflating: yolo_data/train/images/vid_4_17260.jpg  \n",
            "  inflating: yolo_data/train/images/vid_4_29500.jpg  \n",
            "  inflating: yolo_data/train/images/vid_4_3140.jpg  \n",
            "  inflating: yolo_data/train/images/vid_4_13700.jpg  \n",
            "  inflating: yolo_data/train/images/vid_4_21180.jpg  \n",
            "  inflating: yolo_data/train/images/vid_4_4540.jpg  \n",
            "  inflating: yolo_data/train/images/vid_4_24760.jpg  \n",
            "  inflating: yolo_data/train/images/vid_4_28220.jpg  \n",
            "  inflating: yolo_data/train/images/vid_4_8280.jpg  \n",
            "  inflating: yolo_data/train/images/vid_4_3540.jpg  \n",
            "  inflating: yolo_data/train/images/vid_4_21580.jpg  \n",
            "  inflating: yolo_data/train/images/vid_4_10980.jpg  \n",
            "  inflating: yolo_data/train/images/vid_4_16420.jpg  \n",
            "  inflating: yolo_data/train/images/vid_4_18860.jpg  \n",
            "  inflating: yolo_data/train/images/vid_4_9460.jpg  \n",
            "  inflating: yolo_data/train/images/vid_4_1780.jpg  \n",
            "  inflating: yolo_data/train/images/vid_4_6340.jpg  \n",
            "  inflating: yolo_data/train/images/vid_4_3180.jpg  \n",
            "  inflating: yolo_data/train/images/vid_4_13860.jpg  \n",
            "  inflating: yolo_data/train/images/vid_4_29940.jpg  \n",
            "  inflating: yolo_data/train/images/vid_4_22580.jpg  \n",
            "  inflating: yolo_data/train/images/vid_4_12040.jpg  \n",
            "  inflating: yolo_data/train/images/vid_4_11960.jpg  \n",
            "  inflating: yolo_data/train/images/vid_4_6420.jpg  \n",
            "  inflating: yolo_data/train/images/vid_4_29960.jpg  \n",
            "  inflating: yolo_data/train/images/vid_4_13740.jpg  \n",
            "  inflating: yolo_data/train/images/vid_4_10100.jpg  \n",
            "  inflating: yolo_data/train/images/vid_4_18340.jpg  \n",
            "  inflating: yolo_data/train/images/vid_4_12080.jpg  \n",
            "  inflating: yolo_data/train/images/vid_4_1000.jpg  \n",
            "  inflating: yolo_data/train/images/vid_4_3840.jpg  \n",
            "  inflating: yolo_data/train/images/vid_4_16140.jpg  \n",
            "  inflating: yolo_data/train/images/vid_4_19780.jpg  \n",
            "  inflating: yolo_data/train/images/vid_4_17320.jpg  \n",
            "  inflating: yolo_data/train/images/vid_4_21660.jpg  \n",
            "  inflating: yolo_data/train/images/vid_4_11900.jpg  \n",
            "  inflating: yolo_data/train/images/vid_4_8660.jpg  \n",
            "  inflating: yolo_data/train/images/vid_4_960.jpg  \n",
            "  inflating: yolo_data/train/images/vid_4_22560.jpg  \n",
            "  inflating: yolo_data/train/images/vid_4_17420.jpg  \n",
            "  inflating: yolo_data/train/images/vid_4_19040.jpg  \n",
            "  inflating: yolo_data/train/images/vid_4_26500.jpg  \n",
            "  inflating: yolo_data/train/images/vid_4_12100.jpg  \n",
            "  inflating: yolo_data/train/images/vid_4_9760.jpg  \n",
            "  inflating: yolo_data/train/images/vid_4_11380.jpg  \n",
            "  inflating: yolo_data/train/images/vid_4_18200.jpg  \n",
            "  inflating: yolo_data/train/images/vid_4_8700.jpg  \n",
            "  inflating: yolo_data/train/images/vid_4_12180.jpg  \n",
            "  inflating: yolo_data/train/images/vid_4_17040.jpg  \n",
            "  inflating: yolo_data/train/images/vid_4_28880.jpg  \n",
            "  inflating: yolo_data/train/images/vid_4_1800.jpg  \n",
            "  inflating: yolo_data/train/images/vid_4_17640.jpg  \n",
            "  inflating: yolo_data/train/images/vid_4_940.jpg  \n",
            "  inflating: yolo_data/train/images/vid_4_22980.jpg  \n",
            "  inflating: yolo_data/train/images/vid_4_16120.jpg  \n",
            "  inflating: yolo_data/train/images/vid_4_9080.jpg  \n",
            "  inflating: yolo_data/train/images/vid_4_12300.jpg  \n",
            "  inflating: yolo_data/train/images/vid_4_11280.jpg  \n",
            "  inflating: yolo_data/train/images/vid_4_12320.jpg  \n",
            "  inflating: yolo_data/train/images/vid_4_6520.jpg  \n",
            "  inflating: yolo_data/train/images/vid_4_15020.jpg  \n",
            "  inflating: yolo_data/train/images/vid_4_9440.jpg  \n",
            "  inflating: yolo_data/train/images/vid_4_9640.jpg  \n",
            "  inflating: yolo_data/train/images/vid_4_21300.jpg  \n",
            "  inflating: yolo_data/train/images/vid_4_26400.jpg  \n",
            "  inflating: yolo_data/train/images/vid_4_8740.jpg  \n",
            "  inflating: yolo_data/train/images/vid_4_16680.jpg  \n",
            "  inflating: yolo_data/train/images/vid_4_26340.jpg  \n",
            "  inflating: yolo_data/train/images/vid_4_13640.jpg  \n",
            "  inflating: yolo_data/train/images/vid_4_9600.jpg  \n",
            "  inflating: yolo_data/train/images/vid_4_6500.jpg  \n",
            "  inflating: yolo_data/train/images/vid_4_16720.jpg  \n",
            "  inflating: yolo_data/train/images/vid_4_2180.jpg  \n",
            "  inflating: yolo_data/train/images/vid_4_9520.jpg  \n",
            "  inflating: yolo_data/train/images/vid_4_6240.jpg  \n",
            "  inflating: yolo_data/train/images/vid_4_10960.jpg  \n",
            "  inflating: yolo_data/train/images/vid_4_23020.jpg  \n",
            "  inflating: yolo_data/train/images/vid_4_14160.jpg  \n",
            "  inflating: yolo_data/train/images/vid_4_12260.jpg  \n",
            "  inflating: yolo_data/train/images/vid_4_8600.jpg  \n",
            "  inflating: yolo_data/train/images/vid_4_14340.jpg  \n",
            "  inflating: yolo_data/train/images/vid_4_9340.jpg  \n",
            "  inflating: yolo_data/train/images/vid_4_8680.jpg  \n",
            "  inflating: yolo_data/train/images/vid_4_1980.jpg  \n",
            "  inflating: yolo_data/train/images/vid_4_29560.jpg  \n",
            "  inflating: yolo_data/train/images/vid_4_9060.jpg  \n",
            "  inflating: yolo_data/train/images/vid_4_14400.jpg  \n",
            "  inflating: yolo_data/train/images/vid_4_1860.jpg  \n",
            "  inflating: yolo_data/train/images/vid_4_3560.jpg  \n",
            "  inflating: yolo_data/train/images/vid_4_12220.jpg  \n",
            "  inflating: yolo_data/train/images/vid_4_11020.jpg  \n",
            "  inflating: yolo_data/train/images/vid_4_6200.jpg  \n",
            "  inflating: yolo_data/train/images/vid_4_28200.jpg  \n",
            "  inflating: yolo_data/train/images/vid_4_22700.jpg  \n",
            "  inflating: yolo_data/train/images/vid_4_9840.jpg  \n",
            "  inflating: yolo_data/train/images/vid_4_11880.jpg  \n",
            "  inflating: yolo_data/train/images/vid_4_21160.jpg  \n",
            "  inflating: yolo_data/train/images/vid_4_17240.jpg  \n",
            "  inflating: yolo_data/train/images/vid_4_19920.jpg  \n",
            "  inflating: yolo_data/train/images/vid_4_9420.jpg  \n",
            "  inflating: yolo_data/train/images/vid_4_680.jpg  \n",
            "  inflating: yolo_data/train/images/vid_4_21520.jpg  \n",
            "  inflating: yolo_data/train/images/vid_4_8220.jpg  \n",
            "  inflating: yolo_data/train/images/vid_4_1760.jpg  \n",
            "  inflating: yolo_data/train/images/vid_4_12480.jpg  \n",
            "  inflating: yolo_data/train/images/vid_4_15040.jpg  \n",
            "  inflating: yolo_data/train/images/vid_4_14360.jpg  \n",
            "  inflating: yolo_data/train/images/vid_4_15000.jpg  \n",
            "  inflating: yolo_data/train/images/vid_4_16040.jpg  \n",
            "  inflating: yolo_data/train/images/vid_4_3200.jpg  \n",
            "  inflating: yolo_data/train/images/vid_4_13760.jpg  \n",
            "  inflating: yolo_data/train/images/vid_4_13680.jpg  \n",
            "  inflating: yolo_data/train/images/vid_4_2000.jpg  \n",
            "  inflating: yolo_data/train/images/vid_4_9020.jpg  \n",
            "  inflating: yolo_data/train/images/vid_4_29980.jpg  \n",
            "  inflating: yolo_data/train/images/vid_4_26480.jpg  \n",
            "  inflating: yolo_data/train/images/vid_4_16000.jpg  \n",
            "  inflating: yolo_data/train/images/vid_4_21420.jpg  \n",
            "  inflating: yolo_data/train/images/vid_4_18840.jpg  \n",
            "  inflating: yolo_data/train/images/vid_4_21560.jpg  \n",
            "  inflating: yolo_data/train/images/vid_4_26380.jpg  \n",
            "  inflating: yolo_data/train/images/vid_4_8320.jpg  \n",
            "  inflating: yolo_data/train/images/vid_4_29920.jpg  \n",
            "  inflating: yolo_data/train/images/vid_4_10140.jpg  \n",
            "  inflating: yolo_data/train/images/vid_4_9000.jpg  \n",
            "  inflating: yolo_data/train/images/vid_4_600.jpg  \n",
            "  inflating: yolo_data/train/images/vid_4_22640.jpg  \n",
            "  inflating: yolo_data/train/images/vid_4_11440.jpg  \n",
            "  inflating: yolo_data/train/images/vid_4_1060.jpg  \n",
            "  inflating: yolo_data/train/images/vid_4_16180.jpg  \n",
            "  inflating: yolo_data/train/images/vid_4_3380.jpg  \n",
            "  inflating: yolo_data/train/images/vid_4_22660.jpg  \n",
            "  inflating: yolo_data/train/images/vid_4_13900.jpg  \n",
            "  inflating: yolo_data/train/images/vid_4_16500.jpg  \n",
            "  inflating: yolo_data/train/images/vid_4_21620.jpg  \n",
            "  inflating: yolo_data/train/images/vid_4_16660.jpg  \n",
            "  inflating: yolo_data/train/images/vid_4_3260.jpg  \n",
            "  inflating: yolo_data/train/images/vid_4_14380.jpg  \n",
            "  inflating: yolo_data/train/images/vid_4_3160.jpg  \n",
            "  inflating: yolo_data/train/images/vid_4_8720.jpg  \n",
            "  inflating: yolo_data/train/images/vid_4_19880.jpg  \n",
            "  inflating: yolo_data/train/images/vid_4_3800.jpg  \n",
            "  inflating: yolo_data/train/images/vid_4_16020.jpg  \n",
            "  inflating: yolo_data/train/images/vid_4_22740.jpg  \n",
            "  inflating: yolo_data/train/images/vid_4_18820.jpg  \n",
            "  inflating: yolo_data/train/images/vid_4_21320.jpg  \n",
            "  inflating: yolo_data/train/images/vid_4_17400.jpg  \n",
            "  inflating: yolo_data/train/images/vid_4_17060.jpg  \n",
            "  inflating: yolo_data/train/images/vid_4_3440.jpg  \n",
            "  inflating: yolo_data/train/images/vid_4_9860.jpg  \n",
            "  inflating: yolo_data/train/images/vid_4_720.jpg  \n",
            "  inflating: yolo_data/train/images/vid_4_11240.jpg  \n",
            "  inflating: yolo_data/train/images/vid_4_22720.jpg  \n",
            "  inflating: yolo_data/train/images/vid_4_8340.jpg  \n",
            "  inflating: yolo_data/train/images/vid_4_26560.jpg  \n",
            "  inflating: yolo_data/train/images/vid_4_30000.jpg  \n",
            "  inflating: yolo_data/train/images/vid_4_6180.jpg  \n",
            "  inflating: yolo_data/train/images/vid_4_11920.jpg  \n",
            "  inflating: yolo_data/train/images/vid_4_9500.jpg  \n",
            "  inflating: yolo_data/train/images/vid_4_12140.jpg  \n",
            "  inflating: yolo_data/train/images/vid_4_21600.jpg  \n",
            "  inflating: yolo_data/train/images/vid_4_2380.jpg  \n",
            "  inflating: yolo_data/train/images/vid_4_12160.jpg  \n",
            "  inflating: yolo_data/train/images/vid_4_1940.jpg  \n",
            "  inflating: yolo_data/train/images/vid_4_6440.jpg  \n",
            "  inflating: yolo_data/train/images/vid_4_21680.jpg  \n",
            "  inflating: yolo_data/train/images/vid_4_26460.jpg  \n",
            "  inflating: yolo_data/train/images/vid_4_6480.jpg  \n",
            "  inflating: yolo_data/train/images/vid_4_2420.jpg  \n",
            "  inflating: yolo_data/train/images/vid_4_17680.jpg  \n",
            "  inflating: yolo_data/train/images/vid_4_8560.jpg  \n",
            "  inflating: yolo_data/train/images/vid_4_3120.jpg  \n",
            "  inflating: yolo_data/train/images/vid_4_26420.jpg  \n",
            "  inflating: yolo_data/train/images/vid_4_12200.jpg  \n",
            "  inflating: yolo_data/train/images/vid_4_9660.jpg  \n",
            "  inflating: yolo_data/train/images/vid_4_620.jpg  \n",
            "  inflating: yolo_data/train/images/vid_4_21260.jpg  \n",
            "  inflating: yolo_data/train/images/vid_4_26300.jpg  \n",
            "  inflating: yolo_data/train/images/vid_4_2080.jpg  \n",
            "  inflating: yolo_data/train/images/vid_4_2100.jpg  \n",
            "  inflating: yolo_data/train/images/vid_4_700.jpg  \n",
            "  inflating: yolo_data/train/images/vid_4_4520.jpg  \n",
            "  inflating: yolo_data/train/images/vid_4_13920.jpg  \n",
            "  inflating: yolo_data/train/images/vid_4_10000.jpg  \n",
            "  inflating: yolo_data/train/images/vid_4_14480.jpg  \n",
            "  inflating: yolo_data/train/images/vid_4_21640.jpg  \n",
            "  inflating: yolo_data/train/images/vid_4_2140.jpg  \n",
            "  inflating: yolo_data/train/images/vid_4_6280.jpg  \n",
            "  inflating: yolo_data/train/images/vid_4_3520.jpg  \n",
            "  inflating: yolo_data/train/images/vid_4_9700.jpg  \n",
            "  inflating: yolo_data/train/images/vid_4_8960.jpg  \n",
            "  inflating: yolo_data/train/images/vid_4_10060.jpg  \n",
            "  inflating: yolo_data/train/images/vid_4_13620.jpg  \n",
            "  inflating: yolo_data/train/images/vid_4_17180.jpg  \n",
            "  inflating: yolo_data/train/images/vid_4_6300.jpg  \n",
            "  inflating: yolo_data/train/images/vid_4_9820.jpg  \n",
            "  inflating: yolo_data/train/images/vid_4_16400.jpg  \n",
            "  inflating: yolo_data/train/images/vid_4_29460.jpg  \n",
            "  inflating: yolo_data/train/images/vid_4_16280.jpg  \n",
            "  inflating: yolo_data/train/images/vid_4_6400.jpg  \n",
            "  inflating: yolo_data/train/images/vid_4_2400.jpg  \n",
            "  inflating: yolo_data/train/images/vid_4_2040.jpg  \n",
            "  inflating: yolo_data/train/images/vid_4_1920.jpg  \n",
            "  inflating: yolo_data/train/images/vid_4_6220.jpg  \n",
            "  inflating: yolo_data/train/images/vid_4_9780.jpg  \n",
            "  inflating: yolo_data/train/images/vid_4_22240.jpg  \n",
            "  inflating: yolo_data/train/images/vid_4_17120.jpg  \n",
            "  inflating: yolo_data/train/images/vid_4_3340.jpg  \n",
            "  inflating: yolo_data/train/images/vid_4_9300.jpg  \n",
            "  inflating: yolo_data/train/images/vid_4_21480.jpg  \n",
            "  inflating: yolo_data/train/images/vid_4_26440.jpg  \n",
            "  inflating: yolo_data/train/images/vid_4_3220.jpg  \n",
            "  inflating: yolo_data/train/images/vid_4_12360.jpg  \n",
            "  inflating: yolo_data/train/images/vid_4_28240.jpg  \n",
            "  inflating: yolo_data/train/images/vid_4_2020.jpg  \n",
            "  inflating: yolo_data/train/images/vid_4_21200.jpg  \n",
            "  inflating: yolo_data/train/images/vid_4_17100.jpg  \n",
            "  inflating: yolo_data/train/images/vid_4_1880.jpg  \n",
            "  inflating: yolo_data/train/images/vid_4_29480.jpg  \n",
            "  inflating: yolo_data/train/images/vid_4_13780.jpg  \n",
            "  inflating: yolo_data/train/images/vid_4_28840.jpg  \n",
            "  inflating: yolo_data/train/images/vid_4_17140.jpg  \n",
            "  inflating: yolo_data/train/images/vid_4_13800.jpg  \n",
            "  inflating: yolo_data/train/images/vid_4_1040.jpg  \n",
            "  inflating: yolo_data/train/images/vid_4_12060.jpg  \n",
            "  inflating: yolo_data/train/images/vid_4_21240.jpg  \n",
            "  inflating: yolo_data/train/images/vid_4_2540.jpg  \n",
            "  inflating: yolo_data/train/images/vid_4_29540.jpg  \n",
            "  inflating: yolo_data/train/images/vid_4_6380.jpg  \n",
            "  inflating: yolo_data/train/images/vid_4_12280.jpg  \n",
            "  inflating: yolo_data/train/images/vid_4_21500.jpg  \n",
            "  inflating: yolo_data/train/images/vid_4_11000.jpg  \n",
            "  inflating: yolo_data/train/images/vid_4_16100.jpg  \n",
            "  inflating: yolo_data/train/images/vid_4_16300.jpg  \n",
            "  inflating: yolo_data/train/images/vid_4_26540.jpg  \n",
            "  inflating: yolo_data/train/images/vid_4_9240.jpg  \n",
            "  inflating: yolo_data/train/images/vid_4_6360.jpg  \n",
            "  inflating: yolo_data/train/images/vid_4_9040.jpg  \n",
            "  inflating: yolo_data/train/images/vid_4_18320.jpg  \n",
            "  inflating: yolo_data/train/images/vid_4_30020.jpg  \n",
            "  inflating: yolo_data/train/images/vid_4_13660.jpg  \n",
            "  inflating: yolo_data/train/images/vid_4_21540.jpg  \n",
            "  inflating: yolo_data/train/images/vid_4_8260.jpg  \n",
            "  inflating: yolo_data/train/images/vid_4_17340.jpg  \n",
            "  inflating: yolo_data/train/images/vid_4_26360.jpg  \n",
            "  inflating: yolo_data/train/images/vid_4_9560.jpg  \n",
            "  inflating: yolo_data/train/images/vid_4_17360.jpg  \n",
            "  inflating: yolo_data/train/images/vid_4_14440.jpg  \n",
            "  inflating: yolo_data/train/images/vid_4_2160.jpg  \n",
            "  inflating: yolo_data/train/images/vid_4_16160.jpg  \n",
            "  inflating: yolo_data/train/images/vid_4_16700.jpg  \n",
            "  inflating: yolo_data/train/images/vid_4_17660.jpg  \n",
            "  inflating: yolo_data/train/images/vid_4_16060.jpg  \n",
            "  inflating: yolo_data/train/images/vid_4_19080.jpg  \n",
            "  inflating: yolo_data/train/images/vid_4_12000.jpg  \n",
            "  inflating: yolo_data/train/images/vid_4_8640.jpg  \n",
            "  inflating: yolo_data/train/images/vid_4_6160.jpg  \n",
            "  inflating: yolo_data/train/images/vid_4_1840.jpg  \n",
            "  inflating: yolo_data/train/images/vid_4_9900.jpg  \n",
            "  inflating: yolo_data/train/images/vid_4_11400.jpg  \n",
            "  inflating: yolo_data/train/images/vid_4_1960.jpg  \n",
            "  inflating: yolo_data/train/images/vid_4_13840.jpg  \n",
            "  inflating: yolo_data/train/images/vid_4_11980.jpg  \n",
            "  inflating: yolo_data/train/images/vid_4_10020.jpg  \n",
            "  inflating: yolo_data/train/images/vid_4_13720.jpg  \n",
            "  inflating: yolo_data/train/images/vid_4_19760.jpg  \n",
            "  inflating: yolo_data/train/images/vid_4_26520.jpg  \n",
            "  inflating: yolo_data/train/images/vid_4_17160.jpg  \n",
            "  inflating: yolo_data/train/images/vid_4_29900.jpg  \n",
            "  inflating: yolo_data/train/images/vid_4_1020.jpg  \n",
            "  inflating: yolo_data/train/images/vid_4_6320.jpg  \n",
            "  inflating: yolo_data/train/images/vid_4_900.jpg  \n",
            "  inflating: yolo_data/train/images/vid_4_12120.jpg  \n",
            "  inflating: yolo_data/train/images/vid_4_8580.jpg  \n",
            "  inflating: yolo_data/train/images/vid_4_10520.jpg  \n",
            "  inflating: yolo_data/train/images/vid_4_9320.jpg  \n",
            "  inflating: yolo_data/train/images/vid_4_17080.jpg  \n",
            "  inflating: yolo_data/train/images/vid_4_17440.jpg  \n",
            "  inflating: yolo_data/train/images/vid_4_3240.jpg  \n",
            "  inflating: yolo_data/train/images/vid_4_29520.jpg  \n",
            "  inflating: yolo_data/train/images/vid_4_14500.jpg  \n",
            "  inflating: yolo_data/train/images/vid_4_19060.jpg  \n",
            "  inflating: yolo_data/train/images/vid_4_17580.jpg  \n",
            "  inflating: yolo_data/train/images/vid_4_9280.jpg  \n",
            "  inflating: yolo_data/train/images/vid_4_9880.jpg  \n",
            "  inflating: yolo_data/train/images/vid_4_11260.jpg  \n",
            "  inflating: yolo_data/train/images/vid_4_21440.jpg  \n",
            "  inflating: yolo_data/train/images/vid_4_9740.jpg  \n",
            "  inflating: yolo_data/train/images/vid_4_9720.jpg  \n",
            "  inflating: yolo_data/train/images/vid_4_19740.jpg  \n",
            "  inflating: yolo_data/train/images/vid_4_23000.jpg  \n",
            "  inflating: yolo_data/train/images/vid_4_17620.jpg  \n",
            "  inflating: yolo_data/train/images/vid_4_860.jpg  \n",
            "  inflating: yolo_data/train/images/vid_4_9980.jpg  \n",
            "  inflating: yolo_data/train/images/vid_4_3360.jpg  \n",
            "  inflating: yolo_data/train/images/vid_4_21400.jpg  \n",
            "  inflating: yolo_data/train/images/vid_4_29880.jpg  \n",
            "  inflating: yolo_data/train/images/vid_4_6260.jpg  \n",
            "  inflating: yolo_data/train/images/vid_4_10040.jpg  \n",
            "  inflating: yolo_data/train/images/vid_4_22220.jpg  \n",
            "  inflating: yolo_data/train/images/vid_4_2200.jpg  \n",
            "  inflating: yolo_data/train/images/vid_4_12340.jpg  \n",
            "  inflating: yolo_data/train/images/vid_4_26320.jpg  \n",
            "  inflating: yolo_data/train/images/vid_4_21280.jpg  \n",
            "  inflating: yolo_data/train/images/vid_4_17540.jpg  \n",
            "  inflating: yolo_data/train/images/vid_4_740.jpg  \n",
            "  inflating: yolo_data/train/images/vid_4_9580.jpg  \n",
            "  inflating: yolo_data/train/images/vid_4_19900.jpg  \n",
            "  inflating: yolo_data/train/images/vid_4_2520.jpg  \n",
            "  inflating: yolo_data/train/images/vid_4_12240.jpg  \n",
            "  inflating: yolo_data/train/images/vid_4_2120.jpg  \n",
            "  inflating: yolo_data/train/images/vid_4_10120.jpg  \n",
            "  inflating: yolo_data/train/images/vid_4_10480.jpg  \n",
            "  inflating: yolo_data/train/images/vid_4_9620.jpg  \n",
            "  inflating: yolo_data/train/images/vid_4_18360.jpg  \n",
            "  inflating: yolo_data/train/images/vid_4_6460.jpg  \n",
            "  inflating: yolo_data/train/images/vid_4_9260.jpg  \n",
            "  inflating: yolo_data/train/images/vid_4_16320.jpg  \n",
            "  inflating: yolo_data/train/images/vid_4_9800.jpg  \n",
            "  inflating: yolo_data/train/images/vid_4_8980.jpg  \n",
            "  inflating: yolo_data/train/images/vid_4_26580.jpg  \n",
            "  inflating: yolo_data/train/images/vid_4_10500.jpg  \n",
            "  inflating: yolo_data/train/images/vid_4_17560.jpg  \n",
            "  inflating: yolo_data/train/images/vid_4_17600.jpg  \n",
            "  inflating: yolo_data/train/images/vid_4_8240.jpg  \n",
            "  inflating: yolo_data/train/images/vid_4_880.jpg  \n",
            "  inflating: yolo_data/train/images/vid_4_14140.jpg  \n",
            "  inflating: yolo_data/train/images/vid_4_11940.jpg  \n",
            "   creating: yolo_data/train/labels/\n",
            "  inflating: yolo_data/train/labels/vid_4_12480.txt  \n",
            "  inflating: yolo_data/train/labels/vid_4_11920.txt  \n",
            "  inflating: yolo_data/train/labels/vid_4_26440.txt  \n",
            "  inflating: yolo_data/train/labels/vid_4_10500.txt  \n",
            "  inflating: yolo_data/train/labels/vid_4_2080.txt  \n",
            "  inflating: yolo_data/train/labels/vid_4_29900.txt  \n",
            "  inflating: yolo_data/train/labels/vid_4_13840.txt  \n",
            "  inflating: yolo_data/train/labels/vid_4_16680.txt  \n",
            "  inflating: yolo_data/train/labels/vid_4_28840.txt  \n",
            "  inflating: yolo_data/train/labels/vid_4_10100.txt  \n",
            "  inflating: yolo_data/train/labels/vid_4_17160.txt  \n",
            "  inflating: yolo_data/train/labels/vid_4_14140.txt  \n",
            "  inflating: yolo_data/train/labels/vid_4_22980.txt  \n",
            "  inflating: yolo_data/train/labels/vid_4_12280.txt  \n",
            "  inflating: yolo_data/train/labels/vid_4_960.txt  \n",
            "  inflating: yolo_data/train/labels/vid_4_2160.txt  \n",
            "  inflating: yolo_data/train/labels/vid_4_2040.txt  \n",
            "  inflating: yolo_data/train/labels/vid_4_26380.txt  \n",
            "  inflating: yolo_data/train/labels/vid_4_26360.txt  \n",
            "  inflating: yolo_data/train/labels/vid_4_13740.txt  \n",
            "  inflating: yolo_data/train/labels/vid_4_13920.txt  \n",
            "  inflating: yolo_data/train/labels/vid_4_8220.txt  \n",
            "  inflating: yolo_data/train/labels/vid_4_21420.txt  \n",
            "  inflating: yolo_data/train/labels/vid_4_13860.txt  \n",
            "  inflating: yolo_data/train/labels/vid_4_14160.txt  \n",
            "  inflating: yolo_data/train/labels/vid_4_1940.txt  \n",
            "  inflating: yolo_data/train/labels/vid_4_17320.txt  \n",
            "  inflating: yolo_data/train/labels/vid_4_11260.txt  \n",
            "  inflating: yolo_data/train/labels/vid_4_10480.txt  \n",
            "  inflating: yolo_data/train/labels/vid_4_17580.txt  \n",
            "  inflating: yolo_data/train/labels/vid_4_28860.txt  \n",
            "  inflating: yolo_data/train/labels/vid_4_14340.txt  \n",
            "  inflating: yolo_data/train/labels/vid_4_1760.txt  \n",
            "  inflating: yolo_data/train/labels/vid_4_16140.txt  \n",
            "  inflating: yolo_data/train/labels/vid_4_17180.txt  \n",
            "  inflating: yolo_data/train/labels/vid_4_16060.txt  \n",
            "  inflating: yolo_data/train/labels/vid_4_3440.txt  \n",
            "  inflating: yolo_data/train/labels/vid_4_28200.txt  \n",
            "  inflating: yolo_data/train/labels/vid_4_12080.txt  \n",
            "  inflating: yolo_data/train/labels/vid_4_16280.txt  \n",
            "  inflating: yolo_data/train/labels/vid_4_8960.txt  \n",
            "  inflating: yolo_data/train/labels/vid_4_3840.txt  \n",
            "  inflating: yolo_data/train/labels/vid_4_12300.txt  \n",
            "  inflating: yolo_data/train/labels/vid_4_21580.txt  \n",
            "  inflating: yolo_data/train/labels/vid_4_2100.txt  \n",
            "  inflating: yolo_data/train/labels/vid_4_9020.txt  \n",
            "  inflating: yolo_data/train/labels/vid_4_3340.txt  \n",
            "  inflating: yolo_data/train/labels/vid_4_2140.txt  \n",
            "  inflating: yolo_data/train/labels/vid_4_17240.txt  \n",
            "  inflating: yolo_data/train/labels/vid_4_16020.txt  \n",
            "  inflating: yolo_data/train/labels/vid_4_6480.txt  \n",
            "  inflating: yolo_data/train/labels/vid_4_10520.txt  \n",
            "  inflating: yolo_data/train/labels/vid_4_16300.txt  \n",
            "  inflating: yolo_data/train/labels/vid_4_28880.txt  \n",
            "  inflating: yolo_data/train/labels/vid_4_12360.txt  \n",
            "  inflating: yolo_data/train/labels/vid_4_26340.txt  \n",
            "  inflating: yolo_data/train/labels/vid_4_11880.txt  \n",
            "  inflating: yolo_data/train/labels/vid_4_17540.txt  \n",
            "  inflating: yolo_data/train/labels/vid_4_6320.txt  \n",
            "  inflating: yolo_data/train/labels/vid_4_12180.txt  \n",
            "  inflating: yolo_data/train/labels/vid_4_680.txt  \n",
            "  inflating: yolo_data/train/labels/vid_4_6520.txt  \n",
            "  inflating: yolo_data/train/labels/vid_4_8560.txt  \n",
            "  inflating: yolo_data/train/labels/vid_4_12260.txt  \n",
            "  inflating: yolo_data/train/labels/vid_4_19740.txt  \n",
            "  inflating: yolo_data/train/labels/vid_4_2020.txt  \n",
            "  inflating: yolo_data/train/labels/vid_4_23020.txt  \n",
            "  inflating: yolo_data/train/labels/vid_4_17680.txt  \n",
            "  inflating: yolo_data/train/labels/vid_4_22660.txt  \n",
            "  inflating: yolo_data/train/labels/vid_4_29960.txt  \n",
            "  inflating: yolo_data/train/labels/vid_4_18880.txt  \n",
            "  inflating: yolo_data/train/labels/vid_4_9880.txt  \n",
            "  inflating: yolo_data/train/labels/vid_4_4520.txt  \n",
            "  inflating: yolo_data/train/labels/vid_4_3160.txt  \n",
            "  inflating: yolo_data/train/labels/vid_4_6280.txt  \n",
            "  inflating: yolo_data/train/labels/vid_4_29540.txt  \n",
            "  inflating: yolo_data/train/labels/vid_4_9520.txt  \n",
            "  inflating: yolo_data/train/labels/vid_4_19780.txt  \n",
            "  inflating: yolo_data/train/labels/vid_4_11960.txt  \n",
            "  inflating: yolo_data/train/labels/vid_4_21240.txt  \n",
            "  inflating: yolo_data/train/labels/vid_4_16000.txt  \n",
            "  inflating: yolo_data/train/labels/vid_4_21600.txt  \n",
            "  inflating: yolo_data/train/labels/vid_4_12340.txt  \n",
            "  inflating: yolo_data/train/labels/vid_4_9440.txt  \n",
            "  inflating: yolo_data/train/labels/vid_4_9720.txt  \n",
            "  inflating: yolo_data/train/labels/vid_4_21440.txt  \n",
            "  inflating: yolo_data/train/labels/vid_4_18180.txt  \n",
            "  inflating: yolo_data/train/labels/vid_4_29920.txt  \n",
            "  inflating: yolo_data/train/labels/vid_4_21160.txt  \n",
            "  inflating: yolo_data/train/labels/vid_4_21620.txt  \n",
            "  inflating: yolo_data/train/labels/vid_4_9300.txt  \n",
            "  inflating: yolo_data/train/labels/vid_4_9040.txt  \n",
            "  inflating: yolo_data/train/labels/vid_4_9780.txt  \n",
            "  inflating: yolo_data/train/labels/vid_4_28220.txt  \n",
            "  inflating: yolo_data/train/labels/vid_4_10120.txt  \n",
            "  inflating: yolo_data/train/labels/vid_4_13660.txt  \n",
            "  inflating: yolo_data/train/labels/vid_4_6440.txt  \n",
            "  inflating: yolo_data/train/labels/vid_4_21400.txt  \n",
            "  inflating: yolo_data/train/labels/vid_4_11440.txt  \n",
            "  inflating: yolo_data/train/labels/vid_4_3560.txt  \n",
            "  inflating: yolo_data/train/labels/vid_4_3140.txt  \n",
            "  inflating: yolo_data/train/labels/vid_4_18840.txt  \n",
            "  inflating: yolo_data/train/labels/vid_4_14460.txt  \n",
            "  inflating: yolo_data/train/labels/vid_4_6200.txt  \n",
            "  inflating: yolo_data/train/labels/vid_4_8240.txt  \n",
            "  inflating: yolo_data/train/labels/vid_4_940.txt  \n",
            "  inflating: yolo_data/train/labels/vid_4_17640.txt  \n",
            "  inflating: yolo_data/train/labels/vid_4_26480.txt  \n",
            "  inflating: yolo_data/train/labels/vid_4_18340.txt  \n",
            "  inflating: yolo_data/train/labels/vid_4_18820.txt  \n",
            "  inflating: yolo_data/train/labels/vid_4_19060.txt  \n",
            "  inflating: yolo_data/train/labels/vid_4_8600.txt  \n",
            "  inflating: yolo_data/train/labels/vid_4_1980.txt  \n",
            "  inflating: yolo_data/train/labels/vid_4_13680.txt  \n",
            "  inflating: yolo_data/train/labels/vid_4_16700.txt  \n",
            "  inflating: yolo_data/train/labels/vid_4_16500.txt  \n",
            "  inflating: yolo_data/train/labels/vid_4_9500.txt  \n",
            "  inflating: yolo_data/train/labels/vid_4_14440.txt  \n",
            "  inflating: yolo_data/train/labels/vid_4_17080.txt  \n",
            "  inflating: yolo_data/train/labels/vid_4_21640.txt  \n",
            "  inflating: yolo_data/train/labels/vid_4_16720.txt  \n",
            "  inflating: yolo_data/train/labels/vid_4_13580.txt  \n",
            "  inflating: yolo_data/train/labels/vid_4_22640.txt  \n",
            "  inflating: yolo_data/train/labels/vid_4_19040.txt  \n",
            "  inflating: yolo_data/train/labels/vid_4_9760.txt  \n",
            "  inflating: yolo_data/train/labels/vid_4_9820.txt  \n",
            "  inflating: yolo_data/train/labels/vid_4_17560.txt  \n",
            "  inflating: yolo_data/train/labels/vid_4_21520.txt  \n",
            "  inflating: yolo_data/train/labels/vid_4_15020.txt  \n",
            "  inflating: yolo_data/train/labels/vid_4_12100.txt  \n",
            "  inflating: yolo_data/train/labels/vid_4_12140.txt  \n",
            "  inflating: yolo_data/train/labels/vid_4_12160.txt  \n",
            "  inflating: yolo_data/train/labels/vid_4_12120.txt  \n",
            "  inflating: yolo_data/train/labels/vid_4_700.txt  \n",
            "  inflating: yolo_data/train/labels/vid_4_3240.txt  \n",
            "  inflating: yolo_data/train/labels/vid_4_10140.txt  \n",
            "  inflating: yolo_data/train/labels/vid_4_720.txt  \n",
            "  inflating: yolo_data/train/labels/vid_4_6260.txt  \n",
            "  inflating: yolo_data/train/labels/vid_4_2420.txt  \n",
            "  inflating: yolo_data/train/labels/vid_4_2060.txt  \n",
            "  inflating: yolo_data/train/labels/vid_4_22700.txt  \n",
            "  inflating: yolo_data/train/labels/vid_4_16400.txt  \n",
            "  inflating: yolo_data/train/labels/vid_4_9600.txt  \n",
            "  inflating: yolo_data/train/labels/vid_4_13640.txt  \n",
            "  inflating: yolo_data/train/labels/vid_4_10040.txt  \n",
            "  inflating: yolo_data/train/labels/vid_4_26420.txt  \n",
            "  inflating: yolo_data/train/labels/vid_4_13620.txt  \n",
            "  inflating: yolo_data/train/labels/vid_4_30000.txt  \n",
            "  inflating: yolo_data/train/labels/vid_4_1020.txt  \n",
            "  inflating: yolo_data/train/labels/vid_4_30020.txt  \n",
            "  inflating: yolo_data/train/labels/vid_4_620.txt  \n",
            "  inflating: yolo_data/train/labels/vid_4_11280.txt  \n",
            "  inflating: yolo_data/train/labels/vid_4_12240.txt  \n",
            "  inflating: yolo_data/train/labels/vid_4_11400.txt  \n",
            "  inflating: yolo_data/train/labels/vid_4_29460.txt  \n",
            "  inflating: yolo_data/train/labels/vid_4_2540.txt  \n",
            "  inflating: yolo_data/train/labels/vid_4_9700.txt  \n",
            "  inflating: yolo_data/train/labels/vid_4_1800.txt  \n",
            "  inflating: yolo_data/train/labels/vid_4_9980.txt  \n",
            "  inflating: yolo_data/train/labels/vid_4_3220.txt  \n",
            "  inflating: yolo_data/train/labels/vid_4_21200.txt  \n",
            "  inflating: yolo_data/train/labels/vid_4_29880.txt  \n",
            "  inflating: yolo_data/train/labels/vid_4_2520.txt  \n",
            "  inflating: yolo_data/train/labels/vid_4_3260.txt  \n",
            "  inflating: yolo_data/train/labels/vid_4_16100.txt  \n",
            "  inflating: yolo_data/train/labels/vid_4_8300.txt  \n",
            "  inflating: yolo_data/train/labels/vid_4_26560.txt  \n",
            "  inflating: yolo_data/train/labels/vid_4_3360.txt  \n",
            "  inflating: yolo_data/train/labels/vid_4_16660.txt  \n",
            "  inflating: yolo_data/train/labels/vid_4_8280.txt  \n",
            "  inflating: yolo_data/train/labels/vid_4_12000.txt  \n",
            "  inflating: yolo_data/train/labels/vid_4_26300.txt  \n",
            "  inflating: yolo_data/train/labels/vid_4_21480.txt  \n",
            "  inflating: yolo_data/train/labels/vid_4_6180.txt  \n",
            "  inflating: yolo_data/train/labels/vid_4_17620.txt  \n",
            "  inflating: yolo_data/train/labels/vid_4_3200.txt  \n",
            "  inflating: yolo_data/train/labels/vid_4_2400.txt  \n",
            "  inflating: yolo_data/train/labels/vid_4_17440.txt  \n",
            "  inflating: yolo_data/train/labels/vid_4_21540.txt  \n",
            "  inflating: yolo_data/train/labels/vid_4_29940.txt  \n",
            "  inflating: yolo_data/train/labels/vid_4_2120.txt  \n",
            "  inflating: yolo_data/train/labels/vid_4_19760.txt  \n",
            "  inflating: yolo_data/train/labels/vid_4_980.txt  \n",
            "  inflating: yolo_data/train/labels/vid_4_11900.txt  \n",
            "  inflating: yolo_data/train/labels/vid_4_21500.txt  \n",
            "  inflating: yolo_data/train/labels/vid_4_2200.txt  \n",
            "  inflating: yolo_data/train/labels/vid_4_13700.txt  \n",
            "  inflating: yolo_data/train/labels/vid_4_8320.txt  \n",
            "  inflating: yolo_data/train/labels/vid_4_6340.txt  \n",
            "  inflating: yolo_data/train/labels/vid_4_8660.txt  \n",
            "  inflating: yolo_data/train/labels/vid_4_17660.txt  \n",
            "  inflating: yolo_data/train/labels/vid_4_8720.txt  \n",
            "  inflating: yolo_data/train/labels/vid_4_13900.txt  \n",
            "  inflating: yolo_data/train/labels/vid_4_16040.txt  \n",
            "  inflating: yolo_data/train/labels/vid_4_1960.txt  \n",
            "  inflating: yolo_data/train/labels/vid_4_860.txt  \n",
            "  inflating: yolo_data/train/labels/vid_4_8260.txt  \n",
            "  inflating: yolo_data/train/labels/vid_4_17120.txt  \n",
            "  inflating: yolo_data/train/labels/vid_4_24760.txt  \n",
            "  inflating: yolo_data/train/labels/vid_4_6380.txt  \n",
            "  inflating: yolo_data/train/labels/vid_4_9420.txt  \n",
            "  inflating: yolo_data/train/labels/vid_4_6500.txt  \n",
            "  inflating: yolo_data/train/labels/vid_4_26320.txt  \n",
            "  inflating: yolo_data/train/labels/vid_4_21180.txt  \n",
            "  inflating: yolo_data/train/labels/vid_4_8700.txt  \n",
            "  inflating: yolo_data/train/labels/vid_4_14400.txt  \n",
            "  inflating: yolo_data/train/labels/vid_4_8580.txt  \n",
            "  inflating: yolo_data/train/labels/vid_4_17140.txt  \n",
            "  inflating: yolo_data/train/labels/vid_4_21280.txt  \n",
            "  inflating: yolo_data/train/labels/vid_4_880.txt  \n",
            "  inflating: yolo_data/train/labels/vid_4_21300.txt  \n",
            "  inflating: yolo_data/train/labels/vid_4_22580.txt  \n",
            "  inflating: yolo_data/train/labels/vid_4_16120.txt  \n",
            "  inflating: yolo_data/train/labels/vid_4_16420.txt  \n",
            "  inflating: yolo_data/train/labels/vid_4_9580.txt  \n",
            "  inflating: yolo_data/train/labels/vid_4_26520.txt  \n",
            "  inflating: yolo_data/train/labels/vid_4_9460.txt  \n",
            "  inflating: yolo_data/train/labels/vid_4_9000.txt  \n",
            "  inflating: yolo_data/train/labels/vid_4_8340.txt  \n",
            "  inflating: yolo_data/train/labels/vid_4_26580.txt  \n",
            "  inflating: yolo_data/train/labels/vid_4_21260.txt  \n",
            "  inflating: yolo_data/train/labels/vid_4_10980.txt  \n",
            "  inflating: yolo_data/train/labels/vid_4_6160.txt  \n",
            "  inflating: yolo_data/train/labels/vid_4_17260.txt  \n",
            "  inflating: yolo_data/train/labels/vid_4_740.txt  \n",
            "  inflating: yolo_data/train/labels/vid_4_13760.txt  \n",
            "  inflating: yolo_data/train/labels/vid_4_9840.txt  \n",
            "  inflating: yolo_data/train/labels/vid_4_10000.txt  \n",
            "  inflating: yolo_data/train/labels/vid_4_920.txt  \n",
            "  inflating: yolo_data/train/labels/vid_4_14360.txt  \n",
            "  inflating: yolo_data/train/labels/vid_4_22540.txt  \n",
            "  inflating: yolo_data/train/labels/vid_4_11940.txt  \n",
            "  inflating: yolo_data/train/labels/vid_4_12220.txt  \n",
            "  inflating: yolo_data/train/labels/vid_4_1060.txt  \n",
            "  inflating: yolo_data/train/labels/vid_4_29980.txt  \n",
            "  inflating: yolo_data/train/labels/vid_4_17100.txt  \n",
            "  inflating: yolo_data/train/labels/vid_4_12200.txt  \n",
            "  inflating: yolo_data/train/labels/vid_4_17340.txt  \n",
            "  inflating: yolo_data/train/labels/vid_4_9060.txt  \n",
            "  inflating: yolo_data/train/labels/vid_4_28820.txt  \n",
            "  inflating: yolo_data/train/labels/vid_4_900.txt  \n",
            "  inflating: yolo_data/train/labels/vid_4_26400.txt  \n",
            "  inflating: yolo_data/train/labels/vid_4_11240.txt  \n",
            "  inflating: yolo_data/train/labels/vid_4_6400.txt  \n",
            "  inflating: yolo_data/train/labels/vid_4_3120.txt  \n",
            "  inflating: yolo_data/train/labels/vid_4_9320.txt  \n",
            "  inflating: yolo_data/train/labels/vid_4_17420.txt  \n",
            "  inflating: yolo_data/train/labels/vid_4_600.txt  \n",
            "  inflating: yolo_data/train/labels/vid_4_3180.txt  \n",
            "  inflating: yolo_data/train/labels/vid_4_26500.txt  \n",
            "  inflating: yolo_data/train/labels/vid_4_6460.txt  \n",
            "  inflating: yolo_data/train/labels/vid_4_11980.txt  \n",
            "  inflating: yolo_data/train/labels/vid_4_29520.txt  \n",
            "  inflating: yolo_data/train/labels/vid_4_9560.txt  \n",
            "  inflating: yolo_data/train/labels/vid_4_11000.txt  \n",
            "  inflating: yolo_data/train/labels/vid_4_9660.txt  \n",
            "  inflating: yolo_data/train/labels/vid_4_2180.txt  \n",
            "  inflating: yolo_data/train/labels/vid_4_9620.txt  \n",
            "  inflating: yolo_data/train/labels/vid_4_6240.txt  \n",
            "  inflating: yolo_data/train/labels/vid_4_8640.txt  \n",
            "  inflating: yolo_data/train/labels/vid_4_6360.txt  \n",
            "  inflating: yolo_data/train/labels/vid_4_26540.txt  \n",
            "  inflating: yolo_data/train/labels/vid_4_3520.txt  \n",
            "  inflating: yolo_data/train/labels/vid_4_1840.txt  \n",
            "  inflating: yolo_data/train/labels/vid_4_10960.txt  \n",
            "  inflating: yolo_data/train/labels/vid_4_2380.txt  \n",
            "  inflating: yolo_data/train/labels/vid_4_13780.txt  \n",
            "  inflating: yolo_data/train/labels/vid_4_11380.txt  \n",
            "  inflating: yolo_data/train/labels/vid_4_9640.txt  \n",
            "  inflating: yolo_data/train/labels/vid_4_22560.txt  \n",
            "  inflating: yolo_data/train/labels/vid_4_13820.txt  \n",
            "  inflating: yolo_data/train/labels/vid_4_17400.txt  \n",
            "  inflating: yolo_data/train/labels/vid_4_1040.txt  \n",
            "  inflating: yolo_data/train/labels/vid_4_13720.txt  \n",
            "  inflating: yolo_data/train/labels/vid_4_6420.txt  \n",
            "  inflating: yolo_data/train/labels/vid_4_15000.txt  \n",
            "  inflating: yolo_data/train/labels/vid_4_22740.txt  \n",
            "  inflating: yolo_data/train/labels/vid_4_17600.txt  \n",
            "  inflating: yolo_data/train/labels/vid_4_18360.txt  \n",
            "  inflating: yolo_data/train/labels/vid_4_15040.txt  \n",
            "  inflating: yolo_data/train/labels/vid_4_6220.txt  \n",
            "  inflating: yolo_data/train/labels/vid_4_12060.txt  \n",
            "  inflating: yolo_data/train/labels/vid_4_10020.txt  \n",
            "  inflating: yolo_data/train/labels/vid_4_19920.txt  \n",
            "  inflating: yolo_data/train/labels/vid_4_12320.txt  \n",
            "  inflating: yolo_data/train/labels/vid_4_11420.txt  \n",
            "  inflating: yolo_data/train/labels/vid_4_28240.txt  \n",
            "  inflating: yolo_data/train/labels/vid_4_19080.txt  \n",
            "  inflating: yolo_data/train/labels/vid_4_22240.txt  \n",
            "  inflating: yolo_data/train/labels/vid_4_8680.txt  \n",
            "  inflating: yolo_data/train/labels/vid_4_29560.txt  \n",
            "  inflating: yolo_data/train/labels/vid_4_4540.txt  \n",
            "  inflating: yolo_data/train/labels/vid_4_23000.txt  \n",
            "  inflating: yolo_data/train/labels/vid_4_2000.txt  \n",
            "  inflating: yolo_data/train/labels/vid_4_12040.txt  \n",
            "  inflating: yolo_data/train/labels/vid_4_1880.txt  \n",
            "  inflating: yolo_data/train/labels/vid_4_9240.txt  \n",
            "  inflating: yolo_data/train/labels/vid_4_8980.txt  \n",
            "  inflating: yolo_data/train/labels/vid_4_17060.txt  \n",
            "  inflating: yolo_data/train/labels/vid_4_29500.txt  \n",
            "  inflating: yolo_data/train/labels/vid_4_21680.txt  \n",
            "  inflating: yolo_data/train/labels/vid_4_16180.txt  \n",
            "  inflating: yolo_data/train/labels/vid_4_9280.txt  \n",
            "  inflating: yolo_data/train/labels/vid_4_9860.txt  \n",
            "  inflating: yolo_data/train/labels/vid_4_9340.txt  \n",
            "  inflating: yolo_data/train/labels/vid_4_16320.txt  \n",
            "  inflating: yolo_data/train/labels/vid_4_17040.txt  \n",
            "  inflating: yolo_data/train/labels/vid_4_9080.txt  \n",
            "  inflating: yolo_data/train/labels/vid_4_13800.txt  \n",
            "  inflating: yolo_data/train/labels/vid_4_18200.txt  \n",
            "  inflating: yolo_data/train/labels/vid_4_9540.txt  \n",
            "  inflating: yolo_data/train/labels/vid_4_16160.txt  \n",
            "  inflating: yolo_data/train/labels/vid_4_19880.txt  \n",
            "  inflating: yolo_data/train/labels/vid_4_1000.txt  \n",
            "  inflating: yolo_data/train/labels/vid_4_22720.txt  \n",
            "  inflating: yolo_data/train/labels/vid_4_18860.txt  \n",
            "  inflating: yolo_data/train/labels/vid_4_21560.txt  \n",
            "  inflating: yolo_data/train/labels/vid_4_10060.txt  \n",
            "  inflating: yolo_data/train/labels/vid_4_9900.txt  \n",
            "  inflating: yolo_data/train/labels/vid_4_1820.txt  \n",
            "  inflating: yolo_data/train/labels/vid_4_9260.txt  \n",
            "  inflating: yolo_data/train/labels/vid_4_3540.txt  \n",
            "  inflating: yolo_data/train/labels/vid_4_21660.txt  \n",
            "  inflating: yolo_data/train/labels/vid_4_1920.txt  \n",
            "  inflating: yolo_data/train/labels/vid_4_19900.txt  \n",
            "  inflating: yolo_data/train/labels/vid_4_4560.txt  \n",
            "  inflating: yolo_data/train/labels/vid_4_3380.txt  \n",
            "  inflating: yolo_data/train/labels/vid_4_1780.txt  \n",
            "  inflating: yolo_data/train/labels/vid_4_9800.txt  \n",
            "  inflating: yolo_data/train/labels/vid_4_14480.txt  \n",
            "  inflating: yolo_data/train/labels/vid_4_11020.txt  \n",
            "  inflating: yolo_data/train/labels/vid_4_26460.txt  \n",
            "  inflating: yolo_data/train/labels/vid_4_18320.txt  \n",
            "  inflating: yolo_data/train/labels/vid_4_8740.txt  \n",
            "  inflating: yolo_data/train/labels/vid_4_29480.txt  \n",
            "  inflating: yolo_data/train/labels/vid_4_14500.txt  \n",
            "  inflating: yolo_data/train/labels/vid_4_3800.txt  \n",
            "  inflating: yolo_data/train/labels/vid_4_6300.txt  \n",
            "  inflating: yolo_data/train/labels/vid_4_21320.txt  \n",
            "  inflating: yolo_data/train/labels/vid_4_1860.txt  \n",
            "  inflating: yolo_data/train/labels/vid_4_14380.txt  \n",
            "  inflating: yolo_data/train/labels/vid_4_17360.txt  \n",
            "  inflating: yolo_data/train/labels/vid_4_22220.txt  \n",
            "  inflating: yolo_data/train/labels/vid_4_21220.txt  \n",
            "  inflating: yolo_data/train/labels/vid_4_9740.txt  \n",
            "  inflating: yolo_data/data.yml      \n"
          ]
        }
      ]
    },
    {
      "cell_type": "code",
      "source": [
        "#cách 2 nếu cách 1 ko đc\n",
        "from google.colab import drive\n",
        "drive.mount ('/content/gdrive')"
      ],
      "metadata": {
        "id": "HUGlCUuc5ab0",
        "colab": {
          "base_uri": "https://localhost:8080/"
        },
        "outputId": "e4f24928-4455-471b-8ca0-13fd590cf370"
      },
      "execution_count": null,
      "outputs": [
        {
          "output_type": "stream",
          "name": "stdout",
          "text": [
            "Drive already mounted at /content/gdrive; to attempt to forcibly remount, call drive.mount(\"/content/gdrive\", force_remount=True).\n"
          ]
        }
      ]
    },
    {
      "cell_type": "code",
      "source": [
        "#copy path from gg drive\n",
        "!cp /content/gdrive/MyDrive/AIVietnam/cars_yolo_data.zip ."
      ],
      "metadata": {
        "id": "qVqZu4ZTKw-Y"
      },
      "execution_count": null,
      "outputs": []
    },
    {
      "cell_type": "code",
      "source": [
        "! unzip /content/cars_yolo_data.zip"
      ],
      "metadata": {
        "colab": {
          "base_uri": "https://localhost:8080/"
        },
        "id": "PYsd4yk6MPEj",
        "outputId": "ccb23103-8cfa-470f-f793-7dda500cbcaf"
      },
      "execution_count": null,
      "outputs": [
        {
          "output_type": "stream",
          "name": "stdout",
          "text": [
            "Archive:  /content/cars_yolo_data.zip\n",
            "replace yolo_data/val/images/vid_4_28440.jpg? [y]es, [n]o, [A]ll, [N]one, [r]ename: "
          ]
        }
      ]
    },
    {
      "cell_type": "code",
      "source": [
        "#lib dùng để chứa yolov8\n",
        "!pip install ultralytics\n"
      ],
      "metadata": {
        "colab": {
          "base_uri": "https://localhost:8080/"
        },
        "id": "imGmvkLE-RxD",
        "outputId": "427474e4-4b98-433e-e809-852f2a485365"
      },
      "execution_count": 1,
      "outputs": [
        {
          "output_type": "stream",
          "name": "stdout",
          "text": [
            "Collecting ultralytics\n",
            "  Downloading ultralytics-8.1.11-py3-none-any.whl (709 kB)\n",
            "\u001b[?25l     \u001b[90m━━━━━━━━━━━━━━━━━━━━━━━━━━━━━━━━━━━━━━━━\u001b[0m \u001b[32m0.0/709.5 kB\u001b[0m \u001b[31m?\u001b[0m eta \u001b[36m-:--:--\u001b[0m\r\u001b[2K     \u001b[91m━━━━━━━━━━━━━━━━\u001b[0m\u001b[90m╺\u001b[0m\u001b[90m━━━━━━━━━━━━━━━━━━━━━━━\u001b[0m \u001b[32m286.7/709.5 kB\u001b[0m \u001b[31m8.5 MB/s\u001b[0m eta \u001b[36m0:00:01\u001b[0m\r\u001b[2K     \u001b[90m━━━━━━━━━━━━━━━━━━━━━━━━━━━━━━━━━━━━━━━━\u001b[0m \u001b[32m709.5/709.5 kB\u001b[0m \u001b[31m14.8 MB/s\u001b[0m eta \u001b[36m0:00:00\u001b[0m\n",
            "\u001b[?25hRequirement already satisfied: matplotlib>=3.3.0 in /usr/local/lib/python3.10/dist-packages (from ultralytics) (3.7.1)\n",
            "Requirement already satisfied: numpy>=1.22.2 in /usr/local/lib/python3.10/dist-packages (from ultralytics) (1.23.5)\n",
            "Requirement already satisfied: opencv-python>=4.6.0 in /usr/local/lib/python3.10/dist-packages (from ultralytics) (4.8.0.76)\n",
            "Requirement already satisfied: pillow>=7.1.2 in /usr/local/lib/python3.10/dist-packages (from ultralytics) (9.4.0)\n",
            "Requirement already satisfied: pyyaml>=5.3.1 in /usr/local/lib/python3.10/dist-packages (from ultralytics) (6.0.1)\n",
            "Requirement already satisfied: requests>=2.23.0 in /usr/local/lib/python3.10/dist-packages (from ultralytics) (2.31.0)\n",
            "Requirement already satisfied: scipy>=1.4.1 in /usr/local/lib/python3.10/dist-packages (from ultralytics) (1.11.4)\n",
            "Requirement already satisfied: torch>=1.8.0 in /usr/local/lib/python3.10/dist-packages (from ultralytics) (2.1.0+cu121)\n",
            "Requirement already satisfied: torchvision>=0.9.0 in /usr/local/lib/python3.10/dist-packages (from ultralytics) (0.16.0+cu121)\n",
            "Requirement already satisfied: tqdm>=4.64.0 in /usr/local/lib/python3.10/dist-packages (from ultralytics) (4.66.1)\n",
            "Requirement already satisfied: psutil in /usr/local/lib/python3.10/dist-packages (from ultralytics) (5.9.5)\n",
            "Requirement already satisfied: py-cpuinfo in /usr/local/lib/python3.10/dist-packages (from ultralytics) (9.0.0)\n",
            "Collecting thop>=0.1.1 (from ultralytics)\n",
            "  Downloading thop-0.1.1.post2209072238-py3-none-any.whl (15 kB)\n",
            "Requirement already satisfied: pandas>=1.1.4 in /usr/local/lib/python3.10/dist-packages (from ultralytics) (1.5.3)\n",
            "Requirement already satisfied: seaborn>=0.11.0 in /usr/local/lib/python3.10/dist-packages (from ultralytics) (0.13.1)\n",
            "Requirement already satisfied: contourpy>=1.0.1 in /usr/local/lib/python3.10/dist-packages (from matplotlib>=3.3.0->ultralytics) (1.2.0)\n",
            "Requirement already satisfied: cycler>=0.10 in /usr/local/lib/python3.10/dist-packages (from matplotlib>=3.3.0->ultralytics) (0.12.1)\n",
            "Requirement already satisfied: fonttools>=4.22.0 in /usr/local/lib/python3.10/dist-packages (from matplotlib>=3.3.0->ultralytics) (4.48.1)\n",
            "Requirement already satisfied: kiwisolver>=1.0.1 in /usr/local/lib/python3.10/dist-packages (from matplotlib>=3.3.0->ultralytics) (1.4.5)\n",
            "Requirement already satisfied: packaging>=20.0 in /usr/local/lib/python3.10/dist-packages (from matplotlib>=3.3.0->ultralytics) (23.2)\n",
            "Requirement already satisfied: pyparsing>=2.3.1 in /usr/local/lib/python3.10/dist-packages (from matplotlib>=3.3.0->ultralytics) (3.1.1)\n",
            "Requirement already satisfied: python-dateutil>=2.7 in /usr/local/lib/python3.10/dist-packages (from matplotlib>=3.3.0->ultralytics) (2.8.2)\n",
            "Requirement already satisfied: pytz>=2020.1 in /usr/local/lib/python3.10/dist-packages (from pandas>=1.1.4->ultralytics) (2023.4)\n",
            "Requirement already satisfied: charset-normalizer<4,>=2 in /usr/local/lib/python3.10/dist-packages (from requests>=2.23.0->ultralytics) (3.3.2)\n",
            "Requirement already satisfied: idna<4,>=2.5 in /usr/local/lib/python3.10/dist-packages (from requests>=2.23.0->ultralytics) (3.6)\n",
            "Requirement already satisfied: urllib3<3,>=1.21.1 in /usr/local/lib/python3.10/dist-packages (from requests>=2.23.0->ultralytics) (2.0.7)\n",
            "Requirement already satisfied: certifi>=2017.4.17 in /usr/local/lib/python3.10/dist-packages (from requests>=2.23.0->ultralytics) (2024.2.2)\n",
            "Requirement already satisfied: filelock in /usr/local/lib/python3.10/dist-packages (from torch>=1.8.0->ultralytics) (3.13.1)\n",
            "Requirement already satisfied: typing-extensions in /usr/local/lib/python3.10/dist-packages (from torch>=1.8.0->ultralytics) (4.9.0)\n",
            "Requirement already satisfied: sympy in /usr/local/lib/python3.10/dist-packages (from torch>=1.8.0->ultralytics) (1.12)\n",
            "Requirement already satisfied: networkx in /usr/local/lib/python3.10/dist-packages (from torch>=1.8.0->ultralytics) (3.2.1)\n",
            "Requirement already satisfied: jinja2 in /usr/local/lib/python3.10/dist-packages (from torch>=1.8.0->ultralytics) (3.1.3)\n",
            "Requirement already satisfied: fsspec in /usr/local/lib/python3.10/dist-packages (from torch>=1.8.0->ultralytics) (2023.6.0)\n",
            "Requirement already satisfied: triton==2.1.0 in /usr/local/lib/python3.10/dist-packages (from torch>=1.8.0->ultralytics) (2.1.0)\n",
            "Requirement already satisfied: six>=1.5 in /usr/local/lib/python3.10/dist-packages (from python-dateutil>=2.7->matplotlib>=3.3.0->ultralytics) (1.16.0)\n",
            "Requirement already satisfied: MarkupSafe>=2.0 in /usr/local/lib/python3.10/dist-packages (from jinja2->torch>=1.8.0->ultralytics) (2.1.5)\n",
            "Requirement already satisfied: mpmath>=0.19 in /usr/local/lib/python3.10/dist-packages (from sympy->torch>=1.8.0->ultralytics) (1.3.0)\n",
            "Installing collected packages: thop, ultralytics\n",
            "Successfully installed thop-0.1.1.post2209072238 ultralytics-8.1.11\n"
          ]
        }
      ]
    },
    {
      "cell_type": "code",
      "source": [
        "import os\n",
        "#count number of picture\n",
        "len (os.listdir('/content/yolo_data/train/images'))"
      ],
      "metadata": {
        "colab": {
          "base_uri": "https://localhost:8080/"
        },
        "id": "Qu9TemhVCKTr",
        "outputId": "02232c69-c591-4e68-e4d4-626df3e1f63e"
      },
      "execution_count": 4,
      "outputs": [
        {
          "output_type": "execute_result",
          "data": {
            "text/plain": [
              "345"
            ]
          },
          "metadata": {},
          "execution_count": 4
        }
      ]
    },
    {
      "cell_type": "code",
      "source": [
        "import ultralytics\n",
        "ultralytics.checks() #bounding"
      ],
      "metadata": {
        "colab": {
          "base_uri": "https://localhost:8080/"
        },
        "id": "hmiGm9F-_ubo",
        "outputId": "77403afc-205b-4fde-a90b-9fd57ef6d106"
      },
      "execution_count": null,
      "outputs": [
        {
          "output_type": "stream",
          "name": "stdout",
          "text": [
            "Ultralytics YOLOv8.1.2 🚀 Python-3.10.12 torch-2.1.0+cu121 CUDA:0 (Tesla T4, 15102MiB)\n",
            "Setup complete ✅ (2 CPUs, 12.7 GB RAM, 26.4/78.2 GB disk)\n"
          ]
        }
      ]
    },
    {
      "cell_type": "code",
      "source": [
        "import os\n",
        "import cv2\n",
        "import json\n",
        "import matplotlib.pyplot as plt\n",
        "from ultralytics import YOLO"
      ],
      "metadata": {
        "id": "-MUrlpMD-u6O"
      },
      "execution_count": null,
      "outputs": []
    },
    {
      "cell_type": "code",
      "source": [
        "yolo_yalm_path = 'yolo_data/data.yml'\n",
        "model = YOLO ('yolov8s.yaml').load ('yolov8s.pt') #load pretrain model"
      ],
      "metadata": {
        "colab": {
          "base_uri": "https://localhost:8080/"
        },
        "id": "TmLTDL3CARLm",
        "outputId": "15a7770f-9fcf-44a0-c332-fc5e1af5ae13"
      },
      "execution_count": null,
      "outputs": [
        {
          "output_type": "stream",
          "name": "stdout",
          "text": [
            "\n",
            "                   from  n    params  module                                       arguments                     \n",
            "  0                  -1  1       928  ultralytics.nn.modules.conv.Conv             [3, 32, 3, 2]                 \n",
            "  1                  -1  1     18560  ultralytics.nn.modules.conv.Conv             [32, 64, 3, 2]                \n",
            "  2                  -1  1     29056  ultralytics.nn.modules.block.C2f             [64, 64, 1, True]             \n",
            "  3                  -1  1     73984  ultralytics.nn.modules.conv.Conv             [64, 128, 3, 2]               \n",
            "  4                  -1  2    197632  ultralytics.nn.modules.block.C2f             [128, 128, 2, True]           \n",
            "  5                  -1  1    295424  ultralytics.nn.modules.conv.Conv             [128, 256, 3, 2]              \n",
            "  6                  -1  2    788480  ultralytics.nn.modules.block.C2f             [256, 256, 2, True]           \n",
            "  7                  -1  1   1180672  ultralytics.nn.modules.conv.Conv             [256, 512, 3, 2]              \n",
            "  8                  -1  1   1838080  ultralytics.nn.modules.block.C2f             [512, 512, 1, True]           \n",
            "  9                  -1  1    656896  ultralytics.nn.modules.block.SPPF            [512, 512, 5]                 \n",
            " 10                  -1  1         0  torch.nn.modules.upsampling.Upsample         [None, 2, 'nearest']          \n",
            " 11             [-1, 6]  1         0  ultralytics.nn.modules.conv.Concat           [1]                           \n",
            " 12                  -1  1    591360  ultralytics.nn.modules.block.C2f             [768, 256, 1]                 \n",
            " 13                  -1  1         0  torch.nn.modules.upsampling.Upsample         [None, 2, 'nearest']          \n",
            " 14             [-1, 4]  1         0  ultralytics.nn.modules.conv.Concat           [1]                           \n",
            " 15                  -1  1    148224  ultralytics.nn.modules.block.C2f             [384, 128, 1]                 \n",
            " 16                  -1  1    147712  ultralytics.nn.modules.conv.Conv             [128, 128, 3, 2]              \n",
            " 17            [-1, 12]  1         0  ultralytics.nn.modules.conv.Concat           [1]                           \n",
            " 18                  -1  1    493056  ultralytics.nn.modules.block.C2f             [384, 256, 1]                 \n",
            " 19                  -1  1    590336  ultralytics.nn.modules.conv.Conv             [256, 256, 3, 2]              \n",
            " 20             [-1, 9]  1         0  ultralytics.nn.modules.conv.Concat           [1]                           \n",
            " 21                  -1  1   1969152  ultralytics.nn.modules.block.C2f             [768, 512, 1]                 \n",
            " 22        [15, 18, 21]  1   2147008  ultralytics.nn.modules.head.Detect           [80, [128, 256, 512]]         \n",
            "YOLOv8s summary: 225 layers, 11166560 parameters, 11166544 gradients, 28.8 GFLOPs\n",
            "\n",
            "Downloading https://github.com/ultralytics/assets/releases/download/v8.1.0/yolov8s.pt to 'yolov8s.pt'...\n"
          ]
        },
        {
          "output_type": "stream",
          "name": "stderr",
          "text": [
            "100%|██████████| 21.5M/21.5M [00:00<00:00, 231MB/s]"
          ]
        },
        {
          "output_type": "stream",
          "name": "stdout",
          "text": [
            "Transferred 355/355 items from pretrained weights\n"
          ]
        },
        {
          "output_type": "stream",
          "name": "stderr",
          "text": [
            "\n"
          ]
        }
      ]
    },
    {
      "cell_type": "code",
      "source": [
        "epochs = 15 #số vòng lặp\n",
        "imgsz = 640\n",
        "batch_size =8\n",
        "patience = 5\n",
        "lr = 0.0005"
      ],
      "metadata": {
        "id": "04UHatyFHG6I"
      },
      "execution_count": null,
      "outputs": []
    },
    {
      "cell_type": "code",
      "source": [
        "results = model.train (\n",
        "    data = yolo_yalm_path,\n",
        "    epochs = epochs,\n",
        "    batch= batch_size,\n",
        "    patience = patience,\n",
        "    lr0 = lr,\n",
        "    project = 'models',\n",
        "    name = 'yolov8/detect/train'\n",
        ")"
      ],
      "metadata": {
        "colab": {
          "base_uri": "https://localhost:8080/"
        },
        "id": "z2tXX7y5HMR9",
        "outputId": "68739885-4c52-4200-8da0-1235c4a4ad6a"
      },
      "execution_count": null,
      "outputs": [
        {
          "metadata": {
            "tags": null
          },
          "name": "stdout",
          "output_type": "stream",
          "text": [
            "Ultralytics YOLOv8.1.2 🚀 Python-3.10.12 torch-2.1.0+cu121 CUDA:0 (Tesla T4, 15102MiB)\n",
            "\u001b[34m\u001b[1mengine/trainer: \u001b[0mtask=detect, mode=train, model=yolov8s.yaml, data=yolo_data/data.yml, epochs=15, time=None, patience=5, batch=8, imgsz=640, save=True, save_period=-1, cache=False, device=None, workers=8, project=models, name=train, exist_ok=False, pretrained=True, optimizer=auto, verbose=True, seed=0, deterministic=True, single_cls=False, rect=False, cos_lr=False, close_mosaic=10, resume=False, amp=True, fraction=1.0, profile=False, freeze=None, multi_scale=False, overlap_mask=True, mask_ratio=4, dropout=0.0, val=True, split=val, save_json=False, save_hybrid=False, conf=None, iou=0.7, max_det=300, half=False, dnn=False, plots=True, source=None, vid_stride=1, stream_buffer=False, visualize=False, augment=False, agnostic_nms=False, classes=None, retina_masks=False, embed=None, show=False, save_frames=False, save_txt=False, save_conf=False, save_crop=False, show_labels=True, show_conf=True, show_boxes=True, line_width=None, format=torchscript, keras=False, optimize=False, int8=False, dynamic=False, simplify=False, opset=None, workspace=4, nms=False, lr0=0.0005, lrf=0.01, momentum=0.937, weight_decay=0.0005, warmup_epochs=3.0, warmup_momentum=0.8, warmup_bias_lr=0.0, box=7.5, cls=0.5, dfl=1.5, pose=12.0, kobj=1.0, label_smoothing=0.0, nbs=64, hsv_h=0.015, hsv_s=0.7, hsv_v=0.4, degrees=0.0, translate=0.1, scale=0.5, shear=0.0, perspective=0.0, flipud=0.0, fliplr=0.5, mosaic=0.0, mixup=0.0, copy_paste=0.0, auto_augment=randaugment, erasing=0.4, crop_fraction=1.0, cfg=None, tracker=botsort.yaml, save_dir=models/yolov8/detect/train\n",
            "\n",
            "                   from  n    params  module                                       arguments                     \n",
            "  0                  -1  1       928  ultralytics.nn.modules.conv.Conv             [3, 32, 3, 2]                 \n",
            "  1                  -1  1     18560  ultralytics.nn.modules.conv.Conv             [32, 64, 3, 2]                \n",
            "  2                  -1  1     29056  ultralytics.nn.modules.block.C2f             [64, 64, 1, True]             \n",
            "  3                  -1  1     73984  ultralytics.nn.modules.conv.Conv             [64, 128, 3, 2]               \n",
            "  4                  -1  2    197632  ultralytics.nn.modules.block.C2f             [128, 128, 2, True]           \n",
            "  5                  -1  1    295424  ultralytics.nn.modules.conv.Conv             [128, 256, 3, 2]              \n",
            "  6                  -1  2    788480  ultralytics.nn.modules.block.C2f             [256, 256, 2, True]           \n",
            "  7                  -1  1   1180672  ultralytics.nn.modules.conv.Conv             [256, 512, 3, 2]              \n",
            "  8                  -1  1   1838080  ultralytics.nn.modules.block.C2f             [512, 512, 1, True]           \n",
            "  9                  -1  1    656896  ultralytics.nn.modules.block.SPPF            [512, 512, 5]                 \n",
            " 10                  -1  1         0  torch.nn.modules.upsampling.Upsample         [None, 2, 'nearest']          \n",
            " 11             [-1, 6]  1         0  ultralytics.nn.modules.conv.Concat           [1]                           \n",
            " 12                  -1  1    591360  ultralytics.nn.modules.block.C2f             [768, 256, 1]                 \n",
            " 13                  -1  1         0  torch.nn.modules.upsampling.Upsample         [None, 2, 'nearest']          \n",
            " 14             [-1, 4]  1         0  ultralytics.nn.modules.conv.Concat           [1]                           \n",
            " 15                  -1  1    148224  ultralytics.nn.modules.block.C2f             [384, 128, 1]                 \n",
            " 16                  -1  1    147712  ultralytics.nn.modules.conv.Conv             [128, 128, 3, 2]              \n",
            " 17            [-1, 12]  1         0  ultralytics.nn.modules.conv.Concat           [1]                           \n",
            " 18                  -1  1    493056  ultralytics.nn.modules.block.C2f             [384, 256, 1]                 \n",
            " 19                  -1  1    590336  ultralytics.nn.modules.conv.Conv             [256, 256, 3, 2]              \n",
            " 20             [-1, 9]  1         0  ultralytics.nn.modules.conv.Concat           [1]                           \n",
            " 21                  -1  1   1969152  ultralytics.nn.modules.block.C2f             [768, 512, 1]                 \n",
            " 22        [15, 18, 21]  1   2116435  ultralytics.nn.modules.head.Detect           [1, [128, 256, 512]]          \n",
            "YOLOv8s summary: 225 layers, 11135987 parameters, 11135971 gradients, 28.6 GFLOPs\n",
            "\n",
            "Transferred 355/355 items from pretrained weights\n",
            "\u001b[34m\u001b[1mTensorBoard: \u001b[0mStart with 'tensorboard --logdir models/yolov8/detect/train', view at http://localhost:6006/\n",
            "Freezing layer 'model.22.dfl.conv.weight'\n",
            "\u001b[34m\u001b[1mAMP: \u001b[0mrunning Automatic Mixed Precision (AMP) checks with YOLOv8n...\n",
            "\u001b[34m\u001b[1mAMP: \u001b[0mchecks passed ✅\n"
          ]
        },
        {
          "metadata": {
            "tags": null
          },
          "name": "stderr",
          "output_type": "stream",
          "text": [
            "\u001b[34m\u001b[1mtrain: \u001b[0mScanning /content/yolo_data/train/labels.cache... 345 images, 0 backgrounds, 0 corrupt: 100%|██████████| 345/345 [00:00<?, ?it/s]"
          ]
        },
        {
          "metadata": {
            "tags": null
          },
          "name": "stdout",
          "output_type": "stream",
          "text": [
            "\u001b[34m\u001b[1malbumentations: \u001b[0mBlur(p=0.01, blur_limit=(3, 7)), MedianBlur(p=0.01, blur_limit=(3, 7)), ToGray(p=0.01), CLAHE(p=0.01, clip_limit=(1, 4.0), tile_grid_size=(8, 8))\n"
          ]
        },
        {
          "metadata": {
            "tags": null
          },
          "name": "stderr",
          "output_type": "stream",
          "text": [
            "\n",
            "\u001b[34m\u001b[1mval: \u001b[0mScanning /content/yolo_data/val/labels.cache... 26 images, 0 backgrounds, 0 corrupt: 100%|██████████| 26/26 [00:00<?, ?it/s]\n"
          ]
        },
        {
          "metadata": {
            "tags": null
          },
          "name": "stdout",
          "output_type": "stream",
          "text": [
            "Plotting labels to models/yolov8/detect/train/labels.jpg... \n",
            "\u001b[34m\u001b[1moptimizer:\u001b[0m 'optimizer=auto' found, ignoring 'lr0=0.0005' and 'momentum=0.937' and determining best 'optimizer', 'lr0' and 'momentum' automatically... \n",
            "\u001b[34m\u001b[1moptimizer:\u001b[0m AdamW(lr=0.002, momentum=0.9) with parameter groups 57 weight(decay=0.0), 64 weight(decay=0.0005), 63 bias(decay=0.0)\n",
            "15 epochs...\n",
            "\n",
            "      Epoch    GPU_mem   box_loss   cls_loss   dfl_loss  Instances       Size\n"
          ]
        },
        {
          "metadata": {
            "tags": null
          },
          "name": "stderr",
          "output_type": "stream",
          "text": [
            "       1/15      2.32G      1.172     0.5873      1.113          1        640: 100%|██████████| 44/44 [00:10<00:00,  4.18it/s]\n",
            "                 Class     Images  Instances      Box(P          R      mAP50  mAP50-95): 100%|██████████| 2/2 [00:00<00:00,  3.86it/s]"
          ]
        },
        {
          "metadata": {
            "tags": null
          },
          "name": "stdout",
          "output_type": "stream",
          "text": [
            "                   all         26         28      0.459      0.964      0.591      0.395\n"
          ]
        },
        {
          "metadata": {
            "tags": null
          },
          "name": "stderr",
          "output_type": "stream",
          "text": [
            "\n"
          ]
        },
        {
          "metadata": {
            "tags": null
          },
          "name": "stdout",
          "output_type": "stream",
          "text": [
            "\n",
            "      Epoch    GPU_mem   box_loss   cls_loss   dfl_loss  Instances       Size\n"
          ]
        },
        {
          "metadata": {
            "tags": null
          },
          "name": "stderr",
          "output_type": "stream",
          "text": [
            "       2/15       2.4G      1.223     0.6783       1.14          1        640: 100%|██████████| 44/44 [00:08<00:00,  5.13it/s]\n",
            "                 Class     Images  Instances      Box(P          R      mAP50  mAP50-95): 100%|██████████| 2/2 [00:00<00:00,  4.19it/s]\n"
          ]
        },
        {
          "metadata": {
            "tags": null
          },
          "name": "stdout",
          "output_type": "stream",
          "text": [
            "                   all         26         28      0.459      0.857       0.61      0.404\n",
            "\n",
            "      Epoch    GPU_mem   box_loss   cls_loss   dfl_loss  Instances       Size\n"
          ]
        },
        {
          "metadata": {
            "tags": null
          },
          "name": "stderr",
          "output_type": "stream",
          "text": [
            "       3/15      2.42G      1.248     0.7136      1.161          1        640: 100%|██████████| 44/44 [00:07<00:00,  5.65it/s]\n",
            "                 Class     Images  Instances      Box(P          R      mAP50  mAP50-95): 100%|██████████| 2/2 [00:00<00:00,  9.18it/s]"
          ]
        },
        {
          "metadata": {
            "tags": null
          },
          "name": "stdout",
          "output_type": "stream",
          "text": [
            "                   all         26         28      0.449      0.961      0.527      0.334\n"
          ]
        },
        {
          "metadata": {
            "tags": null
          },
          "name": "stderr",
          "output_type": "stream",
          "text": [
            "\n"
          ]
        },
        {
          "metadata": {
            "tags": null
          },
          "name": "stdout",
          "output_type": "stream",
          "text": [
            "\n",
            "      Epoch    GPU_mem   box_loss   cls_loss   dfl_loss  Instances       Size\n"
          ]
        },
        {
          "metadata": {
            "tags": null
          },
          "name": "stderr",
          "output_type": "stream",
          "text": [
            "       4/15      2.39G      1.264     0.7178      1.172          1        640: 100%|██████████| 44/44 [00:09<00:00,  4.48it/s]\n",
            "                 Class     Images  Instances      Box(P          R      mAP50  mAP50-95): 100%|██████████| 2/2 [00:00<00:00,  6.96it/s]"
          ]
        },
        {
          "metadata": {
            "tags": null
          },
          "name": "stdout",
          "output_type": "stream",
          "text": [
            "                   all         26         28      0.452      0.929      0.486      0.322\n"
          ]
        },
        {
          "metadata": {
            "tags": null
          },
          "name": "stderr",
          "output_type": "stream",
          "text": [
            "\n"
          ]
        },
        {
          "metadata": {
            "tags": null
          },
          "name": "stdout",
          "output_type": "stream",
          "text": [
            "\n",
            "      Epoch    GPU_mem   box_loss   cls_loss   dfl_loss  Instances       Size\n"
          ]
        },
        {
          "metadata": {
            "tags": null
          },
          "name": "stderr",
          "output_type": "stream",
          "text": [
            "       5/15      2.39G      1.223     0.6692      1.155          2        640: 100%|██████████| 44/44 [00:07<00:00,  5.99it/s]\n",
            "                 Class     Images  Instances      Box(P          R      mAP50  mAP50-95): 100%|██████████| 2/2 [00:00<00:00,  9.78it/s]"
          ]
        },
        {
          "metadata": {
            "tags": null
          },
          "name": "stdout",
          "output_type": "stream",
          "text": [
            "                   all         26         28      0.273       0.25      0.188      0.129\n"
          ]
        },
        {
          "metadata": {
            "tags": null
          },
          "name": "stderr",
          "output_type": "stream",
          "text": [
            "\n"
          ]
        },
        {
          "metadata": {
            "tags": null
          },
          "name": "stdout",
          "output_type": "stream",
          "text": [
            "Closing dataloader mosaic\n",
            "\u001b[34m\u001b[1malbumentations: \u001b[0mBlur(p=0.01, blur_limit=(3, 7)), MedianBlur(p=0.01, blur_limit=(3, 7)), ToGray(p=0.01), CLAHE(p=0.01, clip_limit=(1, 4.0), tile_grid_size=(8, 8))\n",
            "\n",
            "      Epoch    GPU_mem   box_loss   cls_loss   dfl_loss  Instances       Size\n"
          ]
        },
        {
          "metadata": {
            "tags": null
          },
          "name": "stderr",
          "output_type": "stream",
          "text": [
            "       6/15      2.41G        1.2     0.6777      1.129          1        640: 100%|██████████| 44/44 [00:11<00:00,  3.77it/s]\n",
            "                 Class     Images  Instances      Box(P          R      mAP50  mAP50-95): 100%|██████████| 2/2 [00:00<00:00,  7.31it/s]"
          ]
        },
        {
          "metadata": {
            "tags": null
          },
          "name": "stdout",
          "output_type": "stream",
          "text": [
            "                   all         26         28      0.417      0.714      0.408      0.254\n"
          ]
        },
        {
          "metadata": {
            "tags": null
          },
          "name": "stderr",
          "output_type": "stream",
          "text": [
            "\n"
          ]
        },
        {
          "metadata": {
            "tags": null
          },
          "name": "stdout",
          "output_type": "stream",
          "text": [
            "\n",
            "      Epoch    GPU_mem   box_loss   cls_loss   dfl_loss  Instances       Size\n"
          ]
        },
        {
          "metadata": {
            "tags": null
          },
          "name": "stderr",
          "output_type": "stream",
          "text": [
            "       7/15      2.39G      1.197     0.6706      1.127          1        640: 100%|██████████| 44/44 [00:09<00:00,  4.50it/s]\n",
            "                 Class     Images  Instances      Box(P          R      mAP50  mAP50-95): 100%|██████████| 2/2 [00:00<00:00,  5.26it/s]"
          ]
        },
        {
          "metadata": {
            "tags": null
          },
          "name": "stdout",
          "output_type": "stream",
          "text": [
            "                   all         26         28      0.423      0.929      0.468      0.296\n",
            "Stopping training early as no improvement observed in last 5 epochs. Best results observed at epoch 2, best model saved as best.pt.\n",
            "To update EarlyStopping(patience=5) pass a new patience value, i.e. `patience=300` or use `patience=0` to disable EarlyStopping.\n"
          ]
        },
        {
          "metadata": {
            "tags": null
          },
          "name": "stderr",
          "output_type": "stream",
          "text": [
            "\n"
          ]
        },
        {
          "metadata": {
            "tags": null
          },
          "name": "stdout",
          "output_type": "stream",
          "text": [
            "\n",
            "7 epochs completed in 0.023 hours.\n",
            "Optimizer stripped from models/yolov8/detect/train/weights/last.pt, 22.5MB\n",
            "Optimizer stripped from models/yolov8/detect/train/weights/best.pt, 22.5MB\n",
            "\n",
            "Validating models/yolov8/detect/train/weights/best.pt...\n",
            "Ultralytics YOLOv8.1.2 🚀 Python-3.10.12 torch-2.1.0+cu121 CUDA:0 (Tesla T4, 15102MiB)\n",
            "YOLOv8s summary (fused): 168 layers, 11125971 parameters, 0 gradients, 28.4 GFLOPs\n"
          ]
        },
        {
          "metadata": {
            "tags": null
          },
          "name": "stderr",
          "output_type": "stream",
          "text": [
            "                 Class     Images  Instances      Box(P          R      mAP50  mAP50-95): 100%|██████████| 2/2 [00:00<00:00,  6.16it/s]\n"
          ]
        },
        {
          "metadata": {
            "tags": null
          },
          "name": "stdout",
          "output_type": "stream",
          "text": [
            "                   all         26         28      0.459      0.857       0.61      0.405\n",
            "Speed: 0.3ms preprocess, 4.5ms inference, 0.0ms loss, 1.4ms postprocess per image\n",
            "Results saved to \u001b[1mmodels/yolov8/detect/train\u001b[0m\n"
          ]
        }
      ]
    },
    {
      "cell_type": "code",
      "source": [
        "#map càng cao --> tốt\n",
        "# đánh giá\n"
      ],
      "metadata": {
        "id": "5rKn8JJMI3E5"
      },
      "execution_count": null,
      "outputs": []
    }
  ]
}