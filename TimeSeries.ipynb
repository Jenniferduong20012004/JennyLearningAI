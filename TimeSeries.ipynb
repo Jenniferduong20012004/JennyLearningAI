{
  "nbformat": 4,
  "nbformat_minor": 0,
  "metadata": {
    "colab": {
      "provenance": [],
      "include_colab_link": true
    },
    "kernelspec": {
      "name": "python3",
      "display_name": "Python 3"
    },
    "language_info": {
      "name": "python"
    }
  },
  "cells": [
    {
      "cell_type": "markdown",
      "metadata": {
        "id": "view-in-github",
        "colab_type": "text"
      },
      "source": [
        "<a href=\"https://colab.research.google.com/github/Jenniferduong20012004/JennyLearningAI/blob/main/TimeSeries.ipynb\" target=\"_parent\"><img src=\"https://colab.research.google.com/assets/colab-badge.svg\" alt=\"Open In Colab\"/></a>"
      ]
    },
    {
      "cell_type": "code",
      "execution_count": 1,
      "metadata": {
        "id": "Pquc4TkRQ0pO"
      },
      "outputs": [],
      "source": [
        "#1st interpolation\n",
        "def st_interpolation(x1,y1,x2,y2,x):\n",
        "  return ((x2-x)/(x2-x1))*y1+((x-x1)/(x2-x1))*y2"
      ]
    },
    {
      "cell_type": "code",
      "source": [
        "x1,y1 =1,1\n",
        "x2,y2 = 3,3\n",
        "x = 2.9"
      ],
      "metadata": {
        "id": "XNESKXmRRjz8"
      },
      "execution_count": 4,
      "outputs": []
    },
    {
      "cell_type": "code",
      "source": [
        "print (st_interpolation(x1,y1,x2,y2,x))"
      ],
      "metadata": {
        "id": "07_2v5ewRtNK",
        "outputId": "4e5bed06-0e83-495c-82d2-e0b5a56b3929",
        "colab": {
          "base_uri": "https://localhost:8080/"
        }
      },
      "execution_count": 5,
      "outputs": [
        {
          "output_type": "stream",
          "name": "stdout",
          "text": [
            "2.8999999999999995\n"
          ]
        }
      ]
    }
  ]
}