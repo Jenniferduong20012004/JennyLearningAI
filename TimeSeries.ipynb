{
  "nbformat": 4,
  "nbformat_minor": 0,
  "metadata": {
    "colab": {
      "provenance": [],
      "include_colab_link": true
    },
    "kernelspec": {
      "name": "python3",
      "display_name": "Python 3"
    },
    "language_info": {
      "name": "python"
    }
  },
  "cells": [
    {
      "cell_type": "markdown",
      "metadata": {
        "id": "view-in-github",
        "colab_type": "text"
      },
      "source": [
        "<a href=\"https://colab.research.google.com/github/Jenniferduong20012004/JennyLearningAI/blob/main/TimeSeries.ipynb\" target=\"_parent\"><img src=\"https://colab.research.google.com/assets/colab-badge.svg\" alt=\"Open In Colab\"/></a>"
      ]
    },
    {
      "cell_type": "code",
      "execution_count": 2,
      "metadata": {
        "id": "Pquc4TkRQ0pO"
      },
      "outputs": [],
      "source": [
        "#1st interpolation\n",
        "def st_interpolation(x1,y1,x2,y2,x):\n",
        "  return ((x2-x)/(x2-x1))*y1+((x-x1)/(x2-x1))*y2"
      ]
    },
    {
      "cell_type": "code",
      "source": [
        "def find_end (data, none_pos):\n",
        "  pos = len (data)-1\n",
        "  for i in range (none_pos+1, len(data)):\n",
        "    if data[i]!= None:\n",
        "      pos =i\n",
        "      break\n",
        "  return pos\n"
      ],
      "metadata": {
        "id": "hGAthO-TnC-j"
      },
      "execution_count": 20,
      "outputs": []
    },
    {
      "cell_type": "code",
      "source": [
        "def find_none(data):\n",
        "  result = -1\n",
        "  for i,x in enumerate (data):\n",
        "    if x == None:\n",
        "      result = i\n",
        "      break\n",
        "  return result"
      ],
      "metadata": {
        "id": "moON-i2WfgnX"
      },
      "execution_count": 10,
      "outputs": []
    },
    {
      "cell_type": "code",
      "source": [
        "x1,y1 =1,2.2\n",
        "x2,y2 = 3,2.7\n",
        "x = 2"
      ],
      "metadata": {
        "id": "XNESKXmRRjz8"
      },
      "execution_count": 4,
      "outputs": []
    },
    {
      "cell_type": "code",
      "source": [
        "data = [1,4,8,9,None,6,7,8]\n",
        "print (data)"
      ],
      "metadata": {
        "id": "ybPJ69xKSqFk",
        "outputId": "396ca3c0-2c39-404e-9444-d0362d7be937",
        "colab": {
          "base_uri": "https://localhost:8080/"
        }
      },
      "execution_count": 25,
      "outputs": [
        {
          "output_type": "stream",
          "name": "stdout",
          "text": [
            "[1, 4, 8, 9, None, 6, 7, 8]\n"
          ]
        }
      ]
    },
    {
      "cell_type": "code",
      "source": [
        "print (st_interpolation(x1,y1,x2,y2,x))"
      ],
      "metadata": {
        "id": "07_2v5ewRtNK",
        "outputId": "2223b108-c6fd-44a9-c402-c3e61cb33237",
        "colab": {
          "base_uri": "https://localhost:8080/"
        }
      },
      "execution_count": 12,
      "outputs": [
        {
          "output_type": "stream",
          "name": "stdout",
          "text": [
            "3.4499999999999997\n"
          ]
        }
      ]
    },
    {
      "cell_type": "code",
      "source": [
        "index = find_none (data)\n",
        "data[index] = (st_interpolation (index-1,data[index-1], index+1, data[index+1],index))\n",
        "\n",
        "print (data)"
      ],
      "metadata": {
        "id": "OEa65Dw7VwOg",
        "outputId": "5fd24293-07d6-444d-c608-16adcdbc7196",
        "colab": {
          "base_uri": "https://localhost:8080/"
        }
      },
      "execution_count": 13,
      "outputs": [
        {
          "output_type": "stream",
          "name": "stdout",
          "text": [
            "[1, 4, 5.0, 6]\n"
          ]
        }
      ]
    },
    {
      "cell_type": "code",
      "source": [
        "print (find_end (data, find_none(data)))"
      ],
      "metadata": {
        "id": "fmvAfqsEpdAh",
        "outputId": "6820c340-73bb-4309-b649-8a9c43e8e443",
        "colab": {
          "base_uri": "https://localhost:8080/"
        }
      },
      "execution_count": 26,
      "outputs": [
        {
          "output_type": "stream",
          "name": "stdout",
          "text": [
            "5\n"
          ]
        }
      ]
    }
  ]
}