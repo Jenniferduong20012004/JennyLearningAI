{
  "nbformat": 4,
  "nbformat_minor": 0,
  "metadata": {
    "colab": {
      "provenance": [],
      "authorship_tag": "ABX9TyOLNP529wuT1qJ2Qc+Q3Bqe",
      "include_colab_link": true
    },
    "kernelspec": {
      "name": "python3",
      "display_name": "Python 3"
    },
    "language_info": {
      "name": "python"
    }
  },
  "cells": [
    {
      "cell_type": "markdown",
      "metadata": {
        "id": "view-in-github",
        "colab_type": "text"
      },
      "source": [
        "<a href=\"https://colab.research.google.com/github/Jenniferduong20012004/JennyLearningAI/blob/main/CNN.ipynb\" target=\"_parent\"><img src=\"https://colab.research.google.com/assets/colab-badge.svg\" alt=\"Open In Colab\"/></a>"
      ]
    },
    {
      "cell_type": "code",
      "execution_count": null,
      "metadata": {
        "id": "ObnvRMSc6rda",
        "colab": {
          "base_uri": "https://localhost:8080/"
        },
        "outputId": "caf7af09-1766-4533-9001-8dc7fd3407c6"
      },
      "outputs": [
        {
          "output_type": "execute_result",
          "data": {
            "text/plain": [
              "tensor([[[4., 3., 0., 4., 3., 2.],\n",
              "         [0., 1., 4., 3., 3., 0.],\n",
              "         [2., 2., 2., 2., 3., 2.],\n",
              "         [0., 4., 3., 3., 1., 1.],\n",
              "         [2., 3., 4., 1., 2., 1.],\n",
              "         [1., 0., 1., 1., 0., 4.]]])"
            ]
          },
          "metadata": {},
          "execution_count": 1
        }
      ],
      "source": [
        "import torch\n",
        "input = torch.randint (5, (1,6,6), dtype = torch.float32)\n",
        "input\n",
        "\n"
      ]
    },
    {
      "cell_type": "code",
      "source": [
        "# tạo kernel\n",
        "conv_layer = torch.nn.Conv2d(\n",
        "    in_channels=1, #số lượng ma trận input\n",
        "    out_channels =1, # suố lượng ma trận output\n",
        "    kernel_size =3, # kernel 3 x 3\n",
        "    bias = False\n",
        ")\n",
        "conv_layer.weight #in ra trọng số"
      ],
      "metadata": {
        "colab": {
          "base_uri": "https://localhost:8080/"
        },
        "id": "BZEF1JGrPuJL",
        "outputId": "50ef4d95-6d58-4e81-f2e7-1e98684329ae"
      },
      "execution_count": null,
      "outputs": [
        {
          "output_type": "execute_result",
          "data": {
            "text/plain": [
              "Parameter containing:\n",
              "tensor([[[[ 0.2067, -0.0247, -0.0202],\n",
              "          [-0.2024, -0.0374,  0.2953],\n",
              "          [-0.2067,  0.0532, -0.1470]]]], requires_grad=True)"
            ]
          },
          "metadata": {},
          "execution_count": 7
        }
      ]
    },
    {
      "cell_type": "code",
      "source": [
        "init_kernel_weight = torch.randint(\n",
        "    high = 2,\n",
        "    size = (conv_layer.weight.data.shape),\n",
        "    dtype = torch.float32\n",
        ")\n",
        "init_kernel_weight"
      ],
      "metadata": {
        "colab": {
          "base_uri": "https://localhost:8080/"
        },
        "id": "TGNZNVf_RDf_",
        "outputId": "f11d5339-3fb9-4a24-9d8e-96faf567ede5"
      },
      "execution_count": null,
      "outputs": [
        {
          "output_type": "execute_result",
          "data": {
            "text/plain": [
              "tensor([[[[1., 0., 1.],\n",
              "          [1., 0., 0.],\n",
              "          [0., 1., 1.]]]])"
            ]
          },
          "metadata": {},
          "execution_count": 8
        }
      ]
    },
    {
      "cell_type": "code",
      "source": [
        "conv_layer.weight.data = init_kernel_weight"
      ],
      "metadata": {
        "id": "oy8rRbEkRVQO"
      },
      "execution_count": null,
      "outputs": []
    },
    {
      "cell_type": "code",
      "source": [
        "conv_layer.weight"
      ],
      "metadata": {
        "colab": {
          "base_uri": "https://localhost:8080/"
        },
        "id": "ZV33lPBYRbWw",
        "outputId": "77653e4f-e43d-478d-f6a1-171b9303a3b6"
      },
      "execution_count": null,
      "outputs": [
        {
          "output_type": "execute_result",
          "data": {
            "text/plain": [
              "Parameter containing:\n",
              "tensor([[[[1., 0., 1.],\n",
              "          [1., 0., 0.],\n",
              "          [0., 1., 1.]]]], requires_grad=True)"
            ]
          },
          "metadata": {},
          "execution_count": 10
        }
      ]
    },
    {
      "cell_type": "code",
      "source": [
        "output = conv_layer(input) #nhân elemental wise\n",
        "output"
      ],
      "metadata": {
        "colab": {
          "base_uri": "https://localhost:8080/"
        },
        "id": "RPR1ibVBRfoQ",
        "outputId": "6a641f35-5af4-4f53-e0b4-3c4808875e06"
      },
      "execution_count": null,
      "outputs": [
        {
          "output_type": "execute_result",
          "data": {
            "text/plain": [
              "tensor([[[11.,  9.,  9., 11.],\n",
              "         [10.,  8.,  9., 11.],\n",
              "         [ 9.,  9.,  8.,  5.],\n",
              "         [ 6., 14., 15.,  7.]]], grad_fn=<SqueezeBackward1>)"
            ]
          },
          "metadata": {},
          "execution_count": 11
        }
      ]
    },
    {
      "cell_type": "code",
      "source": [
        "conv_layer.bias = torch.nn.Parameter(\n",
        "    torch.tensor ([1], dtype = torch.float32)\n",
        ")\n",
        "conv_layer.bias"
      ],
      "metadata": {
        "colab": {
          "base_uri": "https://localhost:8080/"
        },
        "id": "LgkAOqNVVBdr",
        "outputId": "3978cd56-bf80-45f7-9850-f24168b9c94c"
      },
      "execution_count": null,
      "outputs": [
        {
          "output_type": "execute_result",
          "data": {
            "text/plain": [
              "Parameter containing:\n",
              "tensor([1.], requires_grad=True)"
            ]
          },
          "metadata": {},
          "execution_count": 12
        }
      ]
    },
    {
      "cell_type": "code",
      "source": [
        "#nhân bias\n",
        "output = conv_layer(input)\n",
        "output"
      ],
      "metadata": {
        "colab": {
          "base_uri": "https://localhost:8080/"
        },
        "id": "uIu27yxmVZoU",
        "outputId": "87572c0c-96df-4de0-86c2-1b3a62a4def4"
      },
      "execution_count": null,
      "outputs": [
        {
          "output_type": "execute_result",
          "data": {
            "text/plain": [
              "tensor([[[12., 10., 10., 12.],\n",
              "         [11.,  9., 10., 12.],\n",
              "         [10., 10.,  9.,  6.],\n",
              "         [ 7., 15., 16.,  8.]]], grad_fn=<SqueezeBackward1>)"
            ]
          },
          "metadata": {},
          "execution_count": 13
        }
      ]
    },
    {
      "cell_type": "code",
      "source": [
        "#padding\n",
        "conv = torch.nn.Conv2d(\n",
        "    in_channels =1,\n",
        "    out_channels = 1,\n",
        "    kernel_size = 3,\n",
        "    padding = 'same'\n",
        ")\n",
        "conv"
      ],
      "metadata": {
        "colab": {
          "base_uri": "https://localhost:8080/"
        },
        "id": "jpKy-vo1ePyI",
        "outputId": "209f4cfa-fd02-477c-af1a-26bddf76e543"
      },
      "execution_count": null,
      "outputs": [
        {
          "output_type": "execute_result",
          "data": {
            "text/plain": [
              "Conv2d(1, 1, kernel_size=(3, 3), stride=(1, 1), padding=same)"
            ]
          },
          "metadata": {},
          "execution_count": 14
        }
      ]
    },
    {
      "cell_type": "code",
      "source": [
        "conv.weight.data = init_kernel_weight\n",
        "conv.weight"
      ],
      "metadata": {
        "colab": {
          "base_uri": "https://localhost:8080/"
        },
        "id": "ott6OPfEfYIl",
        "outputId": "5eb0144f-7cae-4fac-8452-5a7778cf5533"
      },
      "execution_count": null,
      "outputs": [
        {
          "output_type": "execute_result",
          "data": {
            "text/plain": [
              "Parameter containing:\n",
              "tensor([[[[1., 0., 1.],\n",
              "          [1., 0., 0.],\n",
              "          [0., 1., 1.]]]], requires_grad=True)"
            ]
          },
          "metadata": {},
          "execution_count": 16
        }
      ]
    },
    {
      "cell_type": "code",
      "source": [
        "#bias\n",
        "conv.bias = torch.nn.Parameter(\n",
        "    torch.tensor ([1], dtype = torch.float32)\n",
        ")\n",
        "conv.bias"
      ],
      "metadata": {
        "colab": {
          "base_uri": "https://localhost:8080/"
        },
        "id": "eK0GAbJzfjpU",
        "outputId": "59af2c0b-f4c4-4e0e-94a5-ee7f9c8b1860"
      },
      "execution_count": null,
      "outputs": [
        {
          "output_type": "execute_result",
          "data": {
            "text/plain": [
              "Parameter containing:\n",
              "tensor([1.], requires_grad=True)"
            ]
          },
          "metadata": {},
          "execution_count": 18
        }
      ]
    },
    {
      "cell_type": "code",
      "source": [
        "output = conv (input)\n",
        "output"
      ],
      "metadata": {
        "colab": {
          "base_uri": "https://localhost:8080/"
        },
        "id": "5xuNvCTPeudg",
        "outputId": "bf16f6e2-b601-4836-f5ae-2fb83425e717"
      },
      "execution_count": null,
      "outputs": [
        {
          "output_type": "execute_result",
          "data": {
            "text/plain": [
              "tensor([[[ 5.,  4.,  6., 11.,  8.,  2.],\n",
              "         [ 6., 12., 10., 10., 12.,  6.],\n",
              "         [ 5., 11.,  9., 10., 12., 11.],\n",
              "         [ 6., 10., 10.,  9.,  6.,  7.],\n",
              "         [ 8.,  7., 15., 16.,  8.,  5.],\n",
              "         [ 5.,  8.,  5.,  8.,  4.,  5.]]], grad_fn=<SqueezeBackward1>)"
            ]
          },
          "metadata": {},
          "execution_count": 19
        }
      ]
    },
    {
      "cell_type": "code",
      "source": [
        "#padding cho khác nhau\n",
        "conv = torch.nn.Conv2d(\n",
        "    in_channels =1,\n",
        "    out_channels = 1,\n",
        "    kernel_size = 3,\n",
        "    padding = (3,2)\n",
        ")\n",
        "conv"
      ],
      "metadata": {
        "colab": {
          "base_uri": "https://localhost:8080/"
        },
        "id": "j4ClwluXhWuB",
        "outputId": "f3e7503d-e3b3-4961-a09b-de03093ff322"
      },
      "execution_count": null,
      "outputs": [
        {
          "output_type": "execute_result",
          "data": {
            "text/plain": [
              "Conv2d(1, 1, kernel_size=(3, 3), stride=(1, 1), padding=(3, 2))"
            ]
          },
          "metadata": {},
          "execution_count": 20
        }
      ]
    },
    {
      "cell_type": "code",
      "source": [
        "conv.weight.data = init_kernel_weight\n",
        "conv.weight"
      ],
      "metadata": {
        "colab": {
          "base_uri": "https://localhost:8080/"
        },
        "id": "DIpdPp5Jhmkl",
        "outputId": "34ad50e1-48c9-4018-8dcc-f3e89e45e1b0"
      },
      "execution_count": null,
      "outputs": [
        {
          "output_type": "execute_result",
          "data": {
            "text/plain": [
              "Parameter containing:\n",
              "tensor([[[[1., 0., 1.],\n",
              "          [1., 0., 0.],\n",
              "          [0., 1., 1.]]]], requires_grad=True)"
            ]
          },
          "metadata": {},
          "execution_count": 23
        }
      ]
    },
    {
      "cell_type": "code",
      "source": [
        "#bias\n",
        "conv.bias = torch.nn.Parameter(\n",
        "    torch.tensor ([1], dtype = torch.float32)\n",
        ")\n",
        "conv.bias"
      ],
      "metadata": {
        "colab": {
          "base_uri": "https://localhost:8080/"
        },
        "id": "rd2AzmRghcu9",
        "outputId": "0ca4304d-3374-43bc-d755-94a1494ff30a"
      },
      "execution_count": null,
      "outputs": [
        {
          "output_type": "execute_result",
          "data": {
            "text/plain": [
              "Parameter containing:\n",
              "tensor([1.], requires_grad=True)"
            ]
          },
          "metadata": {},
          "execution_count": 24
        }
      ]
    },
    {
      "cell_type": "code",
      "source": [
        "output = conv (input)\n",
        "output"
      ],
      "metadata": {
        "colab": {
          "base_uri": "https://localhost:8080/"
        },
        "id": "3jz_q9dghhxy",
        "outputId": "f83057df-c81e-407b-8050-f214b45dcbaf"
      },
      "execution_count": null,
      "outputs": [
        {
          "output_type": "execute_result",
          "data": {
            "text/plain": [
              "tensor([[[ 1.,  1.,  1.,  1.,  1.,  1.,  1.,  1.],\n",
              "         [ 3.,  6.,  8.,  7.,  3.,  4.,  4.,  1.],\n",
              "         [ 4.,  5.,  4.,  6., 11.,  8.,  2.,  4.],\n",
              "         [ 4.,  6., 12., 10., 10., 12.,  6.,  5.],\n",
              "         [ 4.,  5., 11.,  9., 10., 12., 11.,  3.],\n",
              "         [ 2.,  6., 10., 10.,  9.,  6.,  7.,  5.],\n",
              "         [ 5.,  8.,  7., 15., 16.,  8.,  5.,  4.],\n",
              "         [ 1.,  5.,  8.,  5.,  8.,  4.,  5.,  1.],\n",
              "         [ 5.,  1.,  8.,  4.,  7.,  4.,  4.,  1.],\n",
              "         [ 1.,  1.,  1.,  1.,  1.,  1.,  1.,  1.]]],\n",
              "       grad_fn=<SqueezeBackward1>)"
            ]
          },
          "metadata": {},
          "execution_count": 25
        }
      ]
    },
    {
      "cell_type": "code",
      "source": [
        "#padding cho khác nhau\n",
        "conv = torch.nn.Conv2d(\n",
        "    in_channels =1,\n",
        "    out_channels = 1,\n",
        "    kernel_size = 3,\n",
        "    padding = (2,3),\n",
        "    stride = 2\n",
        ")\n",
        "conv"
      ],
      "metadata": {
        "colab": {
          "base_uri": "https://localhost:8080/"
        },
        "id": "WXlEP-7mo51u",
        "outputId": "2eaff48e-8dbc-4710-8d05-779d33093a3b"
      },
      "execution_count": null,
      "outputs": [
        {
          "output_type": "execute_result",
          "data": {
            "text/plain": [
              "Conv2d(1, 1, kernel_size=(3, 3), stride=(2, 2), padding=(2, 3))"
            ]
          },
          "metadata": {},
          "execution_count": 32
        }
      ]
    },
    {
      "cell_type": "code",
      "source": [
        "conv.weight.data = init_kernel_weight\n",
        "conv.weight"
      ],
      "metadata": {
        "colab": {
          "base_uri": "https://localhost:8080/"
        },
        "id": "N0-TC2_Oo-1m",
        "outputId": "0e9bed2f-e39b-432c-e12a-6d048dac20c9"
      },
      "execution_count": null,
      "outputs": [
        {
          "output_type": "execute_result",
          "data": {
            "text/plain": [
              "Parameter containing:\n",
              "tensor([[[[1., 0., 1.],\n",
              "          [1., 0., 0.],\n",
              "          [0., 1., 1.]]]], requires_grad=True)"
            ]
          },
          "metadata": {},
          "execution_count": 33
        }
      ]
    },
    {
      "cell_type": "code",
      "source": [
        "#bias\n",
        "conv.bias = torch.nn.Parameter(\n",
        "    torch.tensor ([1], dtype = torch.float32)\n",
        ")\n",
        "conv.bias"
      ],
      "metadata": {
        "colab": {
          "base_uri": "https://localhost:8080/"
        },
        "id": "DP4mqcW5pBXE",
        "outputId": "a59b1797-5fdb-49f5-f446-4f59d0d410c5"
      },
      "execution_count": null,
      "outputs": [
        {
          "output_type": "execute_result",
          "data": {
            "text/plain": [
              "Parameter containing:\n",
              "tensor([1.], requires_grad=True)"
            ]
          },
          "metadata": {},
          "execution_count": 34
        }
      ]
    },
    {
      "cell_type": "code",
      "source": [
        "output = conv (input)\n",
        "output"
      ],
      "metadata": {
        "colab": {
          "base_uri": "https://localhost:8080/"
        },
        "id": "_ZDKS_PipD36",
        "outputId": "a9ac0653-8614-4ca6-c2c1-f0a6cb7c0ec2"
      },
      "execution_count": null,
      "outputs": [
        {
          "output_type": "execute_result",
          "data": {
            "text/plain": [
              "tensor([[[ 1.,  6.,  7.,  4.,  1.],\n",
              "         [ 1.,  6., 10., 12.,  5.],\n",
              "         [ 1.,  6., 10.,  6.,  5.],\n",
              "         [ 1.,  5.,  5.,  4.,  1.]]], grad_fn=<SqueezeBackward1>)"
            ]
          },
          "metadata": {},
          "execution_count": 35
        }
      ]
    },
    {
      "cell_type": "code",
      "source": [
        "maxPolLayer = torch.nn.MaxPool2d(kernel_size=2)\n",
        "#default stride =2"
      ],
      "metadata": {
        "id": "0HnykJuftT3C"
      },
      "execution_count": null,
      "outputs": []
    },
    {
      "cell_type": "code",
      "source": [
        "output = maxPolLayer(input)\n",
        "output"
      ],
      "metadata": {
        "colab": {
          "base_uri": "https://localhost:8080/"
        },
        "id": "o5J77ipKtaXN",
        "outputId": "4ab98cf0-14d0-4dee-a4ee-98febcf02221"
      },
      "execution_count": null,
      "outputs": [
        {
          "output_type": "execute_result",
          "data": {
            "text/plain": [
              "tensor([[[3., 4., 4.],\n",
              "         [3., 3., 3.],\n",
              "         [4., 3., 3.]]])"
            ]
          },
          "metadata": {},
          "execution_count": 37
        }
      ]
    },
    {
      "cell_type": "code",
      "source": [
        "maxPolLayer = torch.nn.MaxPool1d(kernel_size=3)\n",
        "#default stride =2"
      ],
      "metadata": {
        "id": "V4TCc3wduXor"
      },
      "execution_count": null,
      "outputs": []
    },
    {
      "cell_type": "code",
      "source": [
        "output = maxPolLayer(input)\n",
        "output"
      ],
      "metadata": {
        "colab": {
          "base_uri": "https://localhost:8080/"
        },
        "id": "rV3jBaqHuaRy",
        "outputId": "7f86fb2b-79f6-476b-d5be-e5e0cf21430e"
      },
      "execution_count": null,
      "outputs": [
        {
          "output_type": "execute_result",
          "data": {
            "text/plain": [
              "tensor([[[4., 3.],\n",
              "         [3., 4.],\n",
              "         [1., 3.],\n",
              "         [3., 3.],\n",
              "         [4., 1.],\n",
              "         [4., 3.]]])"
            ]
          },
          "metadata": {},
          "execution_count": 39
        }
      ]
    },
    {
      "cell_type": "code",
      "source": [
        "avgPolLayer = torch.nn.AvgPool1d(\n",
        "    kernel_size=3,\n",
        "    stride =3\n",
        ")"
      ],
      "metadata": {
        "id": "es1ZkRJq7xn_"
      },
      "execution_count": null,
      "outputs": []
    },
    {
      "cell_type": "code",
      "source": [
        "output = avgPolLayer(input)"
      ],
      "metadata": {
        "id": "qM8OOzfH79x7"
      },
      "execution_count": null,
      "outputs": []
    },
    {
      "cell_type": "code",
      "source": [
        "#model\n",
        "model = torch.nn.Sequential(\n",
        "    torch.nn.Flatten(), #biến thành vector\n",
        "    torch.nn.Linear(784, 256), #một hidden layer có 256 nodes nối với 784 nodes phía trước\n",
        "    torch.nn.ReLU(), #có thể thay thế bằng sigmoid tính a\n",
        "    torch.nn.Linear (256,10)\n",
        ")"
      ],
      "metadata": {
        "id": "lPICZ_icDQQP"
      },
      "execution_count": null,
      "outputs": []
    },
    {
      "cell_type": "code",
      "source": [
        "criterion = torch.nn.CrossEntropyLoss()\n",
        "optimizer = torch.optim.Adam(model.parameters(),\n",
        "                             lr = 0.01)"
      ],
      "metadata": {
        "id": "7KKey-47VqLx"
      },
      "execution_count": null,
      "outputs": []
    },
    {
      "cell_type": "code",
      "source": [
        "import tensorflow as tf\n",
        "from tensorflow import keras\n",
        "\n",
        "(train_images, train_labels), (test_images, test_labels) = keras.datasets.fashion_mnist.load_data()\n",
        "\n",
        "print(train_images.shape)\n",
        "print(test_images.shape)"
      ],
      "metadata": {
        "colab": {
          "base_uri": "https://localhost:8080/"
        },
        "id": "Po-fPuzuWxvR",
        "outputId": "8675b7ba-1e69-41ea-d934-e3c7cc987735"
      },
      "execution_count": null,
      "outputs": [
        {
          "output_type": "stream",
          "name": "stdout",
          "text": [
            "Downloading data from https://storage.googleapis.com/tensorflow/tf-keras-datasets/train-labels-idx1-ubyte.gz\n",
            "29515/29515 [==============================] - 0s 0us/step\n",
            "Downloading data from https://storage.googleapis.com/tensorflow/tf-keras-datasets/train-images-idx3-ubyte.gz\n",
            "26421880/26421880 [==============================] - 0s 0us/step\n",
            "Downloading data from https://storage.googleapis.com/tensorflow/tf-keras-datasets/t10k-labels-idx1-ubyte.gz\n",
            "5148/5148 [==============================] - 0s 0us/step\n",
            "Downloading data from https://storage.googleapis.com/tensorflow/tf-keras-datasets/t10k-images-idx3-ubyte.gz\n",
            "4422102/4422102 [==============================] - 0s 0us/step\n",
            "(60000, 28, 28)\n",
            "(10000, 28, 28)\n"
          ]
        }
      ]
    },
    {
      "cell_type": "code",
      "source": [
        "#reshape\n",
        "train_images = train_images / 255.0\n",
        "test_images  = test_images / 255.0\n",
        "\n",
        "train_images = tf.reshape(train_images, (60000, 28, 28, 1))\n",
        "test_images  = tf.reshape(test_images, (10000, 28, 28, 1))\n",
        "\n",
        "print(train_images.shape)\n",
        "print(test_images.shape)"
      ],
      "metadata": {
        "colab": {
          "base_uri": "https://localhost:8080/"
        },
        "id": "l69ypVJJc4TG",
        "outputId": "aac4ce96-2839-4f88-dc40-c9f964523ab8"
      },
      "execution_count": null,
      "outputs": [
        {
          "output_type": "stream",
          "name": "stdout",
          "text": [
            "(60000, 28, 28, 1)\n",
            "(10000, 28, 28, 1)\n"
          ]
        }
      ]
    },
    {
      "cell_type": "code",
      "source": [
        "# model\n",
        "model = keras.models.Sequential()\n",
        "\n",
        "# input is with the shape of (28, 28, 1)\n",
        "model.add(tf.keras.Input(shape=(28, 28, 1)))\n",
        "\n",
        "# Convolve with 1 (7x7) kernel\n",
        "# Output: (22x22x32)\n",
        "model.add(keras.layers.Conv2D(32, (7, 7), activation='relu'))\n",
        "\n",
        "# Convolve with 2 (7x7) kernel\n",
        "# Output: (16x16x64)\n",
        "model.add(keras.layers.Conv2D(64, (7, 7), activation='relu'))\n",
        "\n",
        "# Convolve with 3 (7x7) kernel\n",
        "# Output: (10x10x128)\n",
        "model.add(keras.layers.Conv2D(128, (7, 7), activation='relu'))\n",
        "\n",
        "# Convolve with 4 (7x7) kernel\n",
        "# Output: (4x4x256)\n",
        "model.add(keras.layers.Conv2D(256, (7, 7), activation='relu'))\n",
        "\n",
        "model.summary()"
      ],
      "metadata": {
        "colab": {
          "base_uri": "https://localhost:8080/"
        },
        "id": "qzOGDgD9dDJY",
        "outputId": "f5580d11-cfce-4d54-9d2c-1df1de1231af"
      },
      "execution_count": null,
      "outputs": [
        {
          "output_type": "stream",
          "name": "stdout",
          "text": [
            "Model: \"sequential\"\n",
            "_________________________________________________________________\n",
            " Layer (type)                Output Shape              Param #   \n",
            "=================================================================\n",
            " conv2d (Conv2D)             (None, 22, 22, 32)        1600      \n",
            "                                                                 \n",
            " conv2d_1 (Conv2D)           (None, 16, 16, 64)        100416    \n",
            "                                                                 \n",
            " conv2d_2 (Conv2D)           (None, 10, 10, 128)       401536    \n",
            "                                                                 \n",
            " conv2d_3 (Conv2D)           (None, 4, 4, 256)         1605888   \n",
            "                                                                 \n",
            "=================================================================\n",
            "Total params: 2109440 (8.05 MB)\n",
            "Trainable params: 2109440 (8.05 MB)\n",
            "Non-trainable params: 0 (0.00 Byte)\n",
            "_________________________________________________________________\n"
          ]
        }
      ]
    },
    {
      "cell_type": "code",
      "source": [
        "import tensorflow as tf\n",
        "from tensorflow import keras\n",
        "\n",
        "model = keras.models.Sequential()\n",
        "model.add(tf.keras.Input(shape=(28, 28, 1)))\n",
        "model.add(keras.layers.Conv2D(32, (7, 7), activation='relu'))\n",
        "model.add(keras.layers.Conv2D(64, (7, 7), activation='relu'))\n",
        "model.add(keras.layers.Conv2D(128, (7, 7), activation='relu'))\n",
        "model.add(keras.layers.Conv2D(256, (7, 7), activation='relu'))\n",
        "\n",
        "# classifier\n",
        "model.add(keras.layers.Flatten())\n",
        "model.add(keras.layers.Dense(128, activation='relu'))\n",
        "model.add(keras.layers.Dense(10, activation='softmax'))\n",
        "\n",
        "model.summary()"
      ],
      "metadata": {
        "colab": {
          "base_uri": "https://localhost:8080/"
        },
        "id": "aP1Ji2gMfx3H",
        "outputId": "9cda0f0b-f9f0-41c2-ad95-94ad2b5064e3"
      },
      "execution_count": null,
      "outputs": [
        {
          "output_type": "stream",
          "name": "stdout",
          "text": [
            "Model: \"sequential_1\"\n",
            "_________________________________________________________________\n",
            " Layer (type)                Output Shape              Param #   \n",
            "=================================================================\n",
            " conv2d_4 (Conv2D)           (None, 22, 22, 32)        1600      \n",
            "                                                                 \n",
            " conv2d_5 (Conv2D)           (None, 16, 16, 64)        100416    \n",
            "                                                                 \n",
            " conv2d_6 (Conv2D)           (None, 10, 10, 128)       401536    \n",
            "                                                                 \n",
            " conv2d_7 (Conv2D)           (None, 4, 4, 256)         1605888   \n",
            "                                                                 \n",
            " flatten (Flatten)           (None, 4096)              0         \n",
            "                                                                 \n",
            " dense (Dense)               (None, 128)               524416    \n",
            "                                                                 \n",
            " dense_1 (Dense)             (None, 10)                1290      \n",
            "                                                                 \n",
            "=================================================================\n",
            "Total params: 2635146 (10.05 MB)\n",
            "Trainable params: 2635146 (10.05 MB)\n",
            "Non-trainable params: 0 (0.00 Byte)\n",
            "_________________________________________________________________\n"
          ]
        }
      ]
    },
    {
      "cell_type": "code",
      "source": [],
      "metadata": {
        "id": "wIb-R1HPhOKQ"
      },
      "execution_count": null,
      "outputs": []
    },
    {
      "cell_type": "code",
      "source": [
        "import torch\n",
        "import torch.nn as nn\n",
        "conv_layer = nn.Conv2d(1, 2,3) #input channel có chiều sâu bao nhiu, output có chiều sâu bao nhiêu\n",
        "#in channel: chiều sâu input, out channel: chiều sâu output: số lượng kernel, kernel size: shape kernel"
      ],
      "metadata": {
        "id": "FYFpxerrJ_qK"
      },
      "execution_count": 3,
      "outputs": []
    },
    {
      "cell_type": "code",
      "source": [
        "print (conv_layer.weight.shape) #chiều sâu input = chiều sâu kernel --> 1,3,3"
      ],
      "metadata": {
        "colab": {
          "base_uri": "https://localhost:8080/"
        },
        "id": "1cTyo2gqjPby",
        "outputId": "f156b6a7-3011-438d-b0ef-d2fab5660fd9"
      },
      "execution_count": 4,
      "outputs": [
        {
          "output_type": "stream",
          "name": "stdout",
          "text": [
            "torch.Size([2, 1, 3, 3])\n"
          ]
        }
      ]
    },
    {
      "cell_type": "code",
      "source": [
        "print (conv_layer.bias.shape) # 2 kernel --> 2 bias"
      ],
      "metadata": {
        "colab": {
          "base_uri": "https://localhost:8080/"
        },
        "id": "ZAjniXkkKRSG",
        "outputId": "8dfc7316-0e6d-4742-b5ba-43b7293a817c"
      },
      "execution_count": 6,
      "outputs": [
        {
          "output_type": "stream",
          "name": "stdout",
          "text": [
            "torch.Size([2])\n"
          ]
        }
      ]
    },
    {
      "cell_type": "code",
      "source": [
        "print (conv_layer.weight)\n",
        "print (conv_layer.bias)"
      ],
      "metadata": {
        "colab": {
          "base_uri": "https://localhost:8080/"
        },
        "id": "yjyMrGTTj2Vg",
        "outputId": "a137a921-755e-4b05-912f-57cfee5513be"
      },
      "execution_count": 8,
      "outputs": [
        {
          "output_type": "stream",
          "name": "stdout",
          "text": [
            "Parameter containing:\n",
            "tensor([[[[-0.3111,  0.1510,  0.1884],\n",
            "          [ 0.2903,  0.1909, -0.1012],\n",
            "          [-0.0337,  0.0261, -0.0060]]],\n",
            "\n",
            "\n",
            "        [[[-0.0897, -0.0023, -0.1301],\n",
            "          [-0.0250, -0.0726, -0.0410],\n",
            "          [-0.0617,  0.3100, -0.0420]]]], requires_grad=True)\n",
            "Parameter containing:\n",
            "tensor([ 0.1890, -0.0865], requires_grad=True)\n"
          ]
        }
      ]
    },
    {
      "cell_type": "code",
      "source": [
        "#hàm sinh ra data ngẫu nhiên\n",
        "data = torch.randn((1,7,7))\n",
        "print (data)"
      ],
      "metadata": {
        "colab": {
          "base_uri": "https://localhost:8080/"
        },
        "id": "fts3iuB1kAZP",
        "outputId": "d8228857-5eaa-4666-8cab-85ddb8554351"
      },
      "execution_count": 9,
      "outputs": [
        {
          "output_type": "stream",
          "name": "stdout",
          "text": [
            "tensor([[[-2.2660e+00, -2.1850e-01,  8.3923e-01, -6.0473e-03, -2.1842e+00,\n",
            "          -1.9854e+00, -2.9913e-01],\n",
            "         [ 2.2550e-01,  1.4847e+00, -7.8768e-01,  2.3811e-03, -1.1656e-01,\n",
            "           4.9633e-01,  5.3405e-01],\n",
            "         [ 1.6674e+00, -1.0932e+00, -2.1973e-01,  1.5255e+00,  4.3091e-01,\n",
            "           2.8957e-01,  2.1685e+00],\n",
            "         [ 9.8681e-01, -1.7475e+00,  1.6786e+00, -1.3536e+00,  5.7550e-01,\n",
            "           3.5971e-01,  5.0990e-01],\n",
            "         [-1.0265e+00,  3.3996e-01,  9.2173e-01,  2.7727e+00,  2.7079e-02,\n",
            "          -1.1504e-01, -1.8263e+00],\n",
            "         [ 3.4054e-01, -2.0770e-01, -1.0735e+00,  1.0125e+00, -5.4347e-01,\n",
            "           4.6061e-01,  1.0194e-01],\n",
            "         [ 1.1292e+00,  2.8722e-01, -1.0335e-01, -1.3506e+00,  1.1911e+00,\n",
            "          -1.5515e+00,  7.8800e-01]]])\n"
          ]
        }
      ]
    },
    {
      "cell_type": "code",
      "source": [
        "#train data\n",
        "output = conv_layer(data)\n",
        "print (output.shape)\n",
        "print (output)"
      ],
      "metadata": {
        "colab": {
          "base_uri": "https://localhost:8080/"
        },
        "id": "7F6EgnY0kXJu",
        "outputId": "e37a683e-3b60-402d-a69b-b92ac916429a"
      },
      "execution_count": 10,
      "outputs": [
        {
          "output_type": "stream",
          "name": "stdout",
          "text": [
            "torch.Size([2, 5, 5])\n",
            "tensor([[[ 1.3643,  0.6849, -0.6562, -0.6268,  0.4991],\n",
            "         [ 0.4033, -0.7942,  0.5010,  0.8184,  0.3486],\n",
            "         [-0.7154,  0.7294,  0.7806, -0.5775,  0.6984],\n",
            "         [-0.4025,  0.6981,  0.4308,  1.5354,  0.3609],\n",
            "         [ 0.8713,  0.3729,  0.2240, -0.4617, -0.3463]],\n",
            "\n",
            "        [[-0.5056, -0.1127,  0.6151,  0.1929,  0.0701],\n",
            "         [-0.6341,  0.4476, -0.6710,  0.0146, -0.2128],\n",
            "         [-0.0415, -0.0608,  0.7080, -0.4427, -0.4300],\n",
            "         [-0.4665, -0.3092, -0.1314, -0.3300,  0.0494],\n",
            "         [-0.0407, -0.4313, -0.6660,  0.1927, -0.4627]]],\n",
            "       grad_fn=<SqueezeBackward1>)\n"
          ]
        }
      ]
    },
    {
      "cell_type": "code",
      "source": [
        "model = nn.Sequential(conv_layer, nn.ReLU()) #model đi qua layer (kernel) và relu"
      ],
      "metadata": {
        "id": "yyw7rFkok44R"
      },
      "execution_count": 11,
      "outputs": []
    },
    {
      "cell_type": "code",
      "source": [
        "print (model)"
      ],
      "metadata": {
        "colab": {
          "base_uri": "https://localhost:8080/"
        },
        "id": "Ug8VYUkzlD1M",
        "outputId": "c29ce1bc-61b9-4324-9681-4f6867a4e380"
      },
      "execution_count": 12,
      "outputs": [
        {
          "output_type": "stream",
          "name": "stdout",
          "text": [
            "Sequential(\n",
            "  (0): Conv2d(1, 2, kernel_size=(3, 3), stride=(1, 1))\n",
            "  (1): ReLU()\n",
            ")\n"
          ]
        }
      ]
    },
    {
      "cell_type": "code",
      "source": [
        "from torchsummary import summary\n",
        "summary (model, (1,9,9))"
      ],
      "metadata": {
        "colab": {
          "base_uri": "https://localhost:8080/"
        },
        "id": "pyPO3XenlF9q",
        "outputId": "260511b6-7713-427d-8509-570081e530a2"
      },
      "execution_count": 13,
      "outputs": [
        {
          "output_type": "stream",
          "name": "stdout",
          "text": [
            "----------------------------------------------------------------\n",
            "        Layer (type)               Output Shape         Param #\n",
            "================================================================\n",
            "            Conv2d-1              [-1, 2, 7, 7]              20\n",
            "              ReLU-2              [-1, 2, 7, 7]               0\n",
            "================================================================\n",
            "Total params: 20\n",
            "Trainable params: 20\n",
            "Non-trainable params: 0\n",
            "----------------------------------------------------------------\n",
            "Input size (MB): 0.00\n",
            "Forward/backward pass size (MB): 0.00\n",
            "Params size (MB): 0.00\n",
            "Estimated Total Size (MB): 0.00\n",
            "----------------------------------------------------------------\n"
          ]
        }
      ]
    },
    {
      "cell_type": "code",
      "source": [
        "output = model(data)\n",
        "print (output)\n",
        "print (output.shape)"
      ],
      "metadata": {
        "colab": {
          "base_uri": "https://localhost:8080/"
        },
        "id": "VN6SSWEilRMk",
        "outputId": "3bc4229d-0b48-446b-af9b-7bd4f1a5dde4"
      },
      "execution_count": 15,
      "outputs": [
        {
          "output_type": "stream",
          "name": "stdout",
          "text": [
            "tensor([[[1.3643, 0.6849, 0.0000, 0.0000, 0.4991],\n",
            "         [0.4033, 0.0000, 0.5010, 0.8184, 0.3486],\n",
            "         [0.0000, 0.7294, 0.7806, 0.0000, 0.6984],\n",
            "         [0.0000, 0.6981, 0.4308, 1.5354, 0.3609],\n",
            "         [0.8713, 0.3729, 0.2240, 0.0000, 0.0000]],\n",
            "\n",
            "        [[0.0000, 0.0000, 0.6151, 0.1929, 0.0701],\n",
            "         [0.0000, 0.4476, 0.0000, 0.0146, 0.0000],\n",
            "         [0.0000, 0.0000, 0.7080, 0.0000, 0.0000],\n",
            "         [0.0000, 0.0000, 0.0000, 0.0000, 0.0494],\n",
            "         [0.0000, 0.0000, 0.0000, 0.1927, 0.0000]]], grad_fn=<ReluBackward0>)\n",
            "torch.Size([2, 5, 5])\n"
          ]
        }
      ]
    },
    {
      "cell_type": "code",
      "source": [
        "fullyConnectLayer = nn.Linear(7,10) #input có 7 số, output có 10, quan tâm đến chiều sâu"
      ],
      "metadata": {
        "id": "gdq2ajMFlcD2"
      },
      "execution_count": 18,
      "outputs": []
    },
    {
      "cell_type": "code",
      "source": [
        "output = fullyConnectLayer (data)\n",
        "print (output)"
      ],
      "metadata": {
        "colab": {
          "base_uri": "https://localhost:8080/"
        },
        "id": "DzBreJogmWKf",
        "outputId": "4bd05547-b25f-4cb0-87e0-6cc623489f41"
      },
      "execution_count": 19,
      "outputs": [
        {
          "output_type": "stream",
          "name": "stdout",
          "text": [
            "tensor([[[-0.4241,  1.8346, -0.1882, -0.8662, -1.2796,  0.7490,  0.2491,\n",
            "           0.4181, -0.4456,  1.5756],\n",
            "         [-0.4861,  0.2277, -0.1584,  0.3808,  0.0814, -0.4417, -0.6915,\n",
            "          -0.1086,  0.8229, -0.2163],\n",
            "         [ 0.1197,  0.4051,  0.4018,  0.0157,  1.7273, -0.6006, -0.9126,\n",
            "          -1.0255,  0.4780, -1.0628],\n",
            "         [ 0.5352,  0.3069,  0.6579, -0.5154,  0.2681, -0.0490,  0.3984,\n",
            "          -0.4976,  0.0596, -0.3747],\n",
            "         [-1.6662, -0.5618,  0.3317, -2.0492,  0.0512, -0.0701, -0.5751,\n",
            "           0.8351, -0.8550,  0.3188],\n",
            "         [-0.0824,  0.1768,  0.2340, -0.1498,  0.5237, -0.9706, -0.8932,\n",
            "          -0.5787,  0.6059, -0.3571],\n",
            "         [ 0.4040,  0.7208, -0.5842,  0.3859,  0.0316,  0.3964, -0.2741,\n",
            "          -0.9597,  0.8399, -0.4685]]], grad_fn=<ViewBackward0>)\n"
          ]
        }
      ]
    }
  ]
}