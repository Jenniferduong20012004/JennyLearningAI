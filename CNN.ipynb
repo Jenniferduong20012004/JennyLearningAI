{
  "nbformat": 4,
  "nbformat_minor": 0,
  "metadata": {
    "colab": {
      "provenance": [],
      "authorship_tag": "ABX9TyM+xnieomjyBeX1PHeUkS1D",
      "include_colab_link": true
    },
    "kernelspec": {
      "name": "python3",
      "display_name": "Python 3"
    },
    "language_info": {
      "name": "python"
    }
  },
  "cells": [
    {
      "cell_type": "markdown",
      "metadata": {
        "id": "view-in-github",
        "colab_type": "text"
      },
      "source": [
        "<a href=\"https://colab.research.google.com/github/Jenniferduong20012004/JennyLearningAI/blob/main/CNN.ipynb\" target=\"_parent\"><img src=\"https://colab.research.google.com/assets/colab-badge.svg\" alt=\"Open In Colab\"/></a>"
      ]
    },
    {
      "cell_type": "code",
      "execution_count": 1,
      "metadata": {
        "id": "ObnvRMSc6rda",
        "colab": {
          "base_uri": "https://localhost:8080/"
        },
        "outputId": "caf7af09-1766-4533-9001-8dc7fd3407c6"
      },
      "outputs": [
        {
          "output_type": "execute_result",
          "data": {
            "text/plain": [
              "tensor([[[4., 3., 0., 4., 3., 2.],\n",
              "         [0., 1., 4., 3., 3., 0.],\n",
              "         [2., 2., 2., 2., 3., 2.],\n",
              "         [0., 4., 3., 3., 1., 1.],\n",
              "         [2., 3., 4., 1., 2., 1.],\n",
              "         [1., 0., 1., 1., 0., 4.]]])"
            ]
          },
          "metadata": {},
          "execution_count": 1
        }
      ],
      "source": [
        "import torch\n",
        "input = torch.randint (5, (1,6,6), dtype = torch.float32)\n",
        "input\n",
        "\n"
      ]
    },
    {
      "cell_type": "code",
      "source": [
        "# tạo kernel\n",
        "conv_layer = torch.nn.Conv2d(\n",
        "    in_channels=1, #số lượng ma trận input\n",
        "    out_channels =1, # suố lượng ma trận output\n",
        "    kernel_size =3, # kernel 3 x 3\n",
        "    bias = False\n",
        ")\n",
        "conv_layer.weight #in ra trọng số"
      ],
      "metadata": {
        "colab": {
          "base_uri": "https://localhost:8080/"
        },
        "id": "BZEF1JGrPuJL",
        "outputId": "50ef4d95-6d58-4e81-f2e7-1e98684329ae"
      },
      "execution_count": null,
      "outputs": [
        {
          "output_type": "execute_result",
          "data": {
            "text/plain": [
              "Parameter containing:\n",
              "tensor([[[[ 0.2067, -0.0247, -0.0202],\n",
              "          [-0.2024, -0.0374,  0.2953],\n",
              "          [-0.2067,  0.0532, -0.1470]]]], requires_grad=True)"
            ]
          },
          "metadata": {},
          "execution_count": 7
        }
      ]
    },
    {
      "cell_type": "code",
      "source": [
        "init_kernel_weight = torch.randint(\n",
        "    high = 2,\n",
        "    size = (conv_layer.weight.data.shape),\n",
        "    dtype = torch.float32\n",
        ")\n",
        "init_kernel_weight"
      ],
      "metadata": {
        "colab": {
          "base_uri": "https://localhost:8080/"
        },
        "id": "TGNZNVf_RDf_",
        "outputId": "f11d5339-3fb9-4a24-9d8e-96faf567ede5"
      },
      "execution_count": null,
      "outputs": [
        {
          "output_type": "execute_result",
          "data": {
            "text/plain": [
              "tensor([[[[1., 0., 1.],\n",
              "          [1., 0., 0.],\n",
              "          [0., 1., 1.]]]])"
            ]
          },
          "metadata": {},
          "execution_count": 8
        }
      ]
    },
    {
      "cell_type": "code",
      "source": [
        "conv_layer.weight.data = init_kernel_weight"
      ],
      "metadata": {
        "id": "oy8rRbEkRVQO"
      },
      "execution_count": null,
      "outputs": []
    },
    {
      "cell_type": "code",
      "source": [
        "conv_layer.weight"
      ],
      "metadata": {
        "colab": {
          "base_uri": "https://localhost:8080/"
        },
        "id": "ZV33lPBYRbWw",
        "outputId": "77653e4f-e43d-478d-f6a1-171b9303a3b6"
      },
      "execution_count": null,
      "outputs": [
        {
          "output_type": "execute_result",
          "data": {
            "text/plain": [
              "Parameter containing:\n",
              "tensor([[[[1., 0., 1.],\n",
              "          [1., 0., 0.],\n",
              "          [0., 1., 1.]]]], requires_grad=True)"
            ]
          },
          "metadata": {},
          "execution_count": 10
        }
      ]
    },
    {
      "cell_type": "code",
      "source": [
        "output = conv_layer(input) #nhân elemental wise\n",
        "output"
      ],
      "metadata": {
        "colab": {
          "base_uri": "https://localhost:8080/"
        },
        "id": "RPR1ibVBRfoQ",
        "outputId": "6a641f35-5af4-4f53-e0b4-3c4808875e06"
      },
      "execution_count": null,
      "outputs": [
        {
          "output_type": "execute_result",
          "data": {
            "text/plain": [
              "tensor([[[11.,  9.,  9., 11.],\n",
              "         [10.,  8.,  9., 11.],\n",
              "         [ 9.,  9.,  8.,  5.],\n",
              "         [ 6., 14., 15.,  7.]]], grad_fn=<SqueezeBackward1>)"
            ]
          },
          "metadata": {},
          "execution_count": 11
        }
      ]
    },
    {
      "cell_type": "code",
      "source": [
        "conv_layer.bias = torch.nn.Parameter(\n",
        "    torch.tensor ([1], dtype = torch.float32)\n",
        ")\n",
        "conv_layer.bias"
      ],
      "metadata": {
        "colab": {
          "base_uri": "https://localhost:8080/"
        },
        "id": "LgkAOqNVVBdr",
        "outputId": "3978cd56-bf80-45f7-9850-f24168b9c94c"
      },
      "execution_count": null,
      "outputs": [
        {
          "output_type": "execute_result",
          "data": {
            "text/plain": [
              "Parameter containing:\n",
              "tensor([1.], requires_grad=True)"
            ]
          },
          "metadata": {},
          "execution_count": 12
        }
      ]
    },
    {
      "cell_type": "code",
      "source": [
        "#nhân bias\n",
        "output = conv_layer(input)\n",
        "output"
      ],
      "metadata": {
        "colab": {
          "base_uri": "https://localhost:8080/"
        },
        "id": "uIu27yxmVZoU",
        "outputId": "87572c0c-96df-4de0-86c2-1b3a62a4def4"
      },
      "execution_count": null,
      "outputs": [
        {
          "output_type": "execute_result",
          "data": {
            "text/plain": [
              "tensor([[[12., 10., 10., 12.],\n",
              "         [11.,  9., 10., 12.],\n",
              "         [10., 10.,  9.,  6.],\n",
              "         [ 7., 15., 16.,  8.]]], grad_fn=<SqueezeBackward1>)"
            ]
          },
          "metadata": {},
          "execution_count": 13
        }
      ]
    },
    {
      "cell_type": "code",
      "source": [
        "#padding\n",
        "conv = torch.nn.Conv2d(\n",
        "    in_channels =1,\n",
        "    out_channels = 1,\n",
        "    kernel_size = 3,\n",
        "    padding = 'same'\n",
        ")\n",
        "conv"
      ],
      "metadata": {
        "colab": {
          "base_uri": "https://localhost:8080/"
        },
        "id": "jpKy-vo1ePyI",
        "outputId": "209f4cfa-fd02-477c-af1a-26bddf76e543"
      },
      "execution_count": null,
      "outputs": [
        {
          "output_type": "execute_result",
          "data": {
            "text/plain": [
              "Conv2d(1, 1, kernel_size=(3, 3), stride=(1, 1), padding=same)"
            ]
          },
          "metadata": {},
          "execution_count": 14
        }
      ]
    },
    {
      "cell_type": "code",
      "source": [
        "conv.weight.data = init_kernel_weight\n",
        "conv.weight"
      ],
      "metadata": {
        "colab": {
          "base_uri": "https://localhost:8080/"
        },
        "id": "ott6OPfEfYIl",
        "outputId": "5eb0144f-7cae-4fac-8452-5a7778cf5533"
      },
      "execution_count": null,
      "outputs": [
        {
          "output_type": "execute_result",
          "data": {
            "text/plain": [
              "Parameter containing:\n",
              "tensor([[[[1., 0., 1.],\n",
              "          [1., 0., 0.],\n",
              "          [0., 1., 1.]]]], requires_grad=True)"
            ]
          },
          "metadata": {},
          "execution_count": 16
        }
      ]
    },
    {
      "cell_type": "code",
      "source": [
        "#bias\n",
        "conv.bias = torch.nn.Parameter(\n",
        "    torch.tensor ([1], dtype = torch.float32)\n",
        ")\n",
        "conv.bias"
      ],
      "metadata": {
        "colab": {
          "base_uri": "https://localhost:8080/"
        },
        "id": "eK0GAbJzfjpU",
        "outputId": "59af2c0b-f4c4-4e0e-94a5-ee7f9c8b1860"
      },
      "execution_count": null,
      "outputs": [
        {
          "output_type": "execute_result",
          "data": {
            "text/plain": [
              "Parameter containing:\n",
              "tensor([1.], requires_grad=True)"
            ]
          },
          "metadata": {},
          "execution_count": 18
        }
      ]
    },
    {
      "cell_type": "code",
      "source": [
        "output = conv (input)\n",
        "output"
      ],
      "metadata": {
        "colab": {
          "base_uri": "https://localhost:8080/"
        },
        "id": "5xuNvCTPeudg",
        "outputId": "bf16f6e2-b601-4836-f5ae-2fb83425e717"
      },
      "execution_count": null,
      "outputs": [
        {
          "output_type": "execute_result",
          "data": {
            "text/plain": [
              "tensor([[[ 5.,  4.,  6., 11.,  8.,  2.],\n",
              "         [ 6., 12., 10., 10., 12.,  6.],\n",
              "         [ 5., 11.,  9., 10., 12., 11.],\n",
              "         [ 6., 10., 10.,  9.,  6.,  7.],\n",
              "         [ 8.,  7., 15., 16.,  8.,  5.],\n",
              "         [ 5.,  8.,  5.,  8.,  4.,  5.]]], grad_fn=<SqueezeBackward1>)"
            ]
          },
          "metadata": {},
          "execution_count": 19
        }
      ]
    },
    {
      "cell_type": "code",
      "source": [
        "#padding cho khác nhau\n",
        "conv = torch.nn.Conv2d(\n",
        "    in_channels =1,\n",
        "    out_channels = 1,\n",
        "    kernel_size = 3,\n",
        "    padding = (3,2)\n",
        ")\n",
        "conv"
      ],
      "metadata": {
        "colab": {
          "base_uri": "https://localhost:8080/"
        },
        "id": "j4ClwluXhWuB",
        "outputId": "f3e7503d-e3b3-4961-a09b-de03093ff322"
      },
      "execution_count": null,
      "outputs": [
        {
          "output_type": "execute_result",
          "data": {
            "text/plain": [
              "Conv2d(1, 1, kernel_size=(3, 3), stride=(1, 1), padding=(3, 2))"
            ]
          },
          "metadata": {},
          "execution_count": 20
        }
      ]
    },
    {
      "cell_type": "code",
      "source": [
        "conv.weight.data = init_kernel_weight\n",
        "conv.weight"
      ],
      "metadata": {
        "colab": {
          "base_uri": "https://localhost:8080/"
        },
        "id": "DIpdPp5Jhmkl",
        "outputId": "34ad50e1-48c9-4018-8dcc-f3e89e45e1b0"
      },
      "execution_count": null,
      "outputs": [
        {
          "output_type": "execute_result",
          "data": {
            "text/plain": [
              "Parameter containing:\n",
              "tensor([[[[1., 0., 1.],\n",
              "          [1., 0., 0.],\n",
              "          [0., 1., 1.]]]], requires_grad=True)"
            ]
          },
          "metadata": {},
          "execution_count": 23
        }
      ]
    },
    {
      "cell_type": "code",
      "source": [
        "#bias\n",
        "conv.bias = torch.nn.Parameter(\n",
        "    torch.tensor ([1], dtype = torch.float32)\n",
        ")\n",
        "conv.bias"
      ],
      "metadata": {
        "colab": {
          "base_uri": "https://localhost:8080/"
        },
        "id": "rd2AzmRghcu9",
        "outputId": "0ca4304d-3374-43bc-d755-94a1494ff30a"
      },
      "execution_count": null,
      "outputs": [
        {
          "output_type": "execute_result",
          "data": {
            "text/plain": [
              "Parameter containing:\n",
              "tensor([1.], requires_grad=True)"
            ]
          },
          "metadata": {},
          "execution_count": 24
        }
      ]
    },
    {
      "cell_type": "code",
      "source": [
        "output = conv (input)\n",
        "output"
      ],
      "metadata": {
        "colab": {
          "base_uri": "https://localhost:8080/"
        },
        "id": "3jz_q9dghhxy",
        "outputId": "f83057df-c81e-407b-8050-f214b45dcbaf"
      },
      "execution_count": null,
      "outputs": [
        {
          "output_type": "execute_result",
          "data": {
            "text/plain": [
              "tensor([[[ 1.,  1.,  1.,  1.,  1.,  1.,  1.,  1.],\n",
              "         [ 3.,  6.,  8.,  7.,  3.,  4.,  4.,  1.],\n",
              "         [ 4.,  5.,  4.,  6., 11.,  8.,  2.,  4.],\n",
              "         [ 4.,  6., 12., 10., 10., 12.,  6.,  5.],\n",
              "         [ 4.,  5., 11.,  9., 10., 12., 11.,  3.],\n",
              "         [ 2.,  6., 10., 10.,  9.,  6.,  7.,  5.],\n",
              "         [ 5.,  8.,  7., 15., 16.,  8.,  5.,  4.],\n",
              "         [ 1.,  5.,  8.,  5.,  8.,  4.,  5.,  1.],\n",
              "         [ 5.,  1.,  8.,  4.,  7.,  4.,  4.,  1.],\n",
              "         [ 1.,  1.,  1.,  1.,  1.,  1.,  1.,  1.]]],\n",
              "       grad_fn=<SqueezeBackward1>)"
            ]
          },
          "metadata": {},
          "execution_count": 25
        }
      ]
    },
    {
      "cell_type": "code",
      "source": [
        "#padding cho khác nhau\n",
        "conv = torch.nn.Conv2d(\n",
        "    in_channels =1,\n",
        "    out_channels = 1,\n",
        "    kernel_size = 3,\n",
        "    padding = (2,3),\n",
        "    stride = 2\n",
        ")\n",
        "conv"
      ],
      "metadata": {
        "colab": {
          "base_uri": "https://localhost:8080/"
        },
        "id": "WXlEP-7mo51u",
        "outputId": "2eaff48e-8dbc-4710-8d05-779d33093a3b"
      },
      "execution_count": null,
      "outputs": [
        {
          "output_type": "execute_result",
          "data": {
            "text/plain": [
              "Conv2d(1, 1, kernel_size=(3, 3), stride=(2, 2), padding=(2, 3))"
            ]
          },
          "metadata": {},
          "execution_count": 32
        }
      ]
    },
    {
      "cell_type": "code",
      "source": [
        "conv.weight.data = init_kernel_weight\n",
        "conv.weight"
      ],
      "metadata": {
        "colab": {
          "base_uri": "https://localhost:8080/"
        },
        "id": "N0-TC2_Oo-1m",
        "outputId": "0e9bed2f-e39b-432c-e12a-6d048dac20c9"
      },
      "execution_count": null,
      "outputs": [
        {
          "output_type": "execute_result",
          "data": {
            "text/plain": [
              "Parameter containing:\n",
              "tensor([[[[1., 0., 1.],\n",
              "          [1., 0., 0.],\n",
              "          [0., 1., 1.]]]], requires_grad=True)"
            ]
          },
          "metadata": {},
          "execution_count": 33
        }
      ]
    },
    {
      "cell_type": "code",
      "source": [
        "#bias\n",
        "conv.bias = torch.nn.Parameter(\n",
        "    torch.tensor ([1], dtype = torch.float32)\n",
        ")\n",
        "conv.bias"
      ],
      "metadata": {
        "colab": {
          "base_uri": "https://localhost:8080/"
        },
        "id": "DP4mqcW5pBXE",
        "outputId": "a59b1797-5fdb-49f5-f446-4f59d0d410c5"
      },
      "execution_count": null,
      "outputs": [
        {
          "output_type": "execute_result",
          "data": {
            "text/plain": [
              "Parameter containing:\n",
              "tensor([1.], requires_grad=True)"
            ]
          },
          "metadata": {},
          "execution_count": 34
        }
      ]
    },
    {
      "cell_type": "code",
      "source": [
        "output = conv (input)\n",
        "output"
      ],
      "metadata": {
        "colab": {
          "base_uri": "https://localhost:8080/"
        },
        "id": "_ZDKS_PipD36",
        "outputId": "a9ac0653-8614-4ca6-c2c1-f0a6cb7c0ec2"
      },
      "execution_count": null,
      "outputs": [
        {
          "output_type": "execute_result",
          "data": {
            "text/plain": [
              "tensor([[[ 1.,  6.,  7.,  4.,  1.],\n",
              "         [ 1.,  6., 10., 12.,  5.],\n",
              "         [ 1.,  6., 10.,  6.,  5.],\n",
              "         [ 1.,  5.,  5.,  4.,  1.]]], grad_fn=<SqueezeBackward1>)"
            ]
          },
          "metadata": {},
          "execution_count": 35
        }
      ]
    },
    {
      "cell_type": "code",
      "source": [
        "maxPolLayer = torch.nn.MaxPool2d(kernel_size=2)\n",
        "#default stride =2"
      ],
      "metadata": {
        "id": "0HnykJuftT3C"
      },
      "execution_count": null,
      "outputs": []
    },
    {
      "cell_type": "code",
      "source": [
        "output = maxPolLayer(input)\n",
        "output"
      ],
      "metadata": {
        "colab": {
          "base_uri": "https://localhost:8080/"
        },
        "id": "o5J77ipKtaXN",
        "outputId": "4ab98cf0-14d0-4dee-a4ee-98febcf02221"
      },
      "execution_count": null,
      "outputs": [
        {
          "output_type": "execute_result",
          "data": {
            "text/plain": [
              "tensor([[[3., 4., 4.],\n",
              "         [3., 3., 3.],\n",
              "         [4., 3., 3.]]])"
            ]
          },
          "metadata": {},
          "execution_count": 37
        }
      ]
    },
    {
      "cell_type": "code",
      "source": [
        "maxPolLayer = torch.nn.MaxPool1d(kernel_size=3)\n",
        "#default stride =2"
      ],
      "metadata": {
        "id": "V4TCc3wduXor"
      },
      "execution_count": null,
      "outputs": []
    },
    {
      "cell_type": "code",
      "source": [
        "output = maxPolLayer(input)\n",
        "output"
      ],
      "metadata": {
        "colab": {
          "base_uri": "https://localhost:8080/"
        },
        "id": "rV3jBaqHuaRy",
        "outputId": "7f86fb2b-79f6-476b-d5be-e5e0cf21430e"
      },
      "execution_count": null,
      "outputs": [
        {
          "output_type": "execute_result",
          "data": {
            "text/plain": [
              "tensor([[[4., 3.],\n",
              "         [3., 4.],\n",
              "         [1., 3.],\n",
              "         [3., 3.],\n",
              "         [4., 1.],\n",
              "         [4., 3.]]])"
            ]
          },
          "metadata": {},
          "execution_count": 39
        }
      ]
    },
    {
      "cell_type": "code",
      "source": [
        "avgPolLayer = torch.nn.AvgPool1d(\n",
        "    kernel_size=3,\n",
        "    stride =3\n",
        ")"
      ],
      "metadata": {
        "id": "es1ZkRJq7xn_"
      },
      "execution_count": null,
      "outputs": []
    },
    {
      "cell_type": "code",
      "source": [
        "output = avgPolLayer(input)"
      ],
      "metadata": {
        "id": "qM8OOzfH79x7"
      },
      "execution_count": null,
      "outputs": []
    },
    {
      "cell_type": "code",
      "source": [
        "#model\n",
        "model = torch.nn.Sequential(\n",
        "    torch.nn.Flatten(), #biến thành vector\n",
        "    torch.nn.Linear(784, 256), #một hidden layer có 256 nodes nối với 784 nodes phía trước\n",
        "    torch.nn.ReLU(), #có thể thay thế bằng sigmoid tính a\n",
        "    torch.nn.Linear (256,10)\n",
        ")"
      ],
      "metadata": {
        "id": "lPICZ_icDQQP"
      },
      "execution_count": 2,
      "outputs": []
    },
    {
      "cell_type": "code",
      "source": [
        "criterion = torch.nn.CrossEntropyLoss()\n",
        "optimizer = torch.optim.Adam(model.parameters(),\n",
        "                             lr = 0.01)"
      ],
      "metadata": {
        "id": "7KKey-47VqLx"
      },
      "execution_count": 4,
      "outputs": []
    },
    {
      "cell_type": "code",
      "source": [
        "import tensorflow as tf\n",
        "from tensorflow import keras\n",
        "\n",
        "(train_images, train_labels), (test_images, test_labels) = keras.datasets.fashion_mnist.load_data()\n",
        "\n",
        "print(train_images.shape)\n",
        "print(test_images.shape)"
      ],
      "metadata": {
        "colab": {
          "base_uri": "https://localhost:8080/"
        },
        "id": "Po-fPuzuWxvR",
        "outputId": "8675b7ba-1e69-41ea-d934-e3c7cc987735"
      },
      "execution_count": 5,
      "outputs": [
        {
          "output_type": "stream",
          "name": "stdout",
          "text": [
            "Downloading data from https://storage.googleapis.com/tensorflow/tf-keras-datasets/train-labels-idx1-ubyte.gz\n",
            "29515/29515 [==============================] - 0s 0us/step\n",
            "Downloading data from https://storage.googleapis.com/tensorflow/tf-keras-datasets/train-images-idx3-ubyte.gz\n",
            "26421880/26421880 [==============================] - 0s 0us/step\n",
            "Downloading data from https://storage.googleapis.com/tensorflow/tf-keras-datasets/t10k-labels-idx1-ubyte.gz\n",
            "5148/5148 [==============================] - 0s 0us/step\n",
            "Downloading data from https://storage.googleapis.com/tensorflow/tf-keras-datasets/t10k-images-idx3-ubyte.gz\n",
            "4422102/4422102 [==============================] - 0s 0us/step\n",
            "(60000, 28, 28)\n",
            "(10000, 28, 28)\n"
          ]
        }
      ]
    },
    {
      "cell_type": "code",
      "source": [
        "#reshape\n",
        "train_images = train_images / 255.0\n",
        "test_images  = test_images / 255.0\n",
        "\n",
        "train_images = tf.reshape(train_images, (60000, 28, 28, 1))\n",
        "test_images  = tf.reshape(test_images, (10000, 28, 28, 1))\n",
        "\n",
        "print(train_images.shape)\n",
        "print(test_images.shape)"
      ],
      "metadata": {
        "colab": {
          "base_uri": "https://localhost:8080/"
        },
        "id": "l69ypVJJc4TG",
        "outputId": "aac4ce96-2839-4f88-dc40-c9f964523ab8"
      },
      "execution_count": 6,
      "outputs": [
        {
          "output_type": "stream",
          "name": "stdout",
          "text": [
            "(60000, 28, 28, 1)\n",
            "(10000, 28, 28, 1)\n"
          ]
        }
      ]
    }
  ]
}