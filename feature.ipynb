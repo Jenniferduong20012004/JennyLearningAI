{
 "cells": [
  {
   "cell_type": "code",
   "execution_count": 1,
   "id": "436c3dba",
   "metadata": {},
   "outputs": [],
   "source": [
    "import cv2\n",
    "image = cv2.imread('F:\\DeepLearningHVUS\\z6264508233466_0e3f0365c70737a597dc3bee28478847.jpg')\n",
    "cv2.imshow('My Image',image)\n",
    "cv2.waitKey(0)\n",
    "cv2.destroyAllWindows()"
   ]
  },
  {
   "cell_type": "code",
   "execution_count": 7,
   "id": "4517983a",
   "metadata": {},
   "outputs": [],
   "source": [
    "#gaussian\n",
    "gray = cv2.cvtColor(image, cv2.COLOR_BGR2GRAY)\n",
    "gray = cv2.GaussianBlur(gray, (5,5), 0)\n",
    "cv2.imshow('After Gaussian',gray)\n",
    "cv2.waitKey(0)\n",
    "cv2.destroyAllWindows()"
   ]
  },
  {
   "cell_type": "code",
   "execution_count": 12,
   "id": "43461bad",
   "metadata": {},
   "outputs": [],
   "source": [
    "sobelx = cv2.Sobel (gray, cv2.CV_64F, 1, 0, 5)\n",
    "sobely = cv2.Sobel (gray, cv2.CV_64F, 0, 1, 5)\n",
    "sobelxy = cv2.Sobel(gray, cv2.CV_64F,1,1,5)\n",
    "cv2.imshow('Sobel XY',sobelxy)\n",
    "cv2.waitKey(0)\n",
    "cv2.destroyAllWindows()\n"
   ]
  },
  {
   "cell_type": "code",
   "execution_count": 18,
   "id": "408dac5c",
   "metadata": {},
   "outputs": [],
   "source": [
    "edges = cv2.Canny (gray, 0,50)\n",
    "cv2.imshow('Canny',edges)\n",
    "cv2.waitKey(0)\n",
    "cv2.destroyAllWindows()"
   ]
  },
  {
   "cell_type": "code",
   "execution_count": 64,
   "id": "8392b928",
   "metadata": {},
   "outputs": [],
   "source": [
    "import cv2\n",
    "import numpy as np\n",
    "image = cv2.imread('F:\\\\DeepLearningHVUS\\\\image.png')\n",
    "gray = cv2.cvtColor(image, cv2.COLOR_BGR2GRAY)\n",
    "gray = cv2.GaussianBlur(gray, (5, 5), 0)\n",
    "_, binary = cv2.threshold(gray, 0, 255, cv2.THRESH_BINARY_INV + cv2.THRESH_OTSU)\n",
    "horizontal_kernel = cv2.getStructuringElement(cv2.MORPH_RECT, (20, 1))\n",
    "detected_lines = cv2.morphologyEx(binary, cv2.MORPH_OPEN, horizontal_kernel, iterations=2)\n",
    "no_lines = cv2.subtract(binary, detected_lines)\n",
    "result = cv2.bitwise_not(no_lines)\n",
    "cv2.imshow('No Horizontal Lines', result)\n",
    "cv2.waitKey(0)\n",
    "cv2.destroyAllWindows()\n"
   ]
  },
  {
   "cell_type": "markdown",
   "id": "85b0d5b4",
   "metadata": {},
   "source": []
  },
  {
   "cell_type": "code",
   "execution_count": 3,
   "id": "f54c70a0",
   "metadata": {},
   "outputs": [],
   "source": [
    "#Corner detection\n",
    "import cv2\n",
    "image = cv2.imread('F:\\DeepLearningHVUS\\z6264508233466_0e3f0365c70737a597dc3bee28478847.jpg')\n",
    "image = cv2.cvtColor(image, cv2.COLOR_BGR2GRAY)\n",
    "corn = cv2.cornerHarris(image,blockSize=10, ksize=7, k=0.04)\n",
    "cv2.imshow('My Image',corn)\n",
    "cv2.waitKey(0)\n",
    "cv2.destroyAllWindows()"
   ]
  },
  {
   "cell_type": "code",
   "execution_count": 2,
   "id": "963a68bb",
   "metadata": {},
   "outputs": [],
   "source": [
    "#Corner detection\n",
    "import numpy as np\n",
    "import cv2\n",
    "image = cv2.imread('F:\\DeepLearningHVUS\\z6264508233466_0e3f0365c70737a597dc3bee28478847.jpg')\n",
    "image = cv2.cvtColor(image, cv2.COLOR_BGR2GRAY)\n",
    "image = cv2.GaussianBlur(image, (5,5),0)\n",
    "corn = cv2.goodFeaturesToTrack(\n",
    "    image,\n",
    "    maxCorners=100,      \n",
    "    qualityLevel=0.01,   \n",
    "    minDistance=100\n",
    ")\n",
    "corners = np.intp(corn)\n",
    "for i in corners:\n",
    "    x, y = i.ravel()\n",
    "    cv2.circle(image, (x, y), 5, (0, 255, 0), -1)\n",
    "cv2.imshow('My Image',image)\n",
    "cv2.waitKey(0)\n",
    "cv2.destroyAllWindows()"
   ]
  },
  {
   "cell_type": "code",
   "execution_count": 4,
   "id": "584d303f",
   "metadata": {},
   "outputs": [],
   "source": [
    "# histogram\n",
    "import numpy as np\n",
    "import cv2\n",
    "image = cv2.imread('F:\\DeepLearningHVUS\\z6264508233466_0e3f0365c70737a597dc3bee28478847.jpg')\n",
    "hist =cv2.calcHist([image], [0], None, [256], [0, 256])"
   ]
  }
 ],
 "metadata": {
  "kernelspec": {
   "display_name": "base",
   "language": "python",
   "name": "python3"
  },
  "language_info": {
   "codemirror_mode": {
    "name": "ipython",
    "version": 3
   },
   "file_extension": ".py",
   "mimetype": "text/x-python",
   "name": "python",
   "nbconvert_exporter": "python",
   "pygments_lexer": "ipython3",
   "version": "3.11.7"
  }
 },
 "nbformat": 4,
 "nbformat_minor": 5
}
