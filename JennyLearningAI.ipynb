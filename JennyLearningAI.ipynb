{
  "nbformat": 4,
  "nbformat_minor": 0,
  "metadata": {
    "colab": {
      "provenance": [],
      "authorship_tag": "ABX9TyOwjufILQ7N3k7FUN9uaflY",
      "include_colab_link": true
    },
    "kernelspec": {
      "name": "python3",
      "display_name": "Python 3"
    },
    "language_info": {
      "name": "python"
    }
  },
  "cells": [
    {
      "cell_type": "markdown",
      "metadata": {
        "id": "view-in-github",
        "colab_type": "text"
      },
      "source": [
        "<a href=\"https://colab.research.google.com/github/Jenniferduong20012004/JennyLearningAI/blob/main/JennyLearningAI.ipynb\" target=\"_parent\"><img src=\"https://colab.research.google.com/assets/colab-badge.svg\" alt=\"Open In Colab\"/></a>"
      ]
    },
    {
      "cell_type": "code",
      "source": [
        "import math\n",
        "n1 = 2\n",
        "print (math.fabs(n1))"
      ],
      "metadata": {
        "colab": {
          "base_uri": "https://localhost:8080/"
        },
        "id": "EJQUajAaSpqr",
        "outputId": "86e96261-2de2-4d38-c3ac-5be32fad4c54"
      },
      "execution_count": null,
      "outputs": [
        {
          "output_type": "stream",
          "name": "stdout",
          "text": [
            "2.0\n"
          ]
        }
      ]
    },
    {
      "cell_type": "code",
      "source": [
        "print (math.log(n1))"
      ],
      "metadata": {
        "colab": {
          "base_uri": "https://localhost:8080/"
        },
        "id": "-7_TQUbaVZwY",
        "outputId": "a44f03d4-8e00-4843-ec30-401ffee731bc"
      },
      "execution_count": null,
      "outputs": [
        {
          "output_type": "stream",
          "name": "stdout",
          "text": [
            "0.6931471805599453\n"
          ]
        }
      ]
    },
    {
      "cell_type": "code",
      "source": [
        "print (math.sin(math.radians(90)))"
      ],
      "metadata": {
        "colab": {
          "base_uri": "https://localhost:8080/"
        },
        "id": "DYJFVRznXktm",
        "outputId": "62f4e9c9-8350-4a55-bd21-b23d75b2d329"
      },
      "execution_count": null,
      "outputs": [
        {
          "output_type": "stream",
          "name": "stdout",
          "text": [
            "1.0\n"
          ]
        }
      ]
    },
    {
      "cell_type": "code",
      "source": [
        "#softmax function\n",
        "import math\n",
        "c1 = 1\n",
        "c2 =2\n",
        "total = math.exp(c1)+math.exp(c2)\n",
        "pro_c1 = math.exp(c1)/total\n",
        "pro_c2 = math.exp (c2)/total\n",
        "print (pro_c1, pro_c2)"
      ],
      "metadata": {
        "colab": {
          "base_uri": "https://localhost:8080/"
        },
        "id": "VWqbpQhGas8N",
        "outputId": "ffc875b3-eb3b-4048-c1a6-f1ba5dbfdbd6"
      },
      "execution_count": 2,
      "outputs": [
        {
          "output_type": "stream",
          "name": "stdout",
          "text": [
            "0.2689414213699951 0.7310585786300049\n"
          ]
        }
      ]
    },
    {
      "cell_type": "code",
      "source": [
        "#fix overflow and underflow with softmax function\n"
      ],
      "metadata": {
        "id": "Yn3clh_WbKVG"
      },
      "execution_count": null,
      "outputs": []
    }
  ]
}